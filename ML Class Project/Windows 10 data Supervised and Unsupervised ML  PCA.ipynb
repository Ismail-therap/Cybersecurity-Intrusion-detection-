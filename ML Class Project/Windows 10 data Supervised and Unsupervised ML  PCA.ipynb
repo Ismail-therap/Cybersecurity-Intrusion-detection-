{
 "cells": [
  {
   "cell_type": "markdown",
   "id": "62f61eef",
   "metadata": {},
   "source": [
    "# Read data from R and process "
   ]
  },
  {
   "cell_type": "code",
   "execution_count": 11,
   "id": "184fcc37",
   "metadata": {},
   "outputs": [],
   "source": [
    "df <- read.csv(\"C:/Users/stati/OneDrive/Desktop/Research/windows10_dataset.csv\")\n",
    "df <- na.omit(df)"
   ]
  },
  {
   "cell_type": "code",
   "execution_count": 12,
   "id": "befb095f",
   "metadata": {},
   "outputs": [],
   "source": [
    "df = Filter(function(x)(length(unique(x))>1), df)"
   ]
  },
  {
   "cell_type": "code",
   "execution_count": 13,
   "id": "5ccd92b6",
   "metadata": {},
   "outputs": [
    {
     "data": {
      "text/html": [
       "<ol class=list-inline>\n",
       "\t<li>35214</li>\n",
       "\t<li>108</li>\n",
       "</ol>\n"
      ],
      "text/latex": [
       "\\begin{enumerate*}\n",
       "\\item 35214\n",
       "\\item 108\n",
       "\\end{enumerate*}\n"
      ],
      "text/markdown": [
       "1. 35214\n",
       "2. 108\n",
       "\n",
       "\n"
      ],
      "text/plain": [
       "[1] 35214   108"
      ]
     },
     "metadata": {},
     "output_type": "display_data"
    }
   ],
   "source": [
    "dim(df)"
   ]
  },
  {
   "cell_type": "code",
   "execution_count": 5,
   "id": "c7df8d62",
   "metadata": {},
   "outputs": [],
   "source": [
    "write.csv(df,'C:/Users/stati/OneDrive/Desktop/Research/windows10_dataset_processed.csv')"
   ]
  },
  {
   "cell_type": "markdown",
   "id": "94878d3d",
   "metadata": {},
   "source": [
    "# Required Libraries"
   ]
  },
  {
   "cell_type": "markdown",
   "id": "dfc3ddfe",
   "metadata": {},
   "source": [
    "We are going to use Windows 10 system generated values to predict whether the system is under cyber attack or not !"
   ]
  },
  {
   "cell_type": "code",
   "execution_count": 8,
   "id": "cd532bb5",
   "metadata": {},
   "outputs": [],
   "source": [
    "import numpy as np\n",
    "from numpy.ma.core import ceil\n",
    "from scipy.spatial import distance #distance calculation\n",
    "from sklearn.preprocessing import MinMaxScaler #normalisation\n",
    "from sklearn.model_selection import train_test_split\n",
    "from sklearn.metrics import accuracy_score #scoring\n",
    "from sklearn.metrics import confusion_matrix\n",
    "import matplotlib.pyplot as plt\n",
    "from matplotlib import animation, colors"
   ]
  },
  {
   "cell_type": "markdown",
   "id": "ecf929dc",
   "metadata": {},
   "source": [
    "# Loading the data and EDA\n"
   ]
  },
  {
   "cell_type": "code",
   "execution_count": 16,
   "id": "5daed5af",
   "metadata": {},
   "outputs": [],
   "source": [
    "# Set the working directory\n",
    "import os\n",
    "os.chdir(\"C:/Users/stati/OneDrive/Desktop/Research\")"
   ]
  },
  {
   "cell_type": "code",
   "execution_count": 43,
   "id": "4c0f629a",
   "metadata": {},
   "outputs": [],
   "source": [
    "import pandas as pd\n",
    "df = pd.read_csv('windows10_dataset_processed.csv',encoding='latin-1')"
   ]
  },
  {
   "cell_type": "code",
   "execution_count": 44,
   "id": "c19f733a",
   "metadata": {},
   "outputs": [
    {
     "data": {
      "text/html": [
       "<div>\n",
       "<style scoped>\n",
       "    .dataframe tbody tr th:only-of-type {\n",
       "        vertical-align: middle;\n",
       "    }\n",
       "\n",
       "    .dataframe tbody tr th {\n",
       "        vertical-align: top;\n",
       "    }\n",
       "\n",
       "    .dataframe thead th {\n",
       "        text-align: right;\n",
       "    }\n",
       "</style>\n",
       "<table border=\"1\" class=\"dataframe\">\n",
       "  <thead>\n",
       "    <tr style=\"text-align: right;\">\n",
       "      <th></th>\n",
       "      <th>Unnamed: 0</th>\n",
       "      <th>ï..ts</th>\n",
       "      <th>Processor_DPC_Rate</th>\n",
       "      <th>Processor_pct_.Idle_Time</th>\n",
       "      <th>Processor_pct_.Interrupt_Time</th>\n",
       "      <th>Processor_pct_.User_Time</th>\n",
       "      <th>Processor_pct_.C1_Time</th>\n",
       "      <th>Processor_pct_.Processor_Time</th>\n",
       "      <th>Processor_C1_ransitions_sec</th>\n",
       "      <th>Processor_pct_.DPC_Time</th>\n",
       "      <th>...</th>\n",
       "      <th>LogicalDisk._Total..Avg..Disk.Write.Queue.Length</th>\n",
       "      <th>LogicalDisk._Total..Avg..Disk.Queue.Length</th>\n",
       "      <th>LogicalDisk._Total..pct_.Disk.Read.Time</th>\n",
       "      <th>LogicalDisk._Total..Disk.Write.Bytes.sec</th>\n",
       "      <th>LogicalDisk._Total..Disk.Transfers.sec</th>\n",
       "      <th>LogicalDisk._Total..Avg..Disk.Bytes.Transfer</th>\n",
       "      <th>LogicalDisk._Total..pct_.Disk.Write.Time</th>\n",
       "      <th>LogicalDisk._Total..Avg..Disk.sec.Transfer</th>\n",
       "      <th>label</th>\n",
       "      <th>type</th>\n",
       "    </tr>\n",
       "  </thead>\n",
       "  <tbody>\n",
       "    <tr>\n",
       "      <th>0</th>\n",
       "      <td>1</td>\n",
       "      <td>1554206309</td>\n",
       "      <td>4</td>\n",
       "      <td>29.908172</td>\n",
       "      <td>0.078240</td>\n",
       "      <td>61.027509</td>\n",
       "      <td>29.908172</td>\n",
       "      <td>66.200149</td>\n",
       "      <td>480.094991</td>\n",
       "      <td>0.078240</td>\n",
       "      <td>...</td>\n",
       "      <td>0.134876</td>\n",
       "      <td>0.163098</td>\n",
       "      <td>2.822198</td>\n",
       "      <td>1.924988e+06</td>\n",
       "      <td>402.582784</td>\n",
       "      <td>9100.481592</td>\n",
       "      <td>13.487612</td>\n",
       "      <td>0.000405</td>\n",
       "      <td>0</td>\n",
       "      <td>normal</td>\n",
       "    </tr>\n",
       "    <tr>\n",
       "      <th>1</th>\n",
       "      <td>2</td>\n",
       "      <td>1554206319</td>\n",
       "      <td>9</td>\n",
       "      <td>31.751682</td>\n",
       "      <td>0.312521</td>\n",
       "      <td>59.144594</td>\n",
       "      <td>31.751682</td>\n",
       "      <td>66.247735</td>\n",
       "      <td>427.041284</td>\n",
       "      <td>0.078130</td>\n",
       "      <td>...</td>\n",
       "      <td>0.157564</td>\n",
       "      <td>0.189279</td>\n",
       "      <td>3.171506</td>\n",
       "      <td>1.497233e+06</td>\n",
       "      <td>355.134332</td>\n",
       "      <td>11153.554490</td>\n",
       "      <td>15.756429</td>\n",
       "      <td>0.000533</td>\n",
       "      <td>0</td>\n",
       "      <td>normal</td>\n",
       "    </tr>\n",
       "    <tr>\n",
       "      <th>2</th>\n",
       "      <td>3</td>\n",
       "      <td>1554206329</td>\n",
       "      <td>5</td>\n",
       "      <td>29.495167</td>\n",
       "      <td>1.168222</td>\n",
       "      <td>46.027940</td>\n",
       "      <td>29.495167</td>\n",
       "      <td>66.900381</td>\n",
       "      <td>1159.426821</td>\n",
       "      <td>0.233644</td>\n",
       "      <td>...</td>\n",
       "      <td>0.401774</td>\n",
       "      <td>0.782472</td>\n",
       "      <td>38.069810</td>\n",
       "      <td>1.854229e+06</td>\n",
       "      <td>760.431768</td>\n",
       "      <td>26994.265950</td>\n",
       "      <td>40.177378</td>\n",
       "      <td>0.001028</td>\n",
       "      <td>0</td>\n",
       "      <td>normal</td>\n",
       "    </tr>\n",
       "    <tr>\n",
       "      <th>3</th>\n",
       "      <td>4</td>\n",
       "      <td>1554206339</td>\n",
       "      <td>12</td>\n",
       "      <td>18.224375</td>\n",
       "      <td>1.097192</td>\n",
       "      <td>47.806219</td>\n",
       "      <td>18.224375</td>\n",
       "      <td>79.545208</td>\n",
       "      <td>736.622011</td>\n",
       "      <td>0.313483</td>\n",
       "      <td>...</td>\n",
       "      <td>0.259062</td>\n",
       "      <td>0.768934</td>\n",
       "      <td>50.987167</td>\n",
       "      <td>1.591239e+07</td>\n",
       "      <td>699.499954</td>\n",
       "      <td>53141.663800</td>\n",
       "      <td>25.906233</td>\n",
       "      <td>0.001099</td>\n",
       "      <td>0</td>\n",
       "      <td>normal</td>\n",
       "    </tr>\n",
       "    <tr>\n",
       "      <th>4</th>\n",
       "      <td>5</td>\n",
       "      <td>1554206349</td>\n",
       "      <td>12</td>\n",
       "      <td>14.861187</td>\n",
       "      <td>1.562431</td>\n",
       "      <td>41.873151</td>\n",
       "      <td>14.861187</td>\n",
       "      <td>82.735137</td>\n",
       "      <td>896.108598</td>\n",
       "      <td>0.703094</td>\n",
       "      <td>...</td>\n",
       "      <td>0.103836</td>\n",
       "      <td>1.081730</td>\n",
       "      <td>97.789353</td>\n",
       "      <td>2.360930e+07</td>\n",
       "      <td>1184.550425</td>\n",
       "      <td>40988.684440</td>\n",
       "      <td>10.383619</td>\n",
       "      <td>0.000913</td>\n",
       "      <td>0</td>\n",
       "      <td>normal</td>\n",
       "    </tr>\n",
       "    <tr>\n",
       "      <th>...</th>\n",
       "      <td>...</td>\n",
       "      <td>...</td>\n",
       "      <td>...</td>\n",
       "      <td>...</td>\n",
       "      <td>...</td>\n",
       "      <td>...</td>\n",
       "      <td>...</td>\n",
       "      <td>...</td>\n",
       "      <td>...</td>\n",
       "      <td>...</td>\n",
       "      <td>...</td>\n",
       "      <td>...</td>\n",
       "      <td>...</td>\n",
       "      <td>...</td>\n",
       "      <td>...</td>\n",
       "      <td>...</td>\n",
       "      <td>...</td>\n",
       "      <td>...</td>\n",
       "      <td>...</td>\n",
       "      <td>...</td>\n",
       "      <td>...</td>\n",
       "    </tr>\n",
       "    <tr>\n",
       "      <th>35209</th>\n",
       "      <td>35971</td>\n",
       "      <td>1556099926</td>\n",
       "      <td>0</td>\n",
       "      <td>65.611199</td>\n",
       "      <td>0.078247</td>\n",
       "      <td>29.968737</td>\n",
       "      <td>65.611199</td>\n",
       "      <td>33.176760</td>\n",
       "      <td>226.087362</td>\n",
       "      <td>0.000000</td>\n",
       "      <td>...</td>\n",
       "      <td>0.000486</td>\n",
       "      <td>0.000486</td>\n",
       "      <td>0.000000</td>\n",
       "      <td>8.872802e+03</td>\n",
       "      <td>1.702918</td>\n",
       "      <td>5210.352941</td>\n",
       "      <td>0.016214</td>\n",
       "      <td>0.000286</td>\n",
       "      <td>0</td>\n",
       "      <td>normal</td>\n",
       "    </tr>\n",
       "    <tr>\n",
       "      <th>35210</th>\n",
       "      <td>35972</td>\n",
       "      <td>1556099936</td>\n",
       "      <td>0</td>\n",
       "      <td>96.829418</td>\n",
       "      <td>0.000000</td>\n",
       "      <td>0.234245</td>\n",
       "      <td>96.829418</td>\n",
       "      <td>0.367761</td>\n",
       "      <td>284.841927</td>\n",
       "      <td>0.000000</td>\n",
       "      <td>...</td>\n",
       "      <td>0.000350</td>\n",
       "      <td>0.000431</td>\n",
       "      <td>0.002704</td>\n",
       "      <td>1.284407e+04</td>\n",
       "      <td>1.199334</td>\n",
       "      <td>16170.666670</td>\n",
       "      <td>0.011677</td>\n",
       "      <td>0.000360</td>\n",
       "      <td>0</td>\n",
       "      <td>normal</td>\n",
       "    </tr>\n",
       "    <tr>\n",
       "      <th>35211</th>\n",
       "      <td>35973</td>\n",
       "      <td>1556099946</td>\n",
       "      <td>0</td>\n",
       "      <td>95.294715</td>\n",
       "      <td>0.000000</td>\n",
       "      <td>2.108141</td>\n",
       "      <td>95.294715</td>\n",
       "      <td>2.088548</td>\n",
       "      <td>263.642684</td>\n",
       "      <td>0.000000</td>\n",
       "      <td>...</td>\n",
       "      <td>0.000168</td>\n",
       "      <td>0.000168</td>\n",
       "      <td>0.000000</td>\n",
       "      <td>9.824538e+03</td>\n",
       "      <td>0.499702</td>\n",
       "      <td>19660.800000</td>\n",
       "      <td>0.005594</td>\n",
       "      <td>0.000336</td>\n",
       "      <td>0</td>\n",
       "      <td>normal</td>\n",
       "    </tr>\n",
       "    <tr>\n",
       "      <th>35212</th>\n",
       "      <td>35974</td>\n",
       "      <td>1556099956</td>\n",
       "      <td>0</td>\n",
       "      <td>94.927619</td>\n",
       "      <td>0.000000</td>\n",
       "      <td>0.859393</td>\n",
       "      <td>94.927619</td>\n",
       "      <td>2.810513</td>\n",
       "      <td>342.110790</td>\n",
       "      <td>0.000000</td>\n",
       "      <td>...</td>\n",
       "      <td>0.000440</td>\n",
       "      <td>0.000440</td>\n",
       "      <td>0.000000</td>\n",
       "      <td>2.129987e+04</td>\n",
       "      <td>1.500047</td>\n",
       "      <td>14199.466670</td>\n",
       "      <td>0.014671</td>\n",
       "      <td>0.000293</td>\n",
       "      <td>0</td>\n",
       "      <td>normal</td>\n",
       "    </tr>\n",
       "    <tr>\n",
       "      <th>35213</th>\n",
       "      <td>35975</td>\n",
       "      <td>1556099966</td>\n",
       "      <td>2</td>\n",
       "      <td>93.519333</td>\n",
       "      <td>0.000000</td>\n",
       "      <td>1.798663</td>\n",
       "      <td>93.519333</td>\n",
       "      <td>3.732440</td>\n",
       "      <td>347.143207</td>\n",
       "      <td>0.000000</td>\n",
       "      <td>...</td>\n",
       "      <td>0.000462</td>\n",
       "      <td>0.000733</td>\n",
       "      <td>0.009060</td>\n",
       "      <td>1.435019e+04</td>\n",
       "      <td>1.801781</td>\n",
       "      <td>8874.666667</td>\n",
       "      <td>0.015387</td>\n",
       "      <td>0.000407</td>\n",
       "      <td>0</td>\n",
       "      <td>normal</td>\n",
       "    </tr>\n",
       "  </tbody>\n",
       "</table>\n",
       "<p>35214 rows × 109 columns</p>\n",
       "</div>"
      ],
      "text/plain": [
       "       Unnamed: 0       ï..ts  Processor_DPC_Rate  Processor_pct_.Idle_Time  \\\n",
       "0               1  1554206309                   4                 29.908172   \n",
       "1               2  1554206319                   9                 31.751682   \n",
       "2               3  1554206329                   5                 29.495167   \n",
       "3               4  1554206339                  12                 18.224375   \n",
       "4               5  1554206349                  12                 14.861187   \n",
       "...           ...         ...                 ...                       ...   \n",
       "35209       35971  1556099926                   0                 65.611199   \n",
       "35210       35972  1556099936                   0                 96.829418   \n",
       "35211       35973  1556099946                   0                 95.294715   \n",
       "35212       35974  1556099956                   0                 94.927619   \n",
       "35213       35975  1556099966                   2                 93.519333   \n",
       "\n",
       "       Processor_pct_.Interrupt_Time  Processor_pct_.User_Time  \\\n",
       "0                           0.078240                 61.027509   \n",
       "1                           0.312521                 59.144594   \n",
       "2                           1.168222                 46.027940   \n",
       "3                           1.097192                 47.806219   \n",
       "4                           1.562431                 41.873151   \n",
       "...                              ...                       ...   \n",
       "35209                       0.078247                 29.968737   \n",
       "35210                       0.000000                  0.234245   \n",
       "35211                       0.000000                  2.108141   \n",
       "35212                       0.000000                  0.859393   \n",
       "35213                       0.000000                  1.798663   \n",
       "\n",
       "       Processor_pct_.C1_Time  Processor_pct_.Processor_Time  \\\n",
       "0                   29.908172                      66.200149   \n",
       "1                   31.751682                      66.247735   \n",
       "2                   29.495167                      66.900381   \n",
       "3                   18.224375                      79.545208   \n",
       "4                   14.861187                      82.735137   \n",
       "...                       ...                            ...   \n",
       "35209               65.611199                      33.176760   \n",
       "35210               96.829418                       0.367761   \n",
       "35211               95.294715                       2.088548   \n",
       "35212               94.927619                       2.810513   \n",
       "35213               93.519333                       3.732440   \n",
       "\n",
       "       Processor_C1_ransitions_sec  Processor_pct_.DPC_Time  ...  \\\n",
       "0                       480.094991                 0.078240  ...   \n",
       "1                       427.041284                 0.078130  ...   \n",
       "2                      1159.426821                 0.233644  ...   \n",
       "3                       736.622011                 0.313483  ...   \n",
       "4                       896.108598                 0.703094  ...   \n",
       "...                            ...                      ...  ...   \n",
       "35209                   226.087362                 0.000000  ...   \n",
       "35210                   284.841927                 0.000000  ...   \n",
       "35211                   263.642684                 0.000000  ...   \n",
       "35212                   342.110790                 0.000000  ...   \n",
       "35213                   347.143207                 0.000000  ...   \n",
       "\n",
       "       LogicalDisk._Total..Avg..Disk.Write.Queue.Length  \\\n",
       "0                                              0.134876   \n",
       "1                                              0.157564   \n",
       "2                                              0.401774   \n",
       "3                                              0.259062   \n",
       "4                                              0.103836   \n",
       "...                                                 ...   \n",
       "35209                                          0.000486   \n",
       "35210                                          0.000350   \n",
       "35211                                          0.000168   \n",
       "35212                                          0.000440   \n",
       "35213                                          0.000462   \n",
       "\n",
       "       LogicalDisk._Total..Avg..Disk.Queue.Length  \\\n",
       "0                                        0.163098   \n",
       "1                                        0.189279   \n",
       "2                                        0.782472   \n",
       "3                                        0.768934   \n",
       "4                                        1.081730   \n",
       "...                                           ...   \n",
       "35209                                    0.000486   \n",
       "35210                                    0.000431   \n",
       "35211                                    0.000168   \n",
       "35212                                    0.000440   \n",
       "35213                                    0.000733   \n",
       "\n",
       "       LogicalDisk._Total..pct_.Disk.Read.Time  \\\n",
       "0                                     2.822198   \n",
       "1                                     3.171506   \n",
       "2                                    38.069810   \n",
       "3                                    50.987167   \n",
       "4                                    97.789353   \n",
       "...                                        ...   \n",
       "35209                                 0.000000   \n",
       "35210                                 0.002704   \n",
       "35211                                 0.000000   \n",
       "35212                                 0.000000   \n",
       "35213                                 0.009060   \n",
       "\n",
       "       LogicalDisk._Total..Disk.Write.Bytes.sec  \\\n",
       "0                                  1.924988e+06   \n",
       "1                                  1.497233e+06   \n",
       "2                                  1.854229e+06   \n",
       "3                                  1.591239e+07   \n",
       "4                                  2.360930e+07   \n",
       "...                                         ...   \n",
       "35209                              8.872802e+03   \n",
       "35210                              1.284407e+04   \n",
       "35211                              9.824538e+03   \n",
       "35212                              2.129987e+04   \n",
       "35213                              1.435019e+04   \n",
       "\n",
       "       LogicalDisk._Total..Disk.Transfers.sec  \\\n",
       "0                                  402.582784   \n",
       "1                                  355.134332   \n",
       "2                                  760.431768   \n",
       "3                                  699.499954   \n",
       "4                                 1184.550425   \n",
       "...                                       ...   \n",
       "35209                                1.702918   \n",
       "35210                                1.199334   \n",
       "35211                                0.499702   \n",
       "35212                                1.500047   \n",
       "35213                                1.801781   \n",
       "\n",
       "       LogicalDisk._Total..Avg..Disk.Bytes.Transfer  \\\n",
       "0                                       9100.481592   \n",
       "1                                      11153.554490   \n",
       "2                                      26994.265950   \n",
       "3                                      53141.663800   \n",
       "4                                      40988.684440   \n",
       "...                                             ...   \n",
       "35209                                   5210.352941   \n",
       "35210                                  16170.666670   \n",
       "35211                                  19660.800000   \n",
       "35212                                  14199.466670   \n",
       "35213                                   8874.666667   \n",
       "\n",
       "       LogicalDisk._Total..pct_.Disk.Write.Time  \\\n",
       "0                                     13.487612   \n",
       "1                                     15.756429   \n",
       "2                                     40.177378   \n",
       "3                                     25.906233   \n",
       "4                                     10.383619   \n",
       "...                                         ...   \n",
       "35209                                  0.016214   \n",
       "35210                                  0.011677   \n",
       "35211                                  0.005594   \n",
       "35212                                  0.014671   \n",
       "35213                                  0.015387   \n",
       "\n",
       "       LogicalDisk._Total..Avg..Disk.sec.Transfer  label    type  \n",
       "0                                        0.000405      0  normal  \n",
       "1                                        0.000533      0  normal  \n",
       "2                                        0.001028      0  normal  \n",
       "3                                        0.001099      0  normal  \n",
       "4                                        0.000913      0  normal  \n",
       "...                                           ...    ...     ...  \n",
       "35209                                    0.000286      0  normal  \n",
       "35210                                    0.000360      0  normal  \n",
       "35211                                    0.000336      0  normal  \n",
       "35212                                    0.000293      0  normal  \n",
       "35213                                    0.000407      0  normal  \n",
       "\n",
       "[35214 rows x 109 columns]"
      ]
     },
     "execution_count": 44,
     "metadata": {},
     "output_type": "execute_result"
    }
   ],
   "source": [
    "df"
   ]
  },
  {
   "cell_type": "code",
   "execution_count": 45,
   "id": "1dd6586c",
   "metadata": {},
   "outputs": [],
   "source": [
    "#df_new = df[list(vif_data.feature)]\n",
    "#df_new['label'] = df['label']"
   ]
  },
  {
   "cell_type": "code",
   "execution_count": 46,
   "id": "e8e4c2c1",
   "metadata": {},
   "outputs": [],
   "source": [
    "df = df.drop(df.columns[0],axis=1)"
   ]
  },
  {
   "cell_type": "code",
   "execution_count": 47,
   "id": "312a64c8",
   "metadata": {},
   "outputs": [],
   "source": [
    "df = df.drop(df.columns[0],axis=1)"
   ]
  },
  {
   "cell_type": "code",
   "execution_count": 19,
   "id": "d9843cf7",
   "metadata": {},
   "outputs": [
    {
     "ename": "AttributeError",
     "evalue": "'NoneType' object has no attribute 'columns'",
     "output_type": "error",
     "traceback": [
      "\u001b[1;31m---------------------------------------------------------------------------\u001b[0m",
      "\u001b[1;31mAttributeError\u001b[0m                            Traceback (most recent call last)",
      "Input \u001b[1;32mIn [19]\u001b[0m, in \u001b[0;36m<cell line: 2>\u001b[1;34m()\u001b[0m\n\u001b[0;32m      1\u001b[0m df \u001b[38;5;241m=\u001b[39m df\u001b[38;5;241m.\u001b[39mdrop(columns\u001b[38;5;241m=\u001b[39mdf\u001b[38;5;241m.\u001b[39mcolumns[\u001b[38;5;241m0\u001b[39m], axis\u001b[38;5;241m=\u001b[39m\u001b[38;5;241m1\u001b[39m, inplace\u001b[38;5;241m=\u001b[39m\u001b[38;5;28;01mTrue\u001b[39;00m)\n\u001b[1;32m----> 2\u001b[0m \u001b[43mdf\u001b[49m\u001b[38;5;241;43m.\u001b[39;49m\u001b[43mcolumns\u001b[49m\n",
      "\u001b[1;31mAttributeError\u001b[0m: 'NoneType' object has no attribute 'columns'"
     ]
    }
   ],
   "source": [
    "#df = df.drop(columns=df.columns[0], axis=1, inplace=True)\n",
    "#df.columns"
   ]
  },
  {
   "cell_type": "code",
   "execution_count": 48,
   "id": "6a03b428",
   "metadata": {},
   "outputs": [
    {
     "data": {
      "text/html": [
       "<div>\n",
       "<style scoped>\n",
       "    .dataframe tbody tr th:only-of-type {\n",
       "        vertical-align: middle;\n",
       "    }\n",
       "\n",
       "    .dataframe tbody tr th {\n",
       "        vertical-align: top;\n",
       "    }\n",
       "\n",
       "    .dataframe thead th {\n",
       "        text-align: right;\n",
       "    }\n",
       "</style>\n",
       "<table border=\"1\" class=\"dataframe\">\n",
       "  <thead>\n",
       "    <tr style=\"text-align: right;\">\n",
       "      <th>type</th>\n",
       "      <th>ddos</th>\n",
       "      <th>dos</th>\n",
       "      <th>injection</th>\n",
       "      <th>mitm</th>\n",
       "      <th>normal</th>\n",
       "      <th>password</th>\n",
       "      <th>scanning</th>\n",
       "      <th>xss</th>\n",
       "    </tr>\n",
       "    <tr>\n",
       "      <th>label</th>\n",
       "      <th></th>\n",
       "      <th></th>\n",
       "      <th></th>\n",
       "      <th></th>\n",
       "      <th></th>\n",
       "      <th></th>\n",
       "      <th></th>\n",
       "      <th></th>\n",
       "    </tr>\n",
       "  </thead>\n",
       "  <tbody>\n",
       "    <tr>\n",
       "      <th>0</th>\n",
       "      <td>0</td>\n",
       "      <td>0</td>\n",
       "      <td>0</td>\n",
       "      <td>0</td>\n",
       "      <td>24283</td>\n",
       "      <td>0</td>\n",
       "      <td>0</td>\n",
       "      <td>0</td>\n",
       "    </tr>\n",
       "    <tr>\n",
       "      <th>1</th>\n",
       "      <td>4539</td>\n",
       "      <td>505</td>\n",
       "      <td>606</td>\n",
       "      <td>13</td>\n",
       "      <td>0</td>\n",
       "      <td>3594</td>\n",
       "      <td>434</td>\n",
       "      <td>1240</td>\n",
       "    </tr>\n",
       "  </tbody>\n",
       "</table>\n",
       "</div>"
      ],
      "text/plain": [
       "type   ddos  dos  injection  mitm  normal  password  scanning   xss\n",
       "label                                                              \n",
       "0         0    0          0     0   24283         0         0     0\n",
       "1      4539  505        606    13       0      3594       434  1240"
      ]
     },
     "execution_count": 48,
     "metadata": {},
     "output_type": "execute_result"
    }
   ],
   "source": [
    "# Attack counts by type:\n",
    "pd.crosstab(index=df['label'], columns=df['type'])"
   ]
  },
  {
   "cell_type": "code",
   "execution_count": 49,
   "id": "57cf0b04",
   "metadata": {},
   "outputs": [],
   "source": [
    "# Remove the label column:\n",
    "df = df.drop(['type'],axis=1)"
   ]
  },
  {
   "cell_type": "code",
   "execution_count": 50,
   "id": "855c3839",
   "metadata": {},
   "outputs": [
    {
     "data": {
      "text/html": [
       "<div>\n",
       "<style scoped>\n",
       "    .dataframe tbody tr th:only-of-type {\n",
       "        vertical-align: middle;\n",
       "    }\n",
       "\n",
       "    .dataframe tbody tr th {\n",
       "        vertical-align: top;\n",
       "    }\n",
       "\n",
       "    .dataframe thead th {\n",
       "        text-align: right;\n",
       "    }\n",
       "</style>\n",
       "<table border=\"1\" class=\"dataframe\">\n",
       "  <thead>\n",
       "    <tr style=\"text-align: right;\">\n",
       "      <th></th>\n",
       "      <th>Processor_DPC_Rate</th>\n",
       "      <th>Processor_pct_.Idle_Time</th>\n",
       "      <th>Processor_pct_.Interrupt_Time</th>\n",
       "      <th>Processor_pct_.User_Time</th>\n",
       "      <th>Processor_pct_.C1_Time</th>\n",
       "      <th>Processor_pct_.Processor_Time</th>\n",
       "      <th>Processor_C1_ransitions_sec</th>\n",
       "      <th>Processor_pct_.DPC_Time</th>\n",
       "      <th>Processor_pct_.Privileged_Time</th>\n",
       "      <th>Processor_DPCs_Queued_sec</th>\n",
       "      <th>...</th>\n",
       "      <th>LogicalDisk._Total..Avg..Disk.Bytes.Read</th>\n",
       "      <th>LogicalDisk._Total..Avg..Disk.Write.Queue.Length</th>\n",
       "      <th>LogicalDisk._Total..Avg..Disk.Queue.Length</th>\n",
       "      <th>LogicalDisk._Total..pct_.Disk.Read.Time</th>\n",
       "      <th>LogicalDisk._Total..Disk.Write.Bytes.sec</th>\n",
       "      <th>LogicalDisk._Total..Disk.Transfers.sec</th>\n",
       "      <th>LogicalDisk._Total..Avg..Disk.Bytes.Transfer</th>\n",
       "      <th>LogicalDisk._Total..pct_.Disk.Write.Time</th>\n",
       "      <th>LogicalDisk._Total..Avg..Disk.sec.Transfer</th>\n",
       "      <th>label</th>\n",
       "    </tr>\n",
       "  </thead>\n",
       "  <tbody>\n",
       "    <tr>\n",
       "      <th>0</th>\n",
       "      <td>4</td>\n",
       "      <td>29.908172</td>\n",
       "      <td>0.078240</td>\n",
       "      <td>61.027509</td>\n",
       "      <td>29.908172</td>\n",
       "      <td>66.200149</td>\n",
       "      <td>480.094991</td>\n",
       "      <td>0.078240</td>\n",
       "      <td>5.163866</td>\n",
       "      <td>568.322711</td>\n",
       "      <td>...</td>\n",
       "      <td>20546.65089</td>\n",
       "      <td>0.134876</td>\n",
       "      <td>0.163098</td>\n",
       "      <td>2.822198</td>\n",
       "      <td>1.924988e+06</td>\n",
       "      <td>402.582784</td>\n",
       "      <td>9100.481592</td>\n",
       "      <td>13.487612</td>\n",
       "      <td>0.000405</td>\n",
       "      <td>0</td>\n",
       "    </tr>\n",
       "    <tr>\n",
       "      <th>1</th>\n",
       "      <td>9</td>\n",
       "      <td>31.751682</td>\n",
       "      <td>0.312521</td>\n",
       "      <td>59.144594</td>\n",
       "      <td>31.751682</td>\n",
       "      <td>66.247735</td>\n",
       "      <td>427.041284</td>\n",
       "      <td>0.078130</td>\n",
       "      <td>7.109852</td>\n",
       "      <td>512.249521</td>\n",
       "      <td>...</td>\n",
       "      <td>25742.31139</td>\n",
       "      <td>0.157564</td>\n",
       "      <td>0.189279</td>\n",
       "      <td>3.171506</td>\n",
       "      <td>1.497233e+06</td>\n",
       "      <td>355.134332</td>\n",
       "      <td>11153.554490</td>\n",
       "      <td>15.756429</td>\n",
       "      <td>0.000533</td>\n",
       "      <td>0</td>\n",
       "    </tr>\n",
       "    <tr>\n",
       "      <th>2</th>\n",
       "      <td>5</td>\n",
       "      <td>29.495167</td>\n",
       "      <td>1.168222</td>\n",
       "      <td>46.027940</td>\n",
       "      <td>29.495167</td>\n",
       "      <td>66.900381</td>\n",
       "      <td>1159.426821</td>\n",
       "      <td>0.233644</td>\n",
       "      <td>20.872230</td>\n",
       "      <td>917.339935</td>\n",
       "      <td>...</td>\n",
       "      <td>35969.10535</td>\n",
       "      <td>0.401774</td>\n",
       "      <td>0.782472</td>\n",
       "      <td>38.069810</td>\n",
       "      <td>1.854229e+06</td>\n",
       "      <td>760.431768</td>\n",
       "      <td>26994.265950</td>\n",
       "      <td>40.177378</td>\n",
       "      <td>0.001028</td>\n",
       "      <td>0</td>\n",
       "    </tr>\n",
       "    <tr>\n",
       "      <th>3</th>\n",
       "      <td>12</td>\n",
       "      <td>18.224375</td>\n",
       "      <td>1.097192</td>\n",
       "      <td>47.806219</td>\n",
       "      <td>18.224375</td>\n",
       "      <td>79.545208</td>\n",
       "      <td>736.622011</td>\n",
       "      <td>0.313483</td>\n",
       "      <td>31.740194</td>\n",
       "      <td>894.340589</td>\n",
       "      <td>...</td>\n",
       "      <td>40019.44778</td>\n",
       "      <td>0.259062</td>\n",
       "      <td>0.768934</td>\n",
       "      <td>50.987167</td>\n",
       "      <td>1.591239e+07</td>\n",
       "      <td>699.499954</td>\n",
       "      <td>53141.663800</td>\n",
       "      <td>25.906233</td>\n",
       "      <td>0.001099</td>\n",
       "      <td>0</td>\n",
       "    </tr>\n",
       "    <tr>\n",
       "      <th>4</th>\n",
       "      <td>12</td>\n",
       "      <td>14.861187</td>\n",
       "      <td>1.562431</td>\n",
       "      <td>41.873151</td>\n",
       "      <td>14.861187</td>\n",
       "      <td>82.735137</td>\n",
       "      <td>896.108598</td>\n",
       "      <td>0.703094</td>\n",
       "      <td>40.857571</td>\n",
       "      <td>1381.842235</td>\n",
       "      <td>...</td>\n",
       "      <td>32025.59015</td>\n",
       "      <td>0.103836</td>\n",
       "      <td>1.081730</td>\n",
       "      <td>97.789353</td>\n",
       "      <td>2.360930e+07</td>\n",
       "      <td>1184.550425</td>\n",
       "      <td>40988.684440</td>\n",
       "      <td>10.383619</td>\n",
       "      <td>0.000913</td>\n",
       "      <td>0</td>\n",
       "    </tr>\n",
       "  </tbody>\n",
       "</table>\n",
       "<p>5 rows × 106 columns</p>\n",
       "</div>"
      ],
      "text/plain": [
       "   Processor_DPC_Rate  Processor_pct_.Idle_Time  \\\n",
       "0                   4                 29.908172   \n",
       "1                   9                 31.751682   \n",
       "2                   5                 29.495167   \n",
       "3                  12                 18.224375   \n",
       "4                  12                 14.861187   \n",
       "\n",
       "   Processor_pct_.Interrupt_Time  Processor_pct_.User_Time  \\\n",
       "0                       0.078240                 61.027509   \n",
       "1                       0.312521                 59.144594   \n",
       "2                       1.168222                 46.027940   \n",
       "3                       1.097192                 47.806219   \n",
       "4                       1.562431                 41.873151   \n",
       "\n",
       "   Processor_pct_.C1_Time  Processor_pct_.Processor_Time  \\\n",
       "0               29.908172                      66.200149   \n",
       "1               31.751682                      66.247735   \n",
       "2               29.495167                      66.900381   \n",
       "3               18.224375                      79.545208   \n",
       "4               14.861187                      82.735137   \n",
       "\n",
       "   Processor_C1_ransitions_sec  Processor_pct_.DPC_Time  \\\n",
       "0                   480.094991                 0.078240   \n",
       "1                   427.041284                 0.078130   \n",
       "2                  1159.426821                 0.233644   \n",
       "3                   736.622011                 0.313483   \n",
       "4                   896.108598                 0.703094   \n",
       "\n",
       "   Processor_pct_.Privileged_Time  Processor_DPCs_Queued_sec  ...  \\\n",
       "0                        5.163866                 568.322711  ...   \n",
       "1                        7.109852                 512.249521  ...   \n",
       "2                       20.872230                 917.339935  ...   \n",
       "3                       31.740194                 894.340589  ...   \n",
       "4                       40.857571                1381.842235  ...   \n",
       "\n",
       "   LogicalDisk._Total..Avg..Disk.Bytes.Read  \\\n",
       "0                               20546.65089   \n",
       "1                               25742.31139   \n",
       "2                               35969.10535   \n",
       "3                               40019.44778   \n",
       "4                               32025.59015   \n",
       "\n",
       "   LogicalDisk._Total..Avg..Disk.Write.Queue.Length  \\\n",
       "0                                          0.134876   \n",
       "1                                          0.157564   \n",
       "2                                          0.401774   \n",
       "3                                          0.259062   \n",
       "4                                          0.103836   \n",
       "\n",
       "   LogicalDisk._Total..Avg..Disk.Queue.Length  \\\n",
       "0                                    0.163098   \n",
       "1                                    0.189279   \n",
       "2                                    0.782472   \n",
       "3                                    0.768934   \n",
       "4                                    1.081730   \n",
       "\n",
       "   LogicalDisk._Total..pct_.Disk.Read.Time  \\\n",
       "0                                 2.822198   \n",
       "1                                 3.171506   \n",
       "2                                38.069810   \n",
       "3                                50.987167   \n",
       "4                                97.789353   \n",
       "\n",
       "   LogicalDisk._Total..Disk.Write.Bytes.sec  \\\n",
       "0                              1.924988e+06   \n",
       "1                              1.497233e+06   \n",
       "2                              1.854229e+06   \n",
       "3                              1.591239e+07   \n",
       "4                              2.360930e+07   \n",
       "\n",
       "   LogicalDisk._Total..Disk.Transfers.sec  \\\n",
       "0                              402.582784   \n",
       "1                              355.134332   \n",
       "2                              760.431768   \n",
       "3                              699.499954   \n",
       "4                             1184.550425   \n",
       "\n",
       "   LogicalDisk._Total..Avg..Disk.Bytes.Transfer  \\\n",
       "0                                   9100.481592   \n",
       "1                                  11153.554490   \n",
       "2                                  26994.265950   \n",
       "3                                  53141.663800   \n",
       "4                                  40988.684440   \n",
       "\n",
       "   LogicalDisk._Total..pct_.Disk.Write.Time  \\\n",
       "0                                 13.487612   \n",
       "1                                 15.756429   \n",
       "2                                 40.177378   \n",
       "3                                 25.906233   \n",
       "4                                 10.383619   \n",
       "\n",
       "   LogicalDisk._Total..Avg..Disk.sec.Transfer  label  \n",
       "0                                    0.000405      0  \n",
       "1                                    0.000533      0  \n",
       "2                                    0.001028      0  \n",
       "3                                    0.001099      0  \n",
       "4                                    0.000913      0  \n",
       "\n",
       "[5 rows x 106 columns]"
      ]
     },
     "execution_count": 50,
     "metadata": {},
     "output_type": "execute_result"
    }
   ],
   "source": [
    "df.head()"
   ]
  },
  {
   "cell_type": "markdown",
   "id": "d3af7e26",
   "metadata": {},
   "source": [
    "# Making the data balance"
   ]
  },
  {
   "cell_type": "code",
   "execution_count": 254,
   "id": "38a55ffc",
   "metadata": {},
   "outputs": [],
   "source": [
    "#df = df_new"
   ]
  },
  {
   "cell_type": "code",
   "execution_count": 51,
   "id": "a8c41007",
   "metadata": {},
   "outputs": [
    {
     "data": {
      "text/plain": [
       "0    24283\n",
       "1    10931\n",
       "Name: label, dtype: int64"
      ]
     },
     "execution_count": 51,
     "metadata": {},
     "output_type": "execute_result"
    }
   ],
   "source": [
    "freq = df['label'].value_counts()\n",
    "freq"
   ]
  },
  {
   "cell_type": "code",
   "execution_count": 52,
   "id": "ec10692e",
   "metadata": {},
   "outputs": [],
   "source": [
    "freq = df['label'].value_counts()\n",
    "delete_frac = round((freq[0] - freq[1])/freq[0],2)\n",
    "df = df.drop(df.query('label == 0').sample(frac= delete_frac).index)\n",
    "df['label'].value_counts()"
   ]
  },
  {
   "cell_type": "code",
   "execution_count": 53,
   "id": "5fa0711b",
   "metadata": {},
   "outputs": [],
   "source": []
  },
  {
   "cell_type": "code",
   "execution_count": 54,
   "id": "c2e88f24",
   "metadata": {},
   "outputs": [
    {
     "data": {
      "text/plain": [
       "1    10931\n",
       "0    10927\n",
       "Name: label, dtype: int64"
      ]
     },
     "execution_count": 54,
     "metadata": {},
     "output_type": "execute_result"
    }
   ],
   "source": []
  },
  {
   "cell_type": "markdown",
   "id": "6d42ccbd",
   "metadata": {},
   "source": [
    "## Checking column types and converting them in the right format:"
   ]
  },
  {
   "cell_type": "code",
   "execution_count": 36,
   "id": "034081bb",
   "metadata": {},
   "outputs": [],
   "source": [
    "#print(df.info())\n",
    "#print(df.shape)"
   ]
  },
  {
   "cell_type": "markdown",
   "id": "47e40744",
   "metadata": {},
   "source": [
    "So, there a total of 47 features presented in this data file and number of rows are 35,975!"
   ]
  },
  {
   "cell_type": "code",
   "execution_count": 37,
   "id": "d3c9fe18",
   "metadata": {},
   "outputs": [],
   "source": [
    "#columns = df.applymap(np.isreal).all()\n",
    "#print((columns).value_counts())"
   ]
  },
  {
   "cell_type": "markdown",
   "id": "5bc06a4b",
   "metadata": {},
   "source": [
    "So, there are a total of 69 categorical and 56 numerical columns available in this data file. We need to investigate that, the 69 categorical variables whether they are really categorical or there are some problem in data types for them. "
   ]
  },
  {
   "cell_type": "code",
   "execution_count": 38,
   "id": "cfcacf64",
   "metadata": {},
   "outputs": [],
   "source": [
    "# Now considering blank space as missing entry and recategorizing the numerical object columns to actual number columns\n",
    "#df.replace(r'^\\s*$', np.nan, regex=True)"
   ]
  },
  {
   "cell_type": "code",
   "execution_count": 39,
   "id": "5f1b87c9",
   "metadata": {},
   "outputs": [],
   "source": [
    "# Keeping the object columns only to convert them as numberical because they actualy is a numerical column but\n",
    "# because of space available in the entry python considering this column as an object type.\n",
    "\n",
    "#object_colmns = list(df.select_dtypes(include=['object']).columns)\n",
    "#object_colmns.remove('type')"
   ]
  },
  {
   "cell_type": "code",
   "execution_count": 40,
   "id": "bd79312b",
   "metadata": {},
   "outputs": [],
   "source": [
    "#df[object_colmns] = df[object_colmns].apply(pd.to_numeric, errors='coerce')"
   ]
  },
  {
   "cell_type": "code",
   "execution_count": 41,
   "id": "603ba7d0",
   "metadata": {},
   "outputs": [],
   "source": [
    "# Checking:\n",
    "#columns = df.applymap(np.isreal).all()\n",
    "#print((columns).value_counts())"
   ]
  },
  {
   "cell_type": "code",
   "execution_count": 42,
   "id": "0dec5350",
   "metadata": {},
   "outputs": [],
   "source": [
    "#df.head()"
   ]
  },
  {
   "cell_type": "markdown",
   "id": "eb256434",
   "metadata": {},
   "source": [
    "Now, only the response variable seems categorical. So, we are good about our actual column types for the dataframe."
   ]
  },
  {
   "cell_type": "markdown",
   "id": "0bb2a655",
   "metadata": {},
   "source": [
    "## Summary statistics for numerical columns"
   ]
  },
  {
   "cell_type": "code",
   "execution_count": 31,
   "id": "0127b4a5",
   "metadata": {},
   "outputs": [
    {
     "data": {
      "text/html": [
       "<div>\n",
       "<style scoped>\n",
       "    .dataframe tbody tr th:only-of-type {\n",
       "        vertical-align: middle;\n",
       "    }\n",
       "\n",
       "    .dataframe tbody tr th {\n",
       "        vertical-align: top;\n",
       "    }\n",
       "\n",
       "    .dataframe thead th {\n",
       "        text-align: right;\n",
       "    }\n",
       "</style>\n",
       "<table border=\"1\" class=\"dataframe\">\n",
       "  <thead>\n",
       "    <tr style=\"text-align: right;\">\n",
       "      <th></th>\n",
       "      <th>Unnamed: 0</th>\n",
       "      <th>ï..ts</th>\n",
       "      <th>Processor_DPC_Rate</th>\n",
       "      <th>Processor_pct_.Idle_Time</th>\n",
       "      <th>Processor_pct_.Interrupt_Time</th>\n",
       "      <th>Processor_pct_.User_Time</th>\n",
       "      <th>Processor_pct_.C1_Time</th>\n",
       "      <th>Processor_pct_.Processor_Time</th>\n",
       "      <th>Processor_C1_ransitions_sec</th>\n",
       "      <th>Processor_pct_.DPC_Time</th>\n",
       "      <th>...</th>\n",
       "      <th>LogicalDisk._Total..Avg..Disk.Bytes.Read</th>\n",
       "      <th>LogicalDisk._Total..Avg..Disk.Write.Queue.Length</th>\n",
       "      <th>LogicalDisk._Total..Avg..Disk.Queue.Length</th>\n",
       "      <th>LogicalDisk._Total..pct_.Disk.Read.Time</th>\n",
       "      <th>LogicalDisk._Total..Disk.Write.Bytes.sec</th>\n",
       "      <th>LogicalDisk._Total..Disk.Transfers.sec</th>\n",
       "      <th>LogicalDisk._Total..Avg..Disk.Bytes.Transfer</th>\n",
       "      <th>LogicalDisk._Total..pct_.Disk.Write.Time</th>\n",
       "      <th>LogicalDisk._Total..Avg..Disk.sec.Transfer</th>\n",
       "      <th>label</th>\n",
       "    </tr>\n",
       "  </thead>\n",
       "  <tbody>\n",
       "    <tr>\n",
       "      <th>count</th>\n",
       "      <td>21858.000000</td>\n",
       "      <td>2.185800e+04</td>\n",
       "      <td>21858.000000</td>\n",
       "      <td>21858.000000</td>\n",
       "      <td>21858.000000</td>\n",
       "      <td>21858.000000</td>\n",
       "      <td>21858.000000</td>\n",
       "      <td>21858.000000</td>\n",
       "      <td>21858.000000</td>\n",
       "      <td>21858.000000</td>\n",
       "      <td>...</td>\n",
       "      <td>21858.000000</td>\n",
       "      <td>21858.000000</td>\n",
       "      <td>21858.000000</td>\n",
       "      <td>21858.000000</td>\n",
       "      <td>2.185800e+04</td>\n",
       "      <td>21858.000000</td>\n",
       "      <td>21858.000000</td>\n",
       "      <td>21858.000000</td>\n",
       "      <td>21858.000000</td>\n",
       "      <td>21858.000000</td>\n",
       "    </tr>\n",
       "    <tr>\n",
       "      <th>mean</th>\n",
       "      <td>19499.464544</td>\n",
       "      <td>1.555573e+09</td>\n",
       "      <td>4.485497</td>\n",
       "      <td>71.813949</td>\n",
       "      <td>0.200946</td>\n",
       "      <td>16.644063</td>\n",
       "      <td>71.813949</td>\n",
       "      <td>25.720137</td>\n",
       "      <td>480.491341</td>\n",
       "      <td>0.540591</td>\n",
       "      <td>...</td>\n",
       "      <td>13655.993316</td>\n",
       "      <td>0.015630</td>\n",
       "      <td>0.100906</td>\n",
       "      <td>3.182833</td>\n",
       "      <td>8.727357e+05</td>\n",
       "      <td>170.226240</td>\n",
       "      <td>24095.918454</td>\n",
       "      <td>1.174287</td>\n",
       "      <td>0.000630</td>\n",
       "      <td>0.500091</td>\n",
       "    </tr>\n",
       "    <tr>\n",
       "      <th>std</th>\n",
       "      <td>9643.444661</td>\n",
       "      <td>9.255675e+05</td>\n",
       "      <td>16.024353</td>\n",
       "      <td>20.714649</td>\n",
       "      <td>0.360907</td>\n",
       "      <td>14.403479</td>\n",
       "      <td>20.714649</td>\n",
       "      <td>20.678185</td>\n",
       "      <td>732.320872</td>\n",
       "      <td>1.215663</td>\n",
       "      <td>...</td>\n",
       "      <td>22351.898420</td>\n",
       "      <td>0.087193</td>\n",
       "      <td>0.357213</td>\n",
       "      <td>12.450906</td>\n",
       "      <td>2.839033e+06</td>\n",
       "      <td>613.871600</td>\n",
       "      <td>48236.762930</td>\n",
       "      <td>8.560096</td>\n",
       "      <td>0.000987</td>\n",
       "      <td>0.500011</td>\n",
       "    </tr>\n",
       "    <tr>\n",
       "      <th>min</th>\n",
       "      <td>3.000000</td>\n",
       "      <td>1.554192e+09</td>\n",
       "      <td>0.000000</td>\n",
       "      <td>0.000000</td>\n",
       "      <td>0.000000</td>\n",
       "      <td>0.000000</td>\n",
       "      <td>0.000000</td>\n",
       "      <td>0.000000</td>\n",
       "      <td>0.000000</td>\n",
       "      <td>0.000000</td>\n",
       "      <td>...</td>\n",
       "      <td>0.000000</td>\n",
       "      <td>0.000000</td>\n",
       "      <td>0.000000</td>\n",
       "      <td>0.000000</td>\n",
       "      <td>0.000000e+00</td>\n",
       "      <td>0.000000</td>\n",
       "      <td>0.000000</td>\n",
       "      <td>0.000000</td>\n",
       "      <td>0.000000</td>\n",
       "      <td>0.000000</td>\n",
       "    </tr>\n",
       "    <tr>\n",
       "      <th>25%</th>\n",
       "      <td>11922.250000</td>\n",
       "      <td>1.554323e+09</td>\n",
       "      <td>0.000000</td>\n",
       "      <td>62.335653</td>\n",
       "      <td>0.000000</td>\n",
       "      <td>5.304164</td>\n",
       "      <td>62.335653</td>\n",
       "      <td>8.203845</td>\n",
       "      <td>161.053581</td>\n",
       "      <td>0.000000</td>\n",
       "      <td>...</td>\n",
       "      <td>0.000000</td>\n",
       "      <td>0.000356</td>\n",
       "      <td>0.000411</td>\n",
       "      <td>0.000000</td>\n",
       "      <td>1.189689e+04</td>\n",
       "      <td>0.898666</td>\n",
       "      <td>11442.618180</td>\n",
       "      <td>0.011905</td>\n",
       "      <td>0.000292</td>\n",
       "      <td>0.000000</td>\n",
       "    </tr>\n",
       "    <tr>\n",
       "      <th>50%</th>\n",
       "      <td>20675.500000</td>\n",
       "      <td>1.556163e+09</td>\n",
       "      <td>0.000000</td>\n",
       "      <td>74.497874</td>\n",
       "      <td>0.078125</td>\n",
       "      <td>13.200820</td>\n",
       "      <td>74.497874</td>\n",
       "      <td>23.260707</td>\n",
       "      <td>307.906315</td>\n",
       "      <td>0.078126</td>\n",
       "      <td>...</td>\n",
       "      <td>0.000000</td>\n",
       "      <td>0.000893</td>\n",
       "      <td>0.001273</td>\n",
       "      <td>0.000000</td>\n",
       "      <td>2.995730e+04</td>\n",
       "      <td>2.799896</td>\n",
       "      <td>15731.934395</td>\n",
       "      <td>0.029984</td>\n",
       "      <td>0.000392</td>\n",
       "      <td>1.000000</td>\n",
       "    </tr>\n",
       "    <tr>\n",
       "      <th>75%</th>\n",
       "      <td>27634.750000</td>\n",
       "      <td>1.556263e+09</td>\n",
       "      <td>1.000000</td>\n",
       "      <td>89.340848</td>\n",
       "      <td>0.312011</td>\n",
       "      <td>24.334977</td>\n",
       "      <td>89.340848</td>\n",
       "      <td>34.845747</td>\n",
       "      <td>395.878641</td>\n",
       "      <td>0.546468</td>\n",
       "      <td>...</td>\n",
       "      <td>21894.212870</td>\n",
       "      <td>0.004112</td>\n",
       "      <td>0.005534</td>\n",
       "      <td>0.020367</td>\n",
       "      <td>1.846657e+05</td>\n",
       "      <td>15.624136</td>\n",
       "      <td>23159.538463</td>\n",
       "      <td>0.138179</td>\n",
       "      <td>0.000622</td>\n",
       "      <td>1.000000</td>\n",
       "    </tr>\n",
       "    <tr>\n",
       "      <th>max</th>\n",
       "      <td>35972.000000</td>\n",
       "      <td>1.556548e+09</td>\n",
       "      <td>195.000000</td>\n",
       "      <td>99.638956</td>\n",
       "      <td>9.937340</td>\n",
       "      <td>84.427167</td>\n",
       "      <td>99.638956</td>\n",
       "      <td>100.000000</td>\n",
       "      <td>10318.521390</td>\n",
       "      <td>21.953888</td>\n",
       "      <td>...</td>\n",
       "      <td>842420.018300</td>\n",
       "      <td>1.836753</td>\n",
       "      <td>4.236590</td>\n",
       "      <td>294.529448</td>\n",
       "      <td>5.340136e+07</td>\n",
       "      <td>7170.887411</td>\n",
       "      <td>977715.200000</td>\n",
       "      <td>183.675284</td>\n",
       "      <td>0.045244</td>\n",
       "      <td>1.000000</td>\n",
       "    </tr>\n",
       "  </tbody>\n",
       "</table>\n",
       "<p>8 rows × 108 columns</p>\n",
       "</div>"
      ],
      "text/plain": [
       "         Unnamed: 0         ï..ts  Processor_DPC_Rate  \\\n",
       "count  21858.000000  2.185800e+04        21858.000000   \n",
       "mean   19499.464544  1.555573e+09            4.485497   \n",
       "std     9643.444661  9.255675e+05           16.024353   \n",
       "min        3.000000  1.554192e+09            0.000000   \n",
       "25%    11922.250000  1.554323e+09            0.000000   \n",
       "50%    20675.500000  1.556163e+09            0.000000   \n",
       "75%    27634.750000  1.556263e+09            1.000000   \n",
       "max    35972.000000  1.556548e+09          195.000000   \n",
       "\n",
       "       Processor_pct_.Idle_Time  Processor_pct_.Interrupt_Time  \\\n",
       "count              21858.000000                   21858.000000   \n",
       "mean                  71.813949                       0.200946   \n",
       "std                   20.714649                       0.360907   \n",
       "min                    0.000000                       0.000000   \n",
       "25%                   62.335653                       0.000000   \n",
       "50%                   74.497874                       0.078125   \n",
       "75%                   89.340848                       0.312011   \n",
       "max                   99.638956                       9.937340   \n",
       "\n",
       "       Processor_pct_.User_Time  Processor_pct_.C1_Time  \\\n",
       "count              21858.000000            21858.000000   \n",
       "mean                  16.644063               71.813949   \n",
       "std                   14.403479               20.714649   \n",
       "min                    0.000000                0.000000   \n",
       "25%                    5.304164               62.335653   \n",
       "50%                   13.200820               74.497874   \n",
       "75%                   24.334977               89.340848   \n",
       "max                   84.427167               99.638956   \n",
       "\n",
       "       Processor_pct_.Processor_Time  Processor_C1_ransitions_sec  \\\n",
       "count                   21858.000000                 21858.000000   \n",
       "mean                       25.720137                   480.491341   \n",
       "std                        20.678185                   732.320872   \n",
       "min                         0.000000                     0.000000   \n",
       "25%                         8.203845                   161.053581   \n",
       "50%                        23.260707                   307.906315   \n",
       "75%                        34.845747                   395.878641   \n",
       "max                       100.000000                 10318.521390   \n",
       "\n",
       "       Processor_pct_.DPC_Time  ...  LogicalDisk._Total..Avg..Disk.Bytes.Read  \\\n",
       "count             21858.000000  ...                              21858.000000   \n",
       "mean                  0.540591  ...                              13655.993316   \n",
       "std                   1.215663  ...                              22351.898420   \n",
       "min                   0.000000  ...                                  0.000000   \n",
       "25%                   0.000000  ...                                  0.000000   \n",
       "50%                   0.078126  ...                                  0.000000   \n",
       "75%                   0.546468  ...                              21894.212870   \n",
       "max                  21.953888  ...                             842420.018300   \n",
       "\n",
       "       LogicalDisk._Total..Avg..Disk.Write.Queue.Length  \\\n",
       "count                                      21858.000000   \n",
       "mean                                           0.015630   \n",
       "std                                            0.087193   \n",
       "min                                            0.000000   \n",
       "25%                                            0.000356   \n",
       "50%                                            0.000893   \n",
       "75%                                            0.004112   \n",
       "max                                            1.836753   \n",
       "\n",
       "       LogicalDisk._Total..Avg..Disk.Queue.Length  \\\n",
       "count                                21858.000000   \n",
       "mean                                     0.100906   \n",
       "std                                      0.357213   \n",
       "min                                      0.000000   \n",
       "25%                                      0.000411   \n",
       "50%                                      0.001273   \n",
       "75%                                      0.005534   \n",
       "max                                      4.236590   \n",
       "\n",
       "       LogicalDisk._Total..pct_.Disk.Read.Time  \\\n",
       "count                             21858.000000   \n",
       "mean                                  3.182833   \n",
       "std                                  12.450906   \n",
       "min                                   0.000000   \n",
       "25%                                   0.000000   \n",
       "50%                                   0.000000   \n",
       "75%                                   0.020367   \n",
       "max                                 294.529448   \n",
       "\n",
       "       LogicalDisk._Total..Disk.Write.Bytes.sec  \\\n",
       "count                              2.185800e+04   \n",
       "mean                               8.727357e+05   \n",
       "std                                2.839033e+06   \n",
       "min                                0.000000e+00   \n",
       "25%                                1.189689e+04   \n",
       "50%                                2.995730e+04   \n",
       "75%                                1.846657e+05   \n",
       "max                                5.340136e+07   \n",
       "\n",
       "       LogicalDisk._Total..Disk.Transfers.sec  \\\n",
       "count                            21858.000000   \n",
       "mean                               170.226240   \n",
       "std                                613.871600   \n",
       "min                                  0.000000   \n",
       "25%                                  0.898666   \n",
       "50%                                  2.799896   \n",
       "75%                                 15.624136   \n",
       "max                               7170.887411   \n",
       "\n",
       "       LogicalDisk._Total..Avg..Disk.Bytes.Transfer  \\\n",
       "count                                  21858.000000   \n",
       "mean                                   24095.918454   \n",
       "std                                    48236.762930   \n",
       "min                                        0.000000   \n",
       "25%                                    11442.618180   \n",
       "50%                                    15731.934395   \n",
       "75%                                    23159.538463   \n",
       "max                                   977715.200000   \n",
       "\n",
       "       LogicalDisk._Total..pct_.Disk.Write.Time  \\\n",
       "count                              21858.000000   \n",
       "mean                                   1.174287   \n",
       "std                                    8.560096   \n",
       "min                                    0.000000   \n",
       "25%                                    0.011905   \n",
       "50%                                    0.029984   \n",
       "75%                                    0.138179   \n",
       "max                                  183.675284   \n",
       "\n",
       "       LogicalDisk._Total..Avg..Disk.sec.Transfer         label  \n",
       "count                                21858.000000  21858.000000  \n",
       "mean                                     0.000630      0.500091  \n",
       "std                                      0.000987      0.500011  \n",
       "min                                      0.000000      0.000000  \n",
       "25%                                      0.000292      0.000000  \n",
       "50%                                      0.000392      1.000000  \n",
       "75%                                      0.000622      1.000000  \n",
       "max                                      0.045244      1.000000  \n",
       "\n",
       "[8 rows x 108 columns]"
      ]
     },
     "execution_count": 31,
     "metadata": {},
     "output_type": "execute_result"
    }
   ],
   "source": [
    "#df.describe()"
   ]
  },
  {
   "cell_type": "markdown",
   "id": "3d973f87",
   "metadata": {},
   "source": [
    "We are observing that the range of the columns are highly fluctuating for the columns. So, definitely the data needs to be standardize or we have to normalize the columns before feeding them in the model. But before that, we are going to observe the missing value distribution over the columns."
   ]
  },
  {
   "cell_type": "markdown",
   "id": "2ad16291",
   "metadata": {},
   "source": [
    "## Missing value % investigation and imputation:"
   ]
  },
  {
   "cell_type": "code",
   "execution_count": 32,
   "id": "9decb044",
   "metadata": {},
   "outputs": [],
   "source": [
    "#percent_missing = df.isnull().sum() * 100 / len(df)\n",
    "#missing_value_df = pd.DataFrame({'column_name': df.columns,\n",
    " #                                'percent_missing': percent_missing})\n",
    "#missing_value_df.sort_values('percent_missing', inplace=True)"
   ]
  },
  {
   "cell_type": "code",
   "execution_count": 34,
   "id": "bfd82fe5",
   "metadata": {},
   "outputs": [],
   "source": [
    "#missing_value_df.tail()"
   ]
  },
  {
   "cell_type": "markdown",
   "id": "a6bb4c89",
   "metadata": {},
   "source": [
    "The highest missing percentage is around 1.5% for Process_IO Read Bytes_sec column. So, we are good to go for missing value imputation. We will replace that missing entries by mean at this stage. Later we will check the performance after replacing with Median. "
   ]
  },
  {
   "cell_type": "code",
   "execution_count": 269,
   "id": "3a348534",
   "metadata": {},
   "outputs": [],
   "source": [
    "#df.fillna(df.select_dtypes(include='number').mean(), inplace=True)"
   ]
  },
  {
   "cell_type": "code",
   "execution_count": 270,
   "id": "2e967abf",
   "metadata": {},
   "outputs": [],
   "source": [
    "#percent_missing = df.isnull().sum() * 100 / len(df)\n",
    "#missing_value_df = pd.DataFrame({'column_name': df.columns,\n",
    " #                                'percent_missing': percent_missing})\n",
    "#missing_value_df.sort_values('percent_missing', inplace=True)"
   ]
  },
  {
   "cell_type": "code",
   "execution_count": 35,
   "id": "8ff5fce8",
   "metadata": {},
   "outputs": [],
   "source": [
    "#missing_value_df.tail()"
   ]
  },
  {
   "cell_type": "code",
   "execution_count": null,
   "id": "31fb043a",
   "metadata": {},
   "outputs": [],
   "source": []
  },
  {
   "cell_type": "markdown",
   "id": "4ba4486e",
   "metadata": {},
   "source": [
    "## Seperating independent and dependent variables:"
   ]
  },
  {
   "cell_type": "code",
   "execution_count": 55,
   "id": "3f8888a0",
   "metadata": {},
   "outputs": [],
   "source": [
    "# Removing Y and Id\n",
    "X = df.iloc [: ,:-1].values    # independent variables\n",
    "# Keeping only Y\n",
    "y = df.iloc [: , -1].values    # dependent variables"
   ]
  },
  {
   "cell_type": "markdown",
   "id": "46bad4fe",
   "metadata": {},
   "source": [
    "## Handling Inf values:\n"
   ]
  },
  {
   "cell_type": "code",
   "execution_count": 56,
   "id": "2a65baa8",
   "metadata": {},
   "outputs": [],
   "source": [
    "import numpy as np\n",
    "\n",
    "# find min and max values for each column, ignoring nan, -inf, and inf\n",
    "mins = [np.nanmin(X[:, i][X[:, i] != -np.inf]) for i in range(X.shape[1])]\n",
    "maxs = [np.nanmax(X[:, i][X[:, i] != np.inf]) for i in range(X.shape[1])]\n",
    "\n",
    "# go through matrix one column at a time and replace  + and -infinity \n",
    "# with the max or min for that column\n",
    "for i in range(X.shape[1]):\n",
    "    X[:, i][X[:, i] == -np.inf] = mins[i]\n",
    "    X[:, i][X[:, i] == np.inf] = maxs[i]"
   ]
  },
  {
   "cell_type": "markdown",
   "id": "663a0fd8",
   "metadata": {},
   "source": [
    "## Standardizing all numerical columns "
   ]
  },
  {
   "cell_type": "code",
   "execution_count": 57,
   "id": "eb1dcbfc",
   "metadata": {},
   "outputs": [],
   "source": [
    "# feature Scaling\n",
    "sc = MinMaxScaler(feature_range = (0,1))\n",
    "X = sc.fit_transform(X)"
   ]
  },
  {
   "cell_type": "markdown",
   "id": "4afebebd",
   "metadata": {},
   "source": [
    "# Train test Split"
   ]
  },
  {
   "cell_type": "code",
   "execution_count": 58,
   "id": "3742bd71",
   "metadata": {},
   "outputs": [],
   "source": [
    "from sklearn.model_selection import train_test_split\n",
    "from sklearn.metrics import classification_report\n",
    "\n",
    "X_train, X_test, y_train, y_test = train_test_split(X, y, stratify=y,test_size=0.2)"
   ]
  },
  {
   "cell_type": "markdown",
   "id": "b4ece009",
   "metadata": {},
   "source": [
    "# Unsupervised modelling:"
   ]
  },
  {
   "cell_type": "markdown",
   "id": "59107963",
   "metadata": {},
   "source": [
    "## SOM"
   ]
  },
  {
   "cell_type": "code",
   "execution_count": 59,
   "id": "a0f2e9a5",
   "metadata": {},
   "outputs": [],
   "source": [
    "import numpy as np\n",
    "import matplotlib.pyplot as plt\n",
    "import pandas as pd\n",
    "\n",
    "# Minisom library and module is used for performing Self Organizing Maps\n",
    "from minisom import MiniSom"
   ]
  },
  {
   "cell_type": "code",
   "execution_count": 60,
   "id": "410ea079",
   "metadata": {},
   "outputs": [],
   "source": [
    "def classify(som, data):\n",
    "    \"\"\"Classifies each sample in data in one of the classes definited\n",
    "    using the method labels_map.\n",
    "    Returns a list of the same length of data where the i-th element\n",
    "    is the class assigned to data[i].\n",
    "    \"\"\"\n",
    "    winmap = som.labels_map(X_train, y_train)\n",
    "    default_class = np.sum(list(winmap.values())).most_common()[0][0]\n",
    "    result = []\n",
    "    for d in data:\n",
    "        win_position = som.winner(d)\n",
    "        if win_position in winmap:\n",
    "            result.append(winmap[win_position].most_common()[0][0])\n",
    "        else:\n",
    "            result.append(default_class)\n",
    "    return result"
   ]
  },
  {
   "cell_type": "code",
   "execution_count": 61,
   "id": "7d8be325",
   "metadata": {},
   "outputs": [
    {
     "name": "stderr",
     "output_type": "stream",
     "text": [
      "C:\\Users\\stati\\anaconda3\\lib\\site-packages\\minisom.py:160: UserWarning: Warning: sigma is too high for the dimension of the map.\n",
      "  warn('Warning: sigma is too high for the dimension of the map.')\n",
      "C:\\Users\\stati\\anaconda3\\lib\\site-packages\\minisom.py:374: UserWarning: PCA initialization inappropriate:One of the dimensions of the map is 1.\n",
      "  warn(msg)\n"
     ]
    },
    {
     "name": "stdout",
     "output_type": "stream",
     "text": [
      "              precision    recall  f1-score   support\n",
      "\n",
      "           0       0.86      0.68      0.76      2186\n",
      "           1       0.74      0.89      0.80      2186\n",
      "\n",
      "    accuracy                           0.78      4372\n",
      "   macro avg       0.80      0.78      0.78      4372\n",
      "weighted avg       0.80      0.78      0.78      4372\n",
      "\n"
     ]
    }
   ],
   "source": [
    "# I use linear som topography\n",
    "som_shape = (1, 2)\n",
    "som = MiniSom(som_shape[0], som_shape[1], X_train.shape[1],sigma = 3, learning_rate=0.5, \n",
    "              neighborhood_function='triangle')\n",
    "som.pca_weights_init(X_train)\n",
    "som.train_random(X_train, 100, verbose=False)\n",
    "\n",
    "print(classification_report(y_test, classify(som, X_test)))"
   ]
  },
  {
   "cell_type": "markdown",
   "id": "dd600d1f",
   "metadata": {},
   "source": [
    "## K-means clustering "
   ]
  },
  {
   "cell_type": "code",
   "execution_count": 62,
   "id": "842f2bc8",
   "metadata": {},
   "outputs": [],
   "source": [
    "#Now let's open it with pandas\n",
    "import pandas as pd\n",
    "from pandas import Series,DataFrame\n",
    "from scipy import stats\n",
    "import matplotlib.pyplot as plt\n",
    "import seaborn as sns\n",
    "from sklearn.preprocessing import StandardScaler\n",
    "\n",
    "import numpy as np\n",
    "from sklearn.cluster import AgglomerativeClustering\n",
    "import scipy.cluster.hierarchy as shc\n",
    "from sklearn.cluster import KMeans\n",
    "from sklearn.cluster import DBSCAN\n",
    "from sklearn import metrics \n",
    "\n",
    "\n",
    "import warnings\n",
    "warnings.filterwarnings('ignore')"
   ]
  },
  {
   "cell_type": "code",
   "execution_count": 65,
   "id": "9fd79c0c",
   "metadata": {},
   "outputs": [],
   "source": [
    "def k_means_fit(covariates,centroid_method):\n",
    "    data = pd.DataFrame(covariates)\n",
    "    # from sklearn.cluster import KMeans \n",
    "    clusters = 2\n",
    "    number_of_iteration = 100\n",
    "    kmeans = KMeans(n_clusters = clusters,n_init= number_of_iteration,init = centroid_method,algorithm = \"full\") \n",
    "    kmeans.fit(data) \n",
    "    \n",
    "    y_labels_test = kmeans.predict(X_test)\n",
    "    tab = pd.crosstab(index=y_test, columns=y_labels_test)\n",
    "    print (metrics.classification_report(y_test,y_labels_test))"
   ]
  },
  {
   "cell_type": "code",
   "execution_count": 66,
   "id": "7c5c2bc0",
   "metadata": {},
   "outputs": [
    {
     "name": "stdout",
     "output_type": "stream",
     "text": [
      "              precision    recall  f1-score   support\n",
      "\n",
      "           0       1.00      0.67      0.80      2186\n",
      "           1       0.75      1.00      0.86      2186\n",
      "\n",
      "    accuracy                           0.83      4372\n",
      "   macro avg       0.88      0.83      0.83      4372\n",
      "weighted avg       0.88      0.83      0.83      4372\n",
      "\n"
     ]
    }
   ],
   "source": [
    "k_means_fit(X_train,centroid_method = \"random\")"
   ]
  },
  {
   "cell_type": "markdown",
   "id": "3fc1354e",
   "metadata": {},
   "source": [
    "# Hierchical clustering "
   ]
  },
  {
   "cell_type": "code",
   "execution_count": 67,
   "id": "49480164",
   "metadata": {},
   "outputs": [
    {
     "name": "stdout",
     "output_type": "stream",
     "text": [
      "              precision    recall  f1-score   support\n",
      "\n",
      "           0       0.85      0.68      0.76      2186\n",
      "           1       0.73      0.88      0.80      2186\n",
      "\n",
      "    accuracy                           0.78      4372\n",
      "   macro avg       0.79      0.78      0.78      4372\n",
      "weighted avg       0.79      0.78      0.78      4372\n",
      "\n"
     ]
    }
   ],
   "source": [
    "from sklearn.cluster import AgglomerativeClustering\n",
    "cluster = AgglomerativeClustering(n_clusters=2, affinity='euclidean', linkage='ward')  \n",
    "cluster.fit_predict(X_test)\n",
    "print (metrics.classification_report(y_test,cluster.labels_))"
   ]
  },
  {
   "cell_type": "markdown",
   "id": "606d8eec",
   "metadata": {},
   "source": [
    "# Result"
   ]
  },
  {
   "cell_type": "markdown",
   "id": "ad5d7128",
   "metadata": {},
   "source": [
    "Among these three clustering methods K-means clustering giving us the best classification accuracy which is 85%."
   ]
  },
  {
   "cell_type": "markdown",
   "id": "95bd18c5",
   "metadata": {},
   "source": [
    "# Random forest"
   ]
  },
  {
   "cell_type": "code",
   "execution_count": 68,
   "id": "d64a82b5",
   "metadata": {},
   "outputs": [],
   "source": [
    "from sklearn.ensemble import RandomForestClassifier\n",
    "from sklearn import model_selection\n"
   ]
  },
  {
   "cell_type": "code",
   "execution_count": 70,
   "id": "d4faa927",
   "metadata": {},
   "outputs": [
    {
     "name": "stdout",
     "output_type": "stream",
     "text": [
      "Accuracy: 0.987\n"
     ]
    }
   ],
   "source": [
    "forest = RandomForestClassifier()\n",
    "#\n",
    "# Fit the model\n",
    "#\n",
    "forest.fit(X_train, y_train)\n",
    " \n",
    "#\n",
    "# Measure model performance\n",
    "#\n",
    "y_pred = forest.predict(X_test)\n",
    "print('Accuracy: %.3f' % accuracy_score(y_test, y_pred))"
   ]
  },
  {
   "cell_type": "markdown",
   "id": "104e4abc",
   "metadata": {},
   "source": [
    "# SVM"
   ]
  },
  {
   "cell_type": "code",
   "execution_count": 71,
   "id": "7d8ab356",
   "metadata": {},
   "outputs": [
    {
     "name": "stdout",
     "output_type": "stream",
     "text": [
      "Model accuracy score with default hyperparameters: 0.9645\n"
     ]
    }
   ],
   "source": [
    "# import SVC classifier\n",
    "from sklearn.svm import SVC\n",
    "# import metrics to compute accuracy\n",
    "from sklearn.metrics import accuracy_score\n",
    "\n",
    "\n",
    "# instantiate classifier with default hyperparameters\n",
    "svc=SVC() \n",
    "# fit classifier to training set\n",
    "svc.fit(X_train,y_train)\n",
    "\n",
    "\n",
    "# make predictions on test set\n",
    "y_pred=svc.predict(X_test)\n",
    "# compute and print accuracy score\n",
    "print('Model accuracy score with default hyperparameters: {0:0.4f}'. format(accuracy_score(y_test, y_pred)))"
   ]
  },
  {
   "cell_type": "markdown",
   "id": "c9a1cf26",
   "metadata": {},
   "source": [
    "# Feature selection "
   ]
  },
  {
   "cell_type": "code",
   "execution_count": 72,
   "id": "3c022053",
   "metadata": {},
   "outputs": [],
   "source": [
    "from statsmodels.stats.outliers_influence import variance_inflation_factor"
   ]
  },
  {
   "cell_type": "code",
   "execution_count": 73,
   "id": "9d91dfaf",
   "metadata": {},
   "outputs": [],
   "source": [
    "df = pd.read_csv('windows10_dataset_processed.csv',encoding='latin-1')"
   ]
  },
  {
   "cell_type": "markdown",
   "id": "54b3b6f7",
   "metadata": {},
   "source": [
    "## Droping feature using correlation coefficient "
   ]
  },
  {
   "cell_type": "code",
   "execution_count": 74,
   "id": "e9fb3ee0",
   "metadata": {},
   "outputs": [
    {
     "data": {
      "text/plain": [
       "(35214, 109)"
      ]
     },
     "execution_count": 74,
     "metadata": {},
     "output_type": "execute_result"
    }
   ],
   "source": [
    "df.shape"
   ]
  },
  {
   "cell_type": "code",
   "execution_count": 75,
   "id": "354722c4",
   "metadata": {},
   "outputs": [],
   "source": [
    "X = df.iloc[:,2:107]"
   ]
  },
  {
   "cell_type": "code",
   "execution_count": 215,
   "id": "5ec4cbb3",
   "metadata": {},
   "outputs": [],
   "source": [
    "# Create correlation matrix\n",
    "#corr_mat = X.corr(method='pearson').abs()\n",
    "  \n",
    "# Convert correlation matrix to 1-D Series and sort\n",
    "#sorted_mat = corr_mat.unstack().sort_values()"
   ]
  },
  {
   "cell_type": "code",
   "execution_count": 76,
   "id": "86fa7bfc",
   "metadata": {},
   "outputs": [
    {
     "data": {
      "text/html": [
       "<div>\n",
       "<style scoped>\n",
       "    .dataframe tbody tr th:only-of-type {\n",
       "        vertical-align: middle;\n",
       "    }\n",
       "\n",
       "    .dataframe tbody tr th {\n",
       "        vertical-align: top;\n",
       "    }\n",
       "\n",
       "    .dataframe thead th {\n",
       "        text-align: right;\n",
       "    }\n",
       "</style>\n",
       "<table border=\"1\" class=\"dataframe\">\n",
       "  <thead>\n",
       "    <tr style=\"text-align: right;\">\n",
       "      <th></th>\n",
       "      <th>FEATURE_1</th>\n",
       "      <th>FEATURE_2</th>\n",
       "      <th>CORRELATION</th>\n",
       "    </tr>\n",
       "  </thead>\n",
       "  <tbody>\n",
       "    <tr>\n",
       "      <th>0</th>\n",
       "      <td>Processor_DPC_Rate</td>\n",
       "      <td>Processor_DPC_Rate</td>\n",
       "      <td>1.000000</td>\n",
       "    </tr>\n",
       "    <tr>\n",
       "      <th>1</th>\n",
       "      <td>Processor_DPC_Rate</td>\n",
       "      <td>Processor_pct_.Idle_Time</td>\n",
       "      <td>0.282400</td>\n",
       "    </tr>\n",
       "    <tr>\n",
       "      <th>2</th>\n",
       "      <td>Processor_DPC_Rate</td>\n",
       "      <td>Processor_pct_.Interrupt_Time</td>\n",
       "      <td>0.078619</td>\n",
       "    </tr>\n",
       "    <tr>\n",
       "      <th>3</th>\n",
       "      <td>Processor_DPC_Rate</td>\n",
       "      <td>Processor_pct_.User_Time</td>\n",
       "      <td>0.027659</td>\n",
       "    </tr>\n",
       "    <tr>\n",
       "      <th>4</th>\n",
       "      <td>Processor_DPC_Rate</td>\n",
       "      <td>Processor_pct_.C1_Time</td>\n",
       "      <td>0.282400</td>\n",
       "    </tr>\n",
       "  </tbody>\n",
       "</table>\n",
       "</div>"
      ],
      "text/plain": [
       "            FEATURE_1                      FEATURE_2  CORRELATION\n",
       "0  Processor_DPC_Rate             Processor_DPC_Rate     1.000000\n",
       "1  Processor_DPC_Rate       Processor_pct_.Idle_Time     0.282400\n",
       "2  Processor_DPC_Rate  Processor_pct_.Interrupt_Time     0.078619\n",
       "3  Processor_DPC_Rate       Processor_pct_.User_Time     0.027659\n",
       "4  Processor_DPC_Rate         Processor_pct_.C1_Time     0.282400"
      ]
     },
     "execution_count": 76,
     "metadata": {},
     "output_type": "execute_result"
    }
   ],
   "source": [
    "# calculate the correlation matrix and reshape\n",
    "df_corr = X.corr().abs().stack().reset_index()\n",
    "\n",
    "# rename the columns\n",
    "df_corr.columns = ['FEATURE_1', 'FEATURE_2', 'CORRELATION']\n",
    "df_corr.head()\n"
   ]
  },
  {
   "cell_type": "code",
   "execution_count": 77,
   "id": "6651a2c1",
   "metadata": {},
   "outputs": [
    {
     "data": {
      "text/plain": [
       "(11025, 3)"
      ]
     },
     "execution_count": 77,
     "metadata": {},
     "output_type": "execute_result"
    }
   ],
   "source": [
    "df_corr.shape"
   ]
  },
  {
   "cell_type": "code",
   "execution_count": 78,
   "id": "fb77b75c",
   "metadata": {},
   "outputs": [],
   "source": [
    "#df_corr_2 = df_corr[df_corr.CORRELATION<1]\n",
    "df_corr_2 = df_corr[df_corr['FEATURE_1'] != df_corr['FEATURE_2']]"
   ]
  },
  {
   "cell_type": "code",
   "execution_count": 79,
   "id": "416c1768",
   "metadata": {},
   "outputs": [
    {
     "data": {
      "text/plain": [
       "(10920, 3)"
      ]
     },
     "execution_count": 79,
     "metadata": {},
     "output_type": "execute_result"
    }
   ],
   "source": [
    "df_corr_2.shape"
   ]
  },
  {
   "cell_type": "code",
   "execution_count": 80,
   "id": "609fc916",
   "metadata": {},
   "outputs": [],
   "source": [
    "df_corr_3 = df_corr_2[df_corr_2.CORRELATION > 0.9]"
   ]
  },
  {
   "cell_type": "code",
   "execution_count": 81,
   "id": "925812d9",
   "metadata": {},
   "outputs": [
    {
     "data": {
      "text/plain": [
       "(138, 3)"
      ]
     },
     "execution_count": 81,
     "metadata": {},
     "output_type": "execute_result"
    }
   ],
   "source": [
    "df_corr_3.shape"
   ]
  },
  {
   "cell_type": "code",
   "execution_count": 82,
   "id": "22ab7888",
   "metadata": {},
   "outputs": [],
   "source": [
    "# Get unique list of variable names\n",
    "lst1 = df_corr_3.FEATURE_1\n",
    "remove_var = list(set(lst1))"
   ]
  },
  {
   "cell_type": "code",
   "execution_count": 83,
   "id": "94953619",
   "metadata": {},
   "outputs": [
    {
     "data": {
      "text/plain": [
       "55"
      ]
     },
     "execution_count": 83,
     "metadata": {},
     "output_type": "execute_result"
    }
   ],
   "source": [
    "len(remove_var)"
   ]
  },
  {
   "cell_type": "code",
   "execution_count": 84,
   "id": "817e9d14",
   "metadata": {},
   "outputs": [],
   "source": [
    "df = pd.read_csv('windows10_dataset_processed.csv',encoding='latin-1')\n",
    "df = df.drop(remove_var, axis=1)"
   ]
  },
  {
   "cell_type": "code",
   "execution_count": 85,
   "id": "00f92101",
   "metadata": {},
   "outputs": [
    {
     "data": {
      "text/plain": [
       "(35214, 54)"
      ]
     },
     "execution_count": 85,
     "metadata": {},
     "output_type": "execute_result"
    }
   ],
   "source": [
    "df.shape"
   ]
  },
  {
   "cell_type": "code",
   "execution_count": 86,
   "id": "43d250ef",
   "metadata": {},
   "outputs": [],
   "source": [
    "X = df.iloc[:,2:52]"
   ]
  },
  {
   "cell_type": "code",
   "execution_count": 87,
   "id": "4029a5ca",
   "metadata": {},
   "outputs": [
    {
     "data": {
      "text/plain": [
       "<AxesSubplot:>"
      ]
     },
     "execution_count": 87,
     "metadata": {},
     "output_type": "execute_result"
    },
    {
     "data": {
      "image/png": "[encoded data removed]",
      "text/plain": [
       "<Figure size 432x288 with 2 Axes>"
      ]
     },
     "metadata": {
      "needs_background": "light"
     },
     "output_type": "display_data"
    }
   ],
   "source": [
    "sns.heatmap(X.corr().abs(),annot=False)"
   ]
  },
  {
   "cell_type": "markdown",
   "id": "07789da1",
   "metadata": {},
   "source": [
    "## Droping feature using VIF"
   ]
  },
  {
   "cell_type": "code",
   "execution_count": 88,
   "id": "8e866f81",
   "metadata": {},
   "outputs": [
    {
     "name": "stdout",
     "output_type": "stream",
     "text": [
      "                                              feature        VIF\n",
      "0                                  Processor_DPC_Rate   2.521219\n",
      "1                       Processor_pct_.Interrupt_Time   2.609631\n",
      "2                         Processor_C1_ransitions_sec   6.455360\n",
      "3                             Processor_pct_.DPC_Time   4.822283\n",
      "4                      Processor_pct_.Privileged_Time   4.927115\n",
      "5                            Processor_Interrupts_sec   9.374438\n",
      "6                        Process_Working_Set_.Private  10.003760\n",
      "7                            Process_Working_Set_Peak   8.843264\n",
      "8                     Process_IO_Write.Operations_sec   2.080531\n",
      "9                        Process_Page_File.Bytes.Peak  11.897308\n",
      "10                         Process_IO_Other_Bytes_sec   1.790077\n",
      "11                         Process_IO_Write_Bytes_sec   2.458722\n",
      "12                        Process_pct_.Processor_Time   2.695415\n",
      "13                        Process_Pool.Nonpaged.Bytes   1.515351\n",
      "14                                Process_Working.Set  11.950061\n",
      "15                    Process_IO.Other.Operations_sec   2.599392\n",
      "16              Network_I.Intel.R._82574L_GNC.TCP_APS   6.108313\n",
      "17      Network_I.Intel.R._82574L_GNC..Bytes.Sent.sec   2.802995\n",
      "18   Network_I.Intel.R._82574L_GNC..Current.Bandwidth   0.252970\n",
      "19  Network_I.Intel.R._82574L_GNC..TCP.Active.RSC....   1.494961\n",
      "20                            Memory.Pool.Paged.Bytes  17.982617\n",
      "21                 Memory.Free...Zero.Page.List.Bytes   4.169306\n",
      "22                            Memory.Cache.Bytes.Peak  10.661825\n",
      "23                                Memory.Commit.Limit  71.696102\n",
      "24             Memory.Transition.Pages.RePurposed.sec   3.117207\n",
      "25                      Memory.Demand.Zero.Faults.sec   1.502654\n",
      "26                         Memory.Pool.Nonpaged.Bytes  12.729809\n",
      "27  Memory.Long.Term.Average.Standby.Cache.Lifetim...   2.994780\n",
      "28                 Memory.Standby.Cache.Reserve.Bytes   2.591045\n",
      "29                    Memory.Standby.Cache.Core.Bytes   2.774504\n",
      "30                Memory.System.Driver.Resident.Bytes   4.559635\n",
      "31         Memory.Standby.Cache.Normal.Priority.Bytes   4.265553\n",
      "32                 Memory.pct_.Committed.Bytes.In.Use  81.109669\n",
      "33              Memory.Free.System.Page.Table.Entries   1.278353\n",
      "34                    Memory.Modified.Page.List.Bytes   1.481346\n",
      "35                            Memory.Cache.Faults.sec   1.489365\n",
      "36                             Memory.Committed.Bytes  76.801617\n",
      "37                   Memory.System.Driver.Total.Bytes   2.713103\n",
      "38                   Memory.Pool.Paged.Resident.Bytes  16.602580\n",
      "39                            Memory.Write.Copies.sec   1.301127\n",
      "40          LogicalDisk._Total..Avg..Disk.Bytes.Write   6.802966\n",
      "41             LogicalDisk._Total..Avg..Disk.sec.Read   1.263111\n",
      "42                LogicalDisk._Total..Disk.Writes.sec   5.944901\n",
      "43      LogicalDisk._Total..Current.Disk.Queue.Length   1.883596\n",
      "44                   LogicalDisk._Total..Split.IO.Sec   2.072234\n",
      "45            LogicalDisk._Total..Avg..Disk.sec.Write   1.214639\n",
      "46           LogicalDisk._Total..Avg..Disk.Bytes.Read   1.468345\n",
      "47           LogicalDisk._Total..Disk.Write.Bytes.sec   6.845485\n",
      "48       LogicalDisk._Total..Avg..Disk.Bytes.Transfer   6.280875\n",
      "49         LogicalDisk._Total..Avg..Disk.sec.Transfer   1.378081\n"
     ]
    }
   ],
   "source": [
    "# VIF\n",
    "\n",
    " ## VIF dataframe\n",
    "vif_data = pd.DataFrame()\n",
    "vif_data[\"feature\"] = X.columns\n",
    "\n",
    "\n",
    "  \n",
    "# calculating VIF for each feature\n",
    "vif_data[\"VIF\"] = [variance_inflation_factor(X.values, i)\n",
    "                          for i in range(len(X.columns))]\n",
    "  \n",
    "print(vif_data)"
   ]
  },
  {
   "cell_type": "code",
   "execution_count": 89,
   "id": "4c988429",
   "metadata": {},
   "outputs": [],
   "source": [
    "vif_data = vif_data[vif_data.VIF>10]"
   ]
  },
  {
   "cell_type": "code",
   "execution_count": 90,
   "id": "012a60b9",
   "metadata": {},
   "outputs": [],
   "source": [
    "selected_X_from_VIF = df[list(vif_data.feature)]"
   ]
  },
  {
   "cell_type": "code",
   "execution_count": 91,
   "id": "19ba0044",
   "metadata": {},
   "outputs": [
    {
     "data": {
      "text/html": [
       "<div>\n",
       "<style scoped>\n",
       "    .dataframe tbody tr th:only-of-type {\n",
       "        vertical-align: middle;\n",
       "    }\n",
       "\n",
       "    .dataframe tbody tr th {\n",
       "        vertical-align: top;\n",
       "    }\n",
       "\n",
       "    .dataframe thead th {\n",
       "        text-align: right;\n",
       "    }\n",
       "</style>\n",
       "<table border=\"1\" class=\"dataframe\">\n",
       "  <thead>\n",
       "    <tr style=\"text-align: right;\">\n",
       "      <th></th>\n",
       "      <th>Process_Working_Set_.Private</th>\n",
       "      <th>Process_Page_File.Bytes.Peak</th>\n",
       "      <th>Process_Working.Set</th>\n",
       "      <th>Memory.Pool.Paged.Bytes</th>\n",
       "      <th>Memory.Cache.Bytes.Peak</th>\n",
       "      <th>Memory.Commit.Limit</th>\n",
       "      <th>Memory.Pool.Nonpaged.Bytes</th>\n",
       "      <th>Memory.pct_.Committed.Bytes.In.Use</th>\n",
       "      <th>Memory.Committed.Bytes</th>\n",
       "      <th>Memory.Pool.Paged.Resident.Bytes</th>\n",
       "    </tr>\n",
       "  </thead>\n",
       "  <tbody>\n",
       "    <tr>\n",
       "      <th>0</th>\n",
       "      <td>1.185268e+09</td>\n",
       "      <td>9.375539e+09</td>\n",
       "      <td>1.319535e+09</td>\n",
       "      <td>284635136</td>\n",
       "      <td>815652864</td>\n",
       "      <td>6444666880</td>\n",
       "      <td>89763840</td>\n",
       "      <td>53.693804</td>\n",
       "      <td>3.460387e+09</td>\n",
       "      <td>83619840</td>\n",
       "    </tr>\n",
       "    <tr>\n",
       "      <th>1</th>\n",
       "      <td>1.188397e+09</td>\n",
       "      <td>9.379713e+09</td>\n",
       "      <td>1.322865e+09</td>\n",
       "      <td>284782592</td>\n",
       "      <td>815652864</td>\n",
       "      <td>6444666880</td>\n",
       "      <td>89747456</td>\n",
       "      <td>53.687639</td>\n",
       "      <td>3.459990e+09</td>\n",
       "      <td>83984384</td>\n",
       "    </tr>\n",
       "    <tr>\n",
       "      <th>2</th>\n",
       "      <td>1.327067e+09</td>\n",
       "      <td>9.379713e+09</td>\n",
       "      <td>1.412076e+09</td>\n",
       "      <td>284876800</td>\n",
       "      <td>815652864</td>\n",
       "      <td>6444666880</td>\n",
       "      <td>89743360</td>\n",
       "      <td>54.664438</td>\n",
       "      <td>3.522941e+09</td>\n",
       "      <td>79081472</td>\n",
       "    </tr>\n",
       "    <tr>\n",
       "      <th>3</th>\n",
       "      <td>1.276330e+09</td>\n",
       "      <td>9.662480e+09</td>\n",
       "      <td>1.317917e+09</td>\n",
       "      <td>282349568</td>\n",
       "      <td>815652864</td>\n",
       "      <td>6444666880</td>\n",
       "      <td>92037120</td>\n",
       "      <td>57.232499</td>\n",
       "      <td>3.688444e+09</td>\n",
       "      <td>52133888</td>\n",
       "    </tr>\n",
       "    <tr>\n",
       "      <th>4</th>\n",
       "      <td>1.142317e+09</td>\n",
       "      <td>9.845367e+09</td>\n",
       "      <td>1.166090e+09</td>\n",
       "      <td>282263552</td>\n",
       "      <td>815652864</td>\n",
       "      <td>6444666880</td>\n",
       "      <td>93446144</td>\n",
       "      <td>57.230783</td>\n",
       "      <td>3.688333e+09</td>\n",
       "      <td>29245440</td>\n",
       "    </tr>\n",
       "    <tr>\n",
       "      <th>...</th>\n",
       "      <td>...</td>\n",
       "      <td>...</td>\n",
       "      <td>...</td>\n",
       "      <td>...</td>\n",
       "      <td>...</td>\n",
       "      <td>...</td>\n",
       "      <td>...</td>\n",
       "      <td>...</td>\n",
       "      <td>...</td>\n",
       "      <td>...</td>\n",
       "    </tr>\n",
       "    <tr>\n",
       "      <th>35209</th>\n",
       "      <td>1.185944e+09</td>\n",
       "      <td>3.392492e+09</td>\n",
       "      <td>3.351544e+09</td>\n",
       "      <td>112078848</td>\n",
       "      <td>76492800</td>\n",
       "      <td>5770170368</td>\n",
       "      <td>94060544</td>\n",
       "      <td>59.991425</td>\n",
       "      <td>3.461607e+09</td>\n",
       "      <td>90677248</td>\n",
       "    </tr>\n",
       "    <tr>\n",
       "      <th>35210</th>\n",
       "      <td>1.188110e+09</td>\n",
       "      <td>3.390792e+09</td>\n",
       "      <td>3.346850e+09</td>\n",
       "      <td>112078848</td>\n",
       "      <td>76492800</td>\n",
       "      <td>5770170368</td>\n",
       "      <td>94060544</td>\n",
       "      <td>59.962392</td>\n",
       "      <td>3.459932e+09</td>\n",
       "      <td>90677248</td>\n",
       "    </tr>\n",
       "    <tr>\n",
       "      <th>35211</th>\n",
       "      <td>1.185698e+09</td>\n",
       "      <td>3.390792e+09</td>\n",
       "      <td>3.344355e+09</td>\n",
       "      <td>112078848</td>\n",
       "      <td>76492800</td>\n",
       "      <td>5770170368</td>\n",
       "      <td>94060544</td>\n",
       "      <td>59.957636</td>\n",
       "      <td>3.459658e+09</td>\n",
       "      <td>90677248</td>\n",
       "    </tr>\n",
       "    <tr>\n",
       "      <th>35212</th>\n",
       "      <td>1.201336e+09</td>\n",
       "      <td>3.392430e+09</td>\n",
       "      <td>3.365765e+09</td>\n",
       "      <td>112078848</td>\n",
       "      <td>76492800</td>\n",
       "      <td>5770170368</td>\n",
       "      <td>94064640</td>\n",
       "      <td>60.290417</td>\n",
       "      <td>3.478860e+09</td>\n",
       "      <td>90681344</td>\n",
       "    </tr>\n",
       "    <tr>\n",
       "      <th>35213</th>\n",
       "      <td>1.210847e+09</td>\n",
       "      <td>3.405488e+09</td>\n",
       "      <td>3.354874e+09</td>\n",
       "      <td>112037888</td>\n",
       "      <td>76492800</td>\n",
       "      <td>5770170368</td>\n",
       "      <td>94314496</td>\n",
       "      <td>59.691652</td>\n",
       "      <td>3.444310e+09</td>\n",
       "      <td>90632192</td>\n",
       "    </tr>\n",
       "  </tbody>\n",
       "</table>\n",
       "<p>35214 rows × 10 columns</p>\n",
       "</div>"
      ],
      "text/plain": [
       "       Process_Working_Set_.Private  Process_Page_File.Bytes.Peak  \\\n",
       "0                      1.185268e+09                  9.375539e+09   \n",
       "1                      1.188397e+09                  9.379713e+09   \n",
       "2                      1.327067e+09                  9.379713e+09   \n",
       "3                      1.276330e+09                  9.662480e+09   \n",
       "4                      1.142317e+09                  9.845367e+09   \n",
       "...                             ...                           ...   \n",
       "35209                  1.185944e+09                  3.392492e+09   \n",
       "35210                  1.188110e+09                  3.390792e+09   \n",
       "35211                  1.185698e+09                  3.390792e+09   \n",
       "35212                  1.201336e+09                  3.392430e+09   \n",
       "35213                  1.210847e+09                  3.405488e+09   \n",
       "\n",
       "       Process_Working.Set  Memory.Pool.Paged.Bytes  Memory.Cache.Bytes.Peak  \\\n",
       "0             1.319535e+09                284635136                815652864   \n",
       "1             1.322865e+09                284782592                815652864   \n",
       "2             1.412076e+09                284876800                815652864   \n",
       "3             1.317917e+09                282349568                815652864   \n",
       "4             1.166090e+09                282263552                815652864   \n",
       "...                    ...                      ...                      ...   \n",
       "35209         3.351544e+09                112078848                 76492800   \n",
       "35210         3.346850e+09                112078848                 76492800   \n",
       "35211         3.344355e+09                112078848                 76492800   \n",
       "35212         3.365765e+09                112078848                 76492800   \n",
       "35213         3.354874e+09                112037888                 76492800   \n",
       "\n",
       "       Memory.Commit.Limit  Memory.Pool.Nonpaged.Bytes  \\\n",
       "0               6444666880                    89763840   \n",
       "1               6444666880                    89747456   \n",
       "2               6444666880                    89743360   \n",
       "3               6444666880                    92037120   \n",
       "4               6444666880                    93446144   \n",
       "...                    ...                         ...   \n",
       "35209           5770170368                    94060544   \n",
       "35210           5770170368                    94060544   \n",
       "35211           5770170368                    94060544   \n",
       "35212           5770170368                    94064640   \n",
       "35213           5770170368                    94314496   \n",
       "\n",
       "       Memory.pct_.Committed.Bytes.In.Use  Memory.Committed.Bytes  \\\n",
       "0                               53.693804            3.460387e+09   \n",
       "1                               53.687639            3.459990e+09   \n",
       "2                               54.664438            3.522941e+09   \n",
       "3                               57.232499            3.688444e+09   \n",
       "4                               57.230783            3.688333e+09   \n",
       "...                                   ...                     ...   \n",
       "35209                           59.991425            3.461607e+09   \n",
       "35210                           59.962392            3.459932e+09   \n",
       "35211                           59.957636            3.459658e+09   \n",
       "35212                           60.290417            3.478860e+09   \n",
       "35213                           59.691652            3.444310e+09   \n",
       "\n",
       "       Memory.Pool.Paged.Resident.Bytes  \n",
       "0                              83619840  \n",
       "1                              83984384  \n",
       "2                              79081472  \n",
       "3                              52133888  \n",
       "4                              29245440  \n",
       "...                                 ...  \n",
       "35209                          90677248  \n",
       "35210                          90677248  \n",
       "35211                          90677248  \n",
       "35212                          90681344  \n",
       "35213                          90632192  \n",
       "\n",
       "[35214 rows x 10 columns]"
      ]
     },
     "execution_count": 91,
     "metadata": {},
     "output_type": "execute_result"
    }
   ],
   "source": [
    "selected_X_from_VIF"
   ]
  },
  {
   "cell_type": "markdown",
   "id": "aa34e44c",
   "metadata": {},
   "source": [
    "Using the selected variables from high VIF to calculate the correlation coefficient to get the dropping list."
   ]
  },
  {
   "cell_type": "code",
   "execution_count": 92,
   "id": "538acdee",
   "metadata": {},
   "outputs": [],
   "source": [
    "# calculate the correlation matrix and reshape\n",
    "df_corr = selected_X_from_VIF.corr().abs().stack().reset_index()\n",
    "\n",
    "# rename the columns\n",
    "df_corr.columns = ['FEATURE_1', 'FEATURE_2', 'CORRELATION']\n",
    "df_corr = df_corr[df_corr['FEATURE_1'] != df_corr['FEATURE_2']]"
   ]
  },
  {
   "cell_type": "code",
   "execution_count": 93,
   "id": "c1f7a652",
   "metadata": {},
   "outputs": [],
   "source": [
    "df_corr = df_corr[df_corr.CORRELATION>0.6]"
   ]
  },
  {
   "cell_type": "code",
   "execution_count": 94,
   "id": "3602f23f",
   "metadata": {},
   "outputs": [
    {
     "data": {
      "text/html": [
       "<div>\n",
       "<style scoped>\n",
       "    .dataframe tbody tr th:only-of-type {\n",
       "        vertical-align: middle;\n",
       "    }\n",
       "\n",
       "    .dataframe tbody tr th {\n",
       "        vertical-align: top;\n",
       "    }\n",
       "\n",
       "    .dataframe thead th {\n",
       "        text-align: right;\n",
       "    }\n",
       "</style>\n",
       "<table border=\"1\" class=\"dataframe\">\n",
       "  <thead>\n",
       "    <tr style=\"text-align: right;\">\n",
       "      <th></th>\n",
       "      <th>FEATURE_1</th>\n",
       "      <th>FEATURE_2</th>\n",
       "      <th>CORRELATION</th>\n",
       "    </tr>\n",
       "  </thead>\n",
       "  <tbody>\n",
       "    <tr>\n",
       "      <th>39</th>\n",
       "      <td>Memory.Pool.Paged.Bytes</td>\n",
       "      <td>Memory.Pool.Paged.Resident.Bytes</td>\n",
       "      <td>0.722673</td>\n",
       "    </tr>\n",
       "    <tr>\n",
       "      <th>78</th>\n",
       "      <td>Memory.pct_.Committed.Bytes.In.Use</td>\n",
       "      <td>Memory.Committed.Bytes</td>\n",
       "      <td>0.620311</td>\n",
       "    </tr>\n",
       "    <tr>\n",
       "      <th>87</th>\n",
       "      <td>Memory.Committed.Bytes</td>\n",
       "      <td>Memory.pct_.Committed.Bytes.In.Use</td>\n",
       "      <td>0.620311</td>\n",
       "    </tr>\n",
       "    <tr>\n",
       "      <th>93</th>\n",
       "      <td>Memory.Pool.Paged.Resident.Bytes</td>\n",
       "      <td>Memory.Pool.Paged.Bytes</td>\n",
       "      <td>0.722673</td>\n",
       "    </tr>\n",
       "  </tbody>\n",
       "</table>\n",
       "</div>"
      ],
      "text/plain": [
       "                             FEATURE_1                           FEATURE_2  \\\n",
       "39             Memory.Pool.Paged.Bytes    Memory.Pool.Paged.Resident.Bytes   \n",
       "78  Memory.pct_.Committed.Bytes.In.Use              Memory.Committed.Bytes   \n",
       "87              Memory.Committed.Bytes  Memory.pct_.Committed.Bytes.In.Use   \n",
       "93    Memory.Pool.Paged.Resident.Bytes             Memory.Pool.Paged.Bytes   \n",
       "\n",
       "    CORRELATION  \n",
       "39     0.722673  \n",
       "78     0.620311  \n",
       "87     0.620311  \n",
       "93     0.722673  "
      ]
     },
     "execution_count": 94,
     "metadata": {},
     "output_type": "execute_result"
    }
   ],
   "source": [
    "df_corr"
   ]
  },
  {
   "cell_type": "code",
   "execution_count": 95,
   "id": "5c2a763d",
   "metadata": {},
   "outputs": [],
   "source": [
    "# Get unique list of variable names\n",
    "lst1 = df_corr.FEATURE_1\n",
    "remove_var = list(set(lst1))"
   ]
  },
  {
   "cell_type": "code",
   "execution_count": 96,
   "id": "f3c647a0",
   "metadata": {},
   "outputs": [],
   "source": [
    "df = df.drop(remove_var, axis=1)"
   ]
  },
  {
   "cell_type": "code",
   "execution_count": 97,
   "id": "48489bee",
   "metadata": {},
   "outputs": [],
   "source": [
    "X = df.iloc[:,2:48]"
   ]
  },
  {
   "cell_type": "code",
   "execution_count": 98,
   "id": "310e6865",
   "metadata": {},
   "outputs": [
    {
     "name": "stdout",
     "output_type": "stream",
     "text": [
      "                                              feature       VIF\n",
      "0                                  Processor_DPC_Rate  2.514903\n",
      "1                       Processor_pct_.Interrupt_Time  2.534748\n",
      "2                         Processor_C1_ransitions_sec  6.299200\n",
      "3                             Processor_pct_.DPC_Time  4.816040\n",
      "4                      Processor_pct_.Privileged_Time  4.903292\n",
      "5                            Processor_Interrupts_sec  9.204509\n",
      "6                        Process_Working_Set_.Private  7.265765\n",
      "7                            Process_Working_Set_Peak  7.214768\n",
      "8                     Process_IO_Write.Operations_sec  2.007405\n",
      "9                        Process_Page_File.Bytes.Peak  7.937695\n",
      "10                         Process_IO_Other_Bytes_sec  1.755975\n",
      "11                         Process_IO_Write_Bytes_sec  2.386929\n",
      "12                        Process_pct_.Processor_Time  2.674068\n",
      "13                        Process_Pool.Nonpaged.Bytes  1.315230\n",
      "14                                Process_Working.Set  7.698441\n",
      "15                    Process_IO.Other.Operations_sec  2.517206\n",
      "16              Network_I.Intel.R._82574L_GNC.TCP_APS  5.189657\n",
      "17      Network_I.Intel.R._82574L_GNC..Bytes.Sent.sec  2.797047\n",
      "18   Network_I.Intel.R._82574L_GNC..Current.Bandwidth  0.223672\n",
      "19  Network_I.Intel.R._82574L_GNC..TCP.Active.RSC....  1.478866\n",
      "20                 Memory.Free...Zero.Page.List.Bytes  2.106934\n",
      "21                            Memory.Cache.Bytes.Peak  3.480760\n",
      "22                                Memory.Commit.Limit  3.028227\n",
      "23             Memory.Transition.Pages.RePurposed.sec  3.106682\n",
      "24                      Memory.Demand.Zero.Faults.sec  1.500575\n",
      "25                         Memory.Pool.Nonpaged.Bytes  3.097100\n",
      "26  Memory.Long.Term.Average.Standby.Cache.Lifetim...  2.903628\n",
      "27                 Memory.Standby.Cache.Reserve.Bytes  2.290097\n",
      "28                    Memory.Standby.Cache.Core.Bytes  2.437759\n",
      "29                Memory.System.Driver.Resident.Bytes  3.275849\n",
      "30         Memory.Standby.Cache.Normal.Priority.Bytes  3.426523\n",
      "31              Memory.Free.System.Page.Table.Entries  1.262265\n",
      "32                    Memory.Modified.Page.List.Bytes  1.431963\n",
      "33                            Memory.Cache.Faults.sec  1.479737\n",
      "34                   Memory.System.Driver.Total.Bytes  2.464760\n",
      "35                            Memory.Write.Copies.sec  1.293149\n",
      "36          LogicalDisk._Total..Avg..Disk.Bytes.Write  6.777463\n",
      "37             LogicalDisk._Total..Avg..Disk.sec.Read  1.245872\n",
      "38                LogicalDisk._Total..Disk.Writes.sec  5.723935\n",
      "39      LogicalDisk._Total..Current.Disk.Queue.Length  1.839926\n",
      "40                   LogicalDisk._Total..Split.IO.Sec  1.994492\n",
      "41            LogicalDisk._Total..Avg..Disk.sec.Write  1.204137\n",
      "42           LogicalDisk._Total..Avg..Disk.Bytes.Read  1.458364\n",
      "43           LogicalDisk._Total..Disk.Write.Bytes.sec  6.798089\n",
      "44       LogicalDisk._Total..Avg..Disk.Bytes.Transfer  6.271934\n",
      "45         LogicalDisk._Total..Avg..Disk.sec.Transfer  1.359155\n"
     ]
    }
   ],
   "source": [
    " ## VIF dataframe\n",
    "vif_data = pd.DataFrame()\n",
    "vif_data[\"feature\"] = X.columns\n",
    "\n",
    "\n",
    "  \n",
    "# calculating VIF for each feature\n",
    "vif_data[\"VIF\"] = [variance_inflation_factor(X.values, i)\n",
    "                          for i in range(len(X.columns))]\n",
    "  \n",
    "print(vif_data)"
   ]
  },
  {
   "cell_type": "markdown",
   "id": "5ca4fb00",
   "metadata": {},
   "source": [
    "Now all the features looks in a good shape in terms of multicolliniarity because all of the VIF under 10. We can use this independent variable set to build our machine learining model. "
   ]
  },
  {
   "cell_type": "code",
   "execution_count": 99,
   "id": "a4d7666d",
   "metadata": {},
   "outputs": [
    {
     "data": {
      "text/plain": [
       "0                                    Processor_DPC_Rate\n",
       "1                         Processor_pct_.Interrupt_Time\n",
       "2                           Processor_C1_ransitions_sec\n",
       "3                               Processor_pct_.DPC_Time\n",
       "4                        Processor_pct_.Privileged_Time\n",
       "5                              Processor_Interrupts_sec\n",
       "6                          Process_Working_Set_.Private\n",
       "7                              Process_Working_Set_Peak\n",
       "8                       Process_IO_Write.Operations_sec\n",
       "9                          Process_Page_File.Bytes.Peak\n",
       "10                           Process_IO_Other_Bytes_sec\n",
       "11                           Process_IO_Write_Bytes_sec\n",
       "12                          Process_pct_.Processor_Time\n",
       "13                          Process_Pool.Nonpaged.Bytes\n",
       "14                                  Process_Working.Set\n",
       "15                      Process_IO.Other.Operations_sec\n",
       "16                Network_I.Intel.R._82574L_GNC.TCP_APS\n",
       "17        Network_I.Intel.R._82574L_GNC..Bytes.Sent.sec\n",
       "18     Network_I.Intel.R._82574L_GNC..Current.Bandwidth\n",
       "19    Network_I.Intel.R._82574L_GNC..TCP.Active.RSC....\n",
       "20                   Memory.Free...Zero.Page.List.Bytes\n",
       "21                              Memory.Cache.Bytes.Peak\n",
       "22                                  Memory.Commit.Limit\n",
       "23               Memory.Transition.Pages.RePurposed.sec\n",
       "24                        Memory.Demand.Zero.Faults.sec\n",
       "25                           Memory.Pool.Nonpaged.Bytes\n",
       "26    Memory.Long.Term.Average.Standby.Cache.Lifetim...\n",
       "27                   Memory.Standby.Cache.Reserve.Bytes\n",
       "28                      Memory.Standby.Cache.Core.Bytes\n",
       "29                  Memory.System.Driver.Resident.Bytes\n",
       "30           Memory.Standby.Cache.Normal.Priority.Bytes\n",
       "31                Memory.Free.System.Page.Table.Entries\n",
       "32                      Memory.Modified.Page.List.Bytes\n",
       "33                              Memory.Cache.Faults.sec\n",
       "34                     Memory.System.Driver.Total.Bytes\n",
       "35                              Memory.Write.Copies.sec\n",
       "36            LogicalDisk._Total..Avg..Disk.Bytes.Write\n",
       "37               LogicalDisk._Total..Avg..Disk.sec.Read\n",
       "38                  LogicalDisk._Total..Disk.Writes.sec\n",
       "39        LogicalDisk._Total..Current.Disk.Queue.Length\n",
       "40                     LogicalDisk._Total..Split.IO.Sec\n",
       "41              LogicalDisk._Total..Avg..Disk.sec.Write\n",
       "42             LogicalDisk._Total..Avg..Disk.Bytes.Read\n",
       "43             LogicalDisk._Total..Disk.Write.Bytes.sec\n",
       "44         LogicalDisk._Total..Avg..Disk.Bytes.Transfer\n",
       "45           LogicalDisk._Total..Avg..Disk.sec.Transfer\n",
       "Name: feature, dtype: object"
      ]
     },
     "execution_count": 99,
     "metadata": {},
     "output_type": "execute_result"
    }
   ],
   "source": [
    "vif_data.feature"
   ]
  },
  {
   "cell_type": "markdown",
   "id": "0a1f9862",
   "metadata": {},
   "source": [
    "\n",
    "# Model fitting after removing variables:"
   ]
  },
  {
   "cell_type": "code",
   "execution_count": 100,
   "id": "b37f9c4b",
   "metadata": {},
   "outputs": [],
   "source": [
    "df = pd.read_csv('windows10_dataset_processed.csv',encoding='latin-1')\n",
    "df = df.drop(df.columns[0],axis=1)\n",
    "df = df.drop(df.columns[0],axis=1)"
   ]
  },
  {
   "cell_type": "code",
   "execution_count": 101,
   "id": "c405c85e",
   "metadata": {},
   "outputs": [],
   "source": [
    "df_new = df[list(vif_data.feature)]\n",
    "df_new['label'] = df['label']"
   ]
  },
  {
   "cell_type": "code",
   "execution_count": 102,
   "id": "06fa7863",
   "metadata": {},
   "outputs": [],
   "source": [
    "df = df_new"
   ]
  },
  {
   "cell_type": "code",
   "execution_count": 103,
   "id": "caec2a4b",
   "metadata": {},
   "outputs": [
    {
     "data": {
      "text/plain": [
       "(35214, 47)"
      ]
     },
     "execution_count": 103,
     "metadata": {},
     "output_type": "execute_result"
    }
   ],
   "source": [
    "df.shape"
   ]
  },
  {
   "cell_type": "code",
   "execution_count": 104,
   "id": "70b303f3",
   "metadata": {},
   "outputs": [
    {
     "data": {
      "text/html": [
       "<div>\n",
       "<style scoped>\n",
       "    .dataframe tbody tr th:only-of-type {\n",
       "        vertical-align: middle;\n",
       "    }\n",
       "\n",
       "    .dataframe tbody tr th {\n",
       "        vertical-align: top;\n",
       "    }\n",
       "\n",
       "    .dataframe thead th {\n",
       "        text-align: right;\n",
       "    }\n",
       "</style>\n",
       "<table border=\"1\" class=\"dataframe\">\n",
       "  <thead>\n",
       "    <tr style=\"text-align: right;\">\n",
       "      <th></th>\n",
       "      <th>Processor_DPC_Rate</th>\n",
       "      <th>Processor_pct_.Interrupt_Time</th>\n",
       "      <th>Processor_C1_ransitions_sec</th>\n",
       "      <th>Processor_pct_.DPC_Time</th>\n",
       "      <th>Processor_pct_.Privileged_Time</th>\n",
       "      <th>Processor_Interrupts_sec</th>\n",
       "      <th>Process_Working_Set_.Private</th>\n",
       "      <th>Process_Working_Set_Peak</th>\n",
       "      <th>Process_IO_Write.Operations_sec</th>\n",
       "      <th>Process_Page_File.Bytes.Peak</th>\n",
       "      <th>...</th>\n",
       "      <th>LogicalDisk._Total..Avg..Disk.sec.Read</th>\n",
       "      <th>LogicalDisk._Total..Disk.Writes.sec</th>\n",
       "      <th>LogicalDisk._Total..Current.Disk.Queue.Length</th>\n",
       "      <th>LogicalDisk._Total..Split.IO.Sec</th>\n",
       "      <th>LogicalDisk._Total..Avg..Disk.sec.Write</th>\n",
       "      <th>LogicalDisk._Total..Avg..Disk.Bytes.Read</th>\n",
       "      <th>LogicalDisk._Total..Disk.Write.Bytes.sec</th>\n",
       "      <th>LogicalDisk._Total..Avg..Disk.Bytes.Transfer</th>\n",
       "      <th>LogicalDisk._Total..Avg..Disk.sec.Transfer</th>\n",
       "      <th>label</th>\n",
       "    </tr>\n",
       "  </thead>\n",
       "  <tbody>\n",
       "    <tr>\n",
       "      <th>0</th>\n",
       "      <td>4</td>\n",
       "      <td>0.078240</td>\n",
       "      <td>480.094991</td>\n",
       "      <td>0.078240</td>\n",
       "      <td>5.163866</td>\n",
       "      <td>2196.379505</td>\n",
       "      <td>1.185268e+09</td>\n",
       "      <td>5.639348e+09</td>\n",
       "      <td>282.909543</td>\n",
       "      <td>9.375539e+09</td>\n",
       "      <td>...</td>\n",
       "      <td>0.000333</td>\n",
       "      <td>317.960283</td>\n",
       "      <td>0</td>\n",
       "      <td>2.804059</td>\n",
       "      <td>0.000424</td>\n",
       "      <td>20546.65089</td>\n",
       "      <td>1.924988e+06</td>\n",
       "      <td>9100.481592</td>\n",
       "      <td>0.000405</td>\n",
       "      <td>0</td>\n",
       "    </tr>\n",
       "    <tr>\n",
       "      <th>1</th>\n",
       "      <td>9</td>\n",
       "      <td>0.312521</td>\n",
       "      <td>427.041284</td>\n",
       "      <td>0.078130</td>\n",
       "      <td>7.109852</td>\n",
       "      <td>2185.411272</td>\n",
       "      <td>1.188397e+09</td>\n",
       "      <td>5.639348e+09</td>\n",
       "      <td>230.722305</td>\n",
       "      <td>9.379713e+09</td>\n",
       "      <td>...</td>\n",
       "      <td>0.000331</td>\n",
       "      <td>259.425080</td>\n",
       "      <td>0</td>\n",
       "      <td>3.100300</td>\n",
       "      <td>0.000607</td>\n",
       "      <td>25742.31139</td>\n",
       "      <td>1.497233e+06</td>\n",
       "      <td>11153.554490</td>\n",
       "      <td>0.000533</td>\n",
       "      <td>0</td>\n",
       "    </tr>\n",
       "    <tr>\n",
       "      <th>2</th>\n",
       "      <td>5</td>\n",
       "      <td>1.168222</td>\n",
       "      <td>1159.426821</td>\n",
       "      <td>0.233644</td>\n",
       "      <td>20.872230</td>\n",
       "      <td>4418.832843</td>\n",
       "      <td>1.327067e+09</td>\n",
       "      <td>5.639348e+09</td>\n",
       "      <td>373.889746</td>\n",
       "      <td>9.379713e+09</td>\n",
       "      <td>...</td>\n",
       "      <td>0.000733</td>\n",
       "      <td>241.289892</td>\n",
       "      <td>0</td>\n",
       "      <td>5.080836</td>\n",
       "      <td>0.001664</td>\n",
       "      <td>35969.10535</td>\n",
       "      <td>1.854229e+06</td>\n",
       "      <td>26994.265950</td>\n",
       "      <td>0.001028</td>\n",
       "      <td>0</td>\n",
       "    </tr>\n",
       "    <tr>\n",
       "      <th>3</th>\n",
       "      <td>12</td>\n",
       "      <td>1.097192</td>\n",
       "      <td>736.622011</td>\n",
       "      <td>0.313483</td>\n",
       "      <td>31.740194</td>\n",
       "      <td>6617.558513</td>\n",
       "      <td>1.276330e+09</td>\n",
       "      <td>5.730271e+09</td>\n",
       "      <td>296.474808</td>\n",
       "      <td>9.662480e+09</td>\n",
       "      <td>...</td>\n",
       "      <td>0.000960</td>\n",
       "      <td>168.253216</td>\n",
       "      <td>0</td>\n",
       "      <td>4.113525</td>\n",
       "      <td>0.001540</td>\n",
       "      <td>40019.44778</td>\n",
       "      <td>1.591239e+07</td>\n",
       "      <td>53141.663800</td>\n",
       "      <td>0.001099</td>\n",
       "      <td>0</td>\n",
       "    </tr>\n",
       "    <tr>\n",
       "      <th>4</th>\n",
       "      <td>12</td>\n",
       "      <td>1.562431</td>\n",
       "      <td>896.108598</td>\n",
       "      <td>0.703094</td>\n",
       "      <td>40.857571</td>\n",
       "      <td>7302.095730</td>\n",
       "      <td>1.142317e+09</td>\n",
       "      <td>5.828006e+09</td>\n",
       "      <td>306.531906</td>\n",
       "      <td>9.845367e+09</td>\n",
       "      <td>...</td>\n",
       "      <td>0.001255</td>\n",
       "      <td>405.677538</td>\n",
       "      <td>0</td>\n",
       "      <td>4.997260</td>\n",
       "      <td>0.000256</td>\n",
       "      <td>32025.59015</td>\n",
       "      <td>2.360930e+07</td>\n",
       "      <td>40988.684440</td>\n",
       "      <td>0.000913</td>\n",
       "      <td>0</td>\n",
       "    </tr>\n",
       "  </tbody>\n",
       "</table>\n",
       "<p>5 rows × 47 columns</p>\n",
       "</div>"
      ],
      "text/plain": [
       "   Processor_DPC_Rate  Processor_pct_.Interrupt_Time  \\\n",
       "0                   4                       0.078240   \n",
       "1                   9                       0.312521   \n",
       "2                   5                       1.168222   \n",
       "3                  12                       1.097192   \n",
       "4                  12                       1.562431   \n",
       "\n",
       "   Processor_C1_ransitions_sec  Processor_pct_.DPC_Time  \\\n",
       "0                   480.094991                 0.078240   \n",
       "1                   427.041284                 0.078130   \n",
       "2                  1159.426821                 0.233644   \n",
       "3                   736.622011                 0.313483   \n",
       "4                   896.108598                 0.703094   \n",
       "\n",
       "   Processor_pct_.Privileged_Time  Processor_Interrupts_sec  \\\n",
       "0                        5.163866               2196.379505   \n",
       "1                        7.109852               2185.411272   \n",
       "2                       20.872230               4418.832843   \n",
       "3                       31.740194               6617.558513   \n",
       "4                       40.857571               7302.095730   \n",
       "\n",
       "   Process_Working_Set_.Private  Process_Working_Set_Peak  \\\n",
       "0                  1.185268e+09              5.639348e+09   \n",
       "1                  1.188397e+09              5.639348e+09   \n",
       "2                  1.327067e+09              5.639348e+09   \n",
       "3                  1.276330e+09              5.730271e+09   \n",
       "4                  1.142317e+09              5.828006e+09   \n",
       "\n",
       "   Process_IO_Write.Operations_sec  Process_Page_File.Bytes.Peak  ...  \\\n",
       "0                       282.909543                  9.375539e+09  ...   \n",
       "1                       230.722305                  9.379713e+09  ...   \n",
       "2                       373.889746                  9.379713e+09  ...   \n",
       "3                       296.474808                  9.662480e+09  ...   \n",
       "4                       306.531906                  9.845367e+09  ...   \n",
       "\n",
       "   LogicalDisk._Total..Avg..Disk.sec.Read  \\\n",
       "0                                0.000333   \n",
       "1                                0.000331   \n",
       "2                                0.000733   \n",
       "3                                0.000960   \n",
       "4                                0.001255   \n",
       "\n",
       "   LogicalDisk._Total..Disk.Writes.sec  \\\n",
       "0                           317.960283   \n",
       "1                           259.425080   \n",
       "2                           241.289892   \n",
       "3                           168.253216   \n",
       "4                           405.677538   \n",
       "\n",
       "   LogicalDisk._Total..Current.Disk.Queue.Length  \\\n",
       "0                                              0   \n",
       "1                                              0   \n",
       "2                                              0   \n",
       "3                                              0   \n",
       "4                                              0   \n",
       "\n",
       "   LogicalDisk._Total..Split.IO.Sec  LogicalDisk._Total..Avg..Disk.sec.Write  \\\n",
       "0                          2.804059                                 0.000424   \n",
       "1                          3.100300                                 0.000607   \n",
       "2                          5.080836                                 0.001664   \n",
       "3                          4.113525                                 0.001540   \n",
       "4                          4.997260                                 0.000256   \n",
       "\n",
       "   LogicalDisk._Total..Avg..Disk.Bytes.Read  \\\n",
       "0                               20546.65089   \n",
       "1                               25742.31139   \n",
       "2                               35969.10535   \n",
       "3                               40019.44778   \n",
       "4                               32025.59015   \n",
       "\n",
       "   LogicalDisk._Total..Disk.Write.Bytes.sec  \\\n",
       "0                              1.924988e+06   \n",
       "1                              1.497233e+06   \n",
       "2                              1.854229e+06   \n",
       "3                              1.591239e+07   \n",
       "4                              2.360930e+07   \n",
       "\n",
       "   LogicalDisk._Total..Avg..Disk.Bytes.Transfer  \\\n",
       "0                                   9100.481592   \n",
       "1                                  11153.554490   \n",
       "2                                  26994.265950   \n",
       "3                                  53141.663800   \n",
       "4                                  40988.684440   \n",
       "\n",
       "   LogicalDisk._Total..Avg..Disk.sec.Transfer  label  \n",
       "0                                    0.000405      0  \n",
       "1                                    0.000533      0  \n",
       "2                                    0.001028      0  \n",
       "3                                    0.001099      0  \n",
       "4                                    0.000913      0  \n",
       "\n",
       "[5 rows x 47 columns]"
      ]
     },
     "execution_count": 104,
     "metadata": {},
     "output_type": "execute_result"
    }
   ],
   "source": [
    "df.head()"
   ]
  },
  {
   "cell_type": "code",
   "execution_count": 105,
   "id": "4194fae7",
   "metadata": {},
   "outputs": [
    {
     "data": {
      "text/plain": [
       "1    10931\n",
       "0    10927\n",
       "Name: label, dtype: int64"
      ]
     },
     "execution_count": 105,
     "metadata": {},
     "output_type": "execute_result"
    }
   ],
   "source": [
    "freq = df['label'].value_counts()\n",
    "delete_frac = round((freq[0] - freq[1])/freq[0],2)\n",
    "df = df.drop(df.query('label == 0').sample(frac= delete_frac).index)\n",
    "df['label'].value_counts()"
   ]
  },
  {
   "cell_type": "code",
   "execution_count": 106,
   "id": "037e5e53",
   "metadata": {},
   "outputs": [],
   "source": [
    "# Removing Y and Id\n",
    "X = df.iloc [: ,:-1].values    # independent variables\n",
    "# Keeping only Y\n",
    "y = df.iloc [: , -1].values    # dependent variables\n",
    "\n",
    "\n",
    "\n",
    "# find min and max values for each column, ignoring nan, -inf, and inf\n",
    "mins = [np.nanmin(X[:, i][X[:, i] != -np.inf]) for i in range(X.shape[1])]\n",
    "maxs = [np.nanmax(X[:, i][X[:, i] != np.inf]) for i in range(X.shape[1])]\n",
    "\n",
    "# go through matrix one column at a time and replace  + and -infinity \n",
    "# with the max or min for that column\n",
    "for i in range(X.shape[1]):\n",
    "    X[:, i][X[:, i] == -np.inf] = mins[i]\n",
    "    X[:, i][X[:, i] == np.inf] = maxs[i]\n",
    "    \n",
    "    \n",
    "# feature Scaling\n",
    "sc = MinMaxScaler(feature_range = (0,1))\n",
    "X = sc.fit_transform(X)\n",
    "\n",
    "X_train, X_test, y_train, y_test = train_test_split(X, y, stratify=y,test_size=0.2)"
   ]
  },
  {
   "cell_type": "markdown",
   "id": "ce1411d7",
   "metadata": {},
   "source": [
    "## Unsupervised models:"
   ]
  },
  {
   "cell_type": "markdown",
   "id": "d03c7b2b",
   "metadata": {},
   "source": [
    "### SOM"
   ]
  },
  {
   "cell_type": "code",
   "execution_count": 107,
   "id": "bee0ef39",
   "metadata": {},
   "outputs": [
    {
     "name": "stdout",
     "output_type": "stream",
     "text": [
      "              precision    recall  f1-score   support\n",
      "\n",
      "           0       0.73      0.34      0.46      2186\n",
      "           1       0.57      0.87      0.69      2186\n",
      "\n",
      "    accuracy                           0.61      4372\n",
      "   macro avg       0.65      0.61      0.57      4372\n",
      "weighted avg       0.65      0.61      0.57      4372\n",
      "\n"
     ]
    }
   ],
   "source": [
    "# I use linear som topography\n",
    "som_shape = (1, 2)\n",
    "som = MiniSom(som_shape[0], som_shape[1], X_train.shape[1],sigma = 3, learning_rate=0.5, \n",
    "              neighborhood_function='triangle')\n",
    "som.pca_weights_init(X_train)\n",
    "som.train_random(X_train, 100, verbose=False)\n",
    "\n",
    "print(classification_report(y_test, classify(som, X_test)))"
   ]
  },
  {
   "cell_type": "markdown",
   "id": "5725a696",
   "metadata": {},
   "source": [
    "### K-means"
   ]
  },
  {
   "cell_type": "code",
   "execution_count": 108,
   "id": "5e0add9e",
   "metadata": {},
   "outputs": [
    {
     "name": "stdout",
     "output_type": "stream",
     "text": [
      "              precision    recall  f1-score   support\n",
      "\n",
      "           0       0.70      0.33      0.45      2186\n",
      "           1       0.56      0.86      0.68      2186\n",
      "\n",
      "    accuracy                           0.60      4372\n",
      "   macro avg       0.63      0.60      0.57      4372\n",
      "weighted avg       0.63      0.60      0.57      4372\n",
      "\n"
     ]
    }
   ],
   "source": [
    "k_means_fit(X_train,centroid_method = \"random\")"
   ]
  },
  {
   "cell_type": "markdown",
   "id": "0e30250d",
   "metadata": {},
   "source": [
    "### Hierarchical"
   ]
  },
  {
   "cell_type": "code",
   "execution_count": 109,
   "id": "26316626",
   "metadata": {},
   "outputs": [
    {
     "name": "stdout",
     "output_type": "stream",
     "text": [
      "              precision    recall  f1-score   support\n",
      "\n",
      "           0       0.43      0.67      0.52      2186\n",
      "           1       0.25      0.11      0.15      2186\n",
      "\n",
      "    accuracy                           0.39      4372\n",
      "   macro avg       0.34      0.39      0.34      4372\n",
      "weighted avg       0.34      0.39      0.34      4372\n",
      "\n"
     ]
    }
   ],
   "source": [
    "cluster = AgglomerativeClustering(n_clusters=2, affinity='euclidean', linkage='ward')  \n",
    "cluster.fit_predict(X_test)\n",
    "print (metrics.classification_report(y_test,cluster.labels_))"
   ]
  },
  {
   "cell_type": "markdown",
   "id": "d6974f13",
   "metadata": {},
   "source": [
    "## Supervised"
   ]
  },
  {
   "cell_type": "markdown",
   "id": "1fefed50",
   "metadata": {},
   "source": [
    "### Random Forest"
   ]
  },
  {
   "cell_type": "code",
   "execution_count": 110,
   "id": "be01e97b",
   "metadata": {},
   "outputs": [
    {
     "name": "stdout",
     "output_type": "stream",
     "text": [
      "Accuracy: 0.988\n"
     ]
    }
   ],
   "source": [
    "forest = RandomForestClassifier()\n",
    "forest.fit(X_train, y_train)\n",
    " \n",
    "# Measure model performance\n",
    "y_pred = forest.predict(X_test)\n",
    "print('Accuracy: %.3f' % accuracy_score(y_test, y_pred))"
   ]
  },
  {
   "cell_type": "markdown",
   "id": "8ef9c86b",
   "metadata": {},
   "source": [
    "### SVM"
   ]
  },
  {
   "cell_type": "code",
   "execution_count": 111,
   "id": "bd5bdcb7",
   "metadata": {},
   "outputs": [
    {
     "name": "stdout",
     "output_type": "stream",
     "text": [
      "Model accuracy score with default hyperparameters: 0.9648\n"
     ]
    }
   ],
   "source": [
    "svc=SVC() \n",
    "svc.fit(X_train,y_train)\n",
    "y_pred=svc.predict(X_test)\n",
    "# compute and print accuracy score\n",
    "print('Model accuracy score with default hyperparameters: {0:0.4f}'. format(accuracy_score(y_test, y_pred)))"
   ]
  },
  {
   "cell_type": "markdown",
   "id": "a48d6cd2",
   "metadata": {},
   "source": [
    "# Principal componenet analysis (PCA)"
   ]
  },
  {
   "cell_type": "code",
   "execution_count": 148,
   "id": "302d90d3",
   "metadata": {},
   "outputs": [],
   "source": [
    "from sklearn.decomposition import PCA\n",
    "pca_breast = PCA(n_components=5)\n",
    "principalComponents_breast = pca_breast.fit_transform(X)"
   ]
  },
  {
   "cell_type": "code",
   "execution_count": 149,
   "id": "e3d6ccd2",
   "metadata": {},
   "outputs": [],
   "source": [
    "principal_breast_Df = pd.DataFrame(data = principalComponents_breast\n",
    "             , columns = ['pca1', 'pca2',\"pca3\",\"pca4\",\"pca5\"])"
   ]
  },
  {
   "cell_type": "code",
   "execution_count": 150,
   "id": "e37bd7cc",
   "metadata": {},
   "outputs": [
    {
     "name": "stdout",
     "output_type": "stream",
     "text": [
      "Explained variation per principal component: [0.31055866 0.20690079 0.09936562 0.07366428 0.06290903]\n"
     ]
    }
   ],
   "source": [
    "print('Explained variation per principal component: {}'.format(pca_breast.explained_variance_ratio_))\n"
   ]
  },
  {
   "cell_type": "code",
   "execution_count": 151,
   "id": "5eae2ae7",
   "metadata": {},
   "outputs": [
    {
     "data": {
      "text/plain": [
       "(21858, 5)"
      ]
     },
     "execution_count": 151,
     "metadata": {},
     "output_type": "execute_result"
    }
   ],
   "source": [
    "principal_breast_Df.shape"
   ]
  },
  {
   "cell_type": "code",
   "execution_count": 152,
   "id": "ed39e6f6",
   "metadata": {},
   "outputs": [],
   "source": [
    "X_train, X_test, y_train, y_test = train_test_split(principal_breast_Df, y, stratify=y,test_size=0.2)"
   ]
  },
  {
   "cell_type": "code",
   "execution_count": 153,
   "id": "12cc9d6f",
   "metadata": {},
   "outputs": [
    {
     "name": "stdout",
     "output_type": "stream",
     "text": [
      "Accuracy: 0.978\n"
     ]
    }
   ],
   "source": [
    "forest = RandomForestClassifier()\n",
    "forest.fit(X_train, y_train)\n",
    " \n",
    "# Measure model performance\n",
    "y_pred = forest.predict(X_test)\n",
    "print('Accuracy: %.3f' % accuracy_score(y_test, y_pred))"
   ]
  },
  {
   "cell_type": "code",
   "execution_count": 154,
   "id": "9757bda5",
   "metadata": {},
   "outputs": [
    {
     "name": "stdout",
     "output_type": "stream",
     "text": [
      "Model accuracy score with default hyperparameters: 0.9408\n"
     ]
    }
   ],
   "source": [
    "svc=SVC() \n",
    "svc.fit(X_train,y_train)\n",
    "y_pred=svc.predict(X_test)\n",
    "# compute and print accuracy score\n",
    "print('Model accuracy score with default hyperparameters: {0:0.4f}'. format(accuracy_score(y_test, y_pred)))"
   ]
  },
  {
   "cell_type": "code",
   "execution_count": 155,
   "id": "936616bc",
   "metadata": {},
   "outputs": [
    {
     "name": "stdout",
     "output_type": "stream",
     "text": [
      "              precision    recall  f1-score   support\n",
      "\n",
      "           0       0.45      0.70      0.55      2186\n",
      "           1       0.34      0.15      0.21      2186\n",
      "\n",
      "    accuracy                           0.43      4372\n",
      "   macro avg       0.39      0.43      0.38      4372\n",
      "weighted avg       0.39      0.43      0.38      4372\n",
      "\n"
     ]
    }
   ],
   "source": [
    "cluster = AgglomerativeClustering(n_clusters=2, affinity='euclidean', linkage='ward')  \n",
    "cluster.fit_predict(X_test)\n",
    "print (metrics.classification_report(y_test,cluster.labels_))"
   ]
  },
  {
   "cell_type": "code",
   "execution_count": 157,
   "id": "1692731a",
   "metadata": {},
   "outputs": [
    {
     "name": "stdout",
     "output_type": "stream",
     "text": [
      "              precision    recall  f1-score   support\n",
      "\n",
      "           0       0.45      0.68      0.54      2186\n",
      "           1       0.33      0.16      0.21      2186\n",
      "\n",
      "    accuracy                           0.42      4372\n",
      "   macro avg       0.39      0.42      0.38      4372\n",
      "weighted avg       0.39      0.42      0.38      4372\n",
      "\n"
     ]
    }
   ],
   "source": [
    "k_means_fit(X_train,centroid_method = \"random\")"
   ]
  },
  {
   "cell_type": "code",
   "execution_count": 147,
   "id": "85e0679e",
   "metadata": {},
   "outputs": [
    {
     "ename": "KeyError",
     "evalue": "0",
     "output_type": "error",
     "traceback": [
      "\u001b[1;31m---------------------------------------------------------------------------\u001b[0m",
      "\u001b[1;31mKeyError\u001b[0m                                  Traceback (most recent call last)",
      "File \u001b[1;32m~\\anaconda3\\lib\\site-packages\\pandas\\core\\indexes\\base.py:3621\u001b[0m, in \u001b[0;36mIndex.get_loc\u001b[1;34m(self, key, method, tolerance)\u001b[0m\n\u001b[0;32m   3620\u001b[0m \u001b[38;5;28;01mtry\u001b[39;00m:\n\u001b[1;32m-> 3621\u001b[0m     \u001b[38;5;28;01mreturn\u001b[39;00m \u001b[38;5;28;43mself\u001b[39;49m\u001b[38;5;241;43m.\u001b[39;49m\u001b[43m_engine\u001b[49m\u001b[38;5;241;43m.\u001b[39;49m\u001b[43mget_loc\u001b[49m\u001b[43m(\u001b[49m\u001b[43mcasted_key\u001b[49m\u001b[43m)\u001b[49m\n\u001b[0;32m   3622\u001b[0m \u001b[38;5;28;01mexcept\u001b[39;00m \u001b[38;5;167;01mKeyError\u001b[39;00m \u001b[38;5;28;01mas\u001b[39;00m err:\n",
      "File \u001b[1;32m~\\anaconda3\\lib\\site-packages\\pandas\\_libs\\index.pyx:136\u001b[0m, in \u001b[0;36mpandas._libs.index.IndexEngine.get_loc\u001b[1;34m()\u001b[0m\n",
      "File \u001b[1;32m~\\anaconda3\\lib\\site-packages\\pandas\\_libs\\index.pyx:163\u001b[0m, in \u001b[0;36mpandas._libs.index.IndexEngine.get_loc\u001b[1;34m()\u001b[0m\n",
      "File \u001b[1;32mpandas\\_libs\\hashtable_class_helper.pxi:5198\u001b[0m, in \u001b[0;36mpandas._libs.hashtable.PyObjectHashTable.get_item\u001b[1;34m()\u001b[0m\n",
      "File \u001b[1;32mpandas\\_libs\\hashtable_class_helper.pxi:5206\u001b[0m, in \u001b[0;36mpandas._libs.hashtable.PyObjectHashTable.get_item\u001b[1;34m()\u001b[0m\n",
      "\u001b[1;31mKeyError\u001b[0m: 0",
      "\nThe above exception was the direct cause of the following exception:\n",
      "\u001b[1;31mKeyError\u001b[0m                                  Traceback (most recent call last)",
      "Input \u001b[1;32mIn [147]\u001b[0m, in \u001b[0;36m<cell line: 5>\u001b[1;34m()\u001b[0m\n\u001b[0;32m      2\u001b[0m som_shape \u001b[38;5;241m=\u001b[39m (\u001b[38;5;241m1\u001b[39m, \u001b[38;5;241m2\u001b[39m)\n\u001b[0;32m      3\u001b[0m som \u001b[38;5;241m=\u001b[39m MiniSom(som_shape[\u001b[38;5;241m0\u001b[39m], som_shape[\u001b[38;5;241m1\u001b[39m], X_train\u001b[38;5;241m.\u001b[39mshape[\u001b[38;5;241m1\u001b[39m],sigma \u001b[38;5;241m=\u001b[39m \u001b[38;5;241m3\u001b[39m, learning_rate\u001b[38;5;241m=\u001b[39m\u001b[38;5;241m0.5\u001b[39m, \n\u001b[0;32m      4\u001b[0m               neighborhood_function\u001b[38;5;241m=\u001b[39m\u001b[38;5;124m'\u001b[39m\u001b[38;5;124mtriangle\u001b[39m\u001b[38;5;124m'\u001b[39m)\n\u001b[1;32m----> 5\u001b[0m \u001b[43msom\u001b[49m\u001b[38;5;241;43m.\u001b[39;49m\u001b[43mpca_weights_init\u001b[49m\u001b[43m(\u001b[49m\u001b[43mX_train\u001b[49m\u001b[43m)\u001b[49m\n",
      "File \u001b[1;32m~\\anaconda3\\lib\\site-packages\\minisom.py:370\u001b[0m, in \u001b[0;36mMiniSom.pca_weights_init\u001b[1;34m(self, data)\u001b[0m\n\u001b[0;32m    368\u001b[0m     msg \u001b[38;5;241m=\u001b[39m \u001b[38;5;124m'\u001b[39m\u001b[38;5;124mThe data needs at least 2 features for pca initialization\u001b[39m\u001b[38;5;124m'\u001b[39m\n\u001b[0;32m    369\u001b[0m     \u001b[38;5;28;01mraise\u001b[39;00m \u001b[38;5;167;01mValueError\u001b[39;00m(msg)\n\u001b[1;32m--> 370\u001b[0m \u001b[38;5;28;43mself\u001b[39;49m\u001b[38;5;241;43m.\u001b[39;49m\u001b[43m_check_input_len\u001b[49m\u001b[43m(\u001b[49m\u001b[43mdata\u001b[49m\u001b[43m)\u001b[49m\n\u001b[0;32m    371\u001b[0m \u001b[38;5;28;01mif\u001b[39;00m \u001b[38;5;28mlen\u001b[39m(\u001b[38;5;28mself\u001b[39m\u001b[38;5;241m.\u001b[39m_neigx) \u001b[38;5;241m==\u001b[39m \u001b[38;5;241m1\u001b[39m \u001b[38;5;129;01mor\u001b[39;00m \u001b[38;5;28mlen\u001b[39m(\u001b[38;5;28mself\u001b[39m\u001b[38;5;241m.\u001b[39m_neigy) \u001b[38;5;241m==\u001b[39m \u001b[38;5;241m1\u001b[39m:\n\u001b[0;32m    372\u001b[0m     msg \u001b[38;5;241m=\u001b[39m \u001b[38;5;124m'\u001b[39m\u001b[38;5;124mPCA initialization inappropriate:\u001b[39m\u001b[38;5;124m'\u001b[39m \u001b[38;5;241m+\u001b[39m \\\n\u001b[0;32m    373\u001b[0m           \u001b[38;5;124m'\u001b[39m\u001b[38;5;124mOne of the dimensions of the map is 1.\u001b[39m\u001b[38;5;124m'\u001b[39m\n",
      "File \u001b[1;32m~\\anaconda3\\lib\\site-packages\\minisom.py:306\u001b[0m, in \u001b[0;36mMiniSom._check_input_len\u001b[1;34m(self, data)\u001b[0m\n\u001b[0;32m    304\u001b[0m \u001b[38;5;28;01mdef\u001b[39;00m \u001b[38;5;21m_check_input_len\u001b[39m(\u001b[38;5;28mself\u001b[39m, data):\n\u001b[0;32m    305\u001b[0m     \u001b[38;5;124;03m\"\"\"Checks that the data in input is of the correct shape.\"\"\"\u001b[39;00m\n\u001b[1;32m--> 306\u001b[0m     data_len \u001b[38;5;241m=\u001b[39m \u001b[38;5;28mlen\u001b[39m(\u001b[43mdata\u001b[49m\u001b[43m[\u001b[49m\u001b[38;5;241;43m0\u001b[39;49m\u001b[43m]\u001b[49m)\n\u001b[0;32m    307\u001b[0m     \u001b[38;5;28;01mif\u001b[39;00m \u001b[38;5;28mself\u001b[39m\u001b[38;5;241m.\u001b[39m_input_len \u001b[38;5;241m!=\u001b[39m data_len:\n\u001b[0;32m    308\u001b[0m         msg \u001b[38;5;241m=\u001b[39m \u001b[38;5;124m'\u001b[39m\u001b[38;5;124mReceived \u001b[39m\u001b[38;5;132;01m%d\u001b[39;00m\u001b[38;5;124m features, expected \u001b[39m\u001b[38;5;132;01m%d\u001b[39;00m\u001b[38;5;124m.\u001b[39m\u001b[38;5;124m'\u001b[39m \u001b[38;5;241m%\u001b[39m (data_len,\n\u001b[0;32m    309\u001b[0m                                                       \u001b[38;5;28mself\u001b[39m\u001b[38;5;241m.\u001b[39m_input_len)\n",
      "File \u001b[1;32m~\\anaconda3\\lib\\site-packages\\pandas\\core\\frame.py:3505\u001b[0m, in \u001b[0;36mDataFrame.__getitem__\u001b[1;34m(self, key)\u001b[0m\n\u001b[0;32m   3503\u001b[0m \u001b[38;5;28;01mif\u001b[39;00m \u001b[38;5;28mself\u001b[39m\u001b[38;5;241m.\u001b[39mcolumns\u001b[38;5;241m.\u001b[39mnlevels \u001b[38;5;241m>\u001b[39m \u001b[38;5;241m1\u001b[39m:\n\u001b[0;32m   3504\u001b[0m     \u001b[38;5;28;01mreturn\u001b[39;00m \u001b[38;5;28mself\u001b[39m\u001b[38;5;241m.\u001b[39m_getitem_multilevel(key)\n\u001b[1;32m-> 3505\u001b[0m indexer \u001b[38;5;241m=\u001b[39m \u001b[38;5;28;43mself\u001b[39;49m\u001b[38;5;241;43m.\u001b[39;49m\u001b[43mcolumns\u001b[49m\u001b[38;5;241;43m.\u001b[39;49m\u001b[43mget_loc\u001b[49m\u001b[43m(\u001b[49m\u001b[43mkey\u001b[49m\u001b[43m)\u001b[49m\n\u001b[0;32m   3506\u001b[0m \u001b[38;5;28;01mif\u001b[39;00m is_integer(indexer):\n\u001b[0;32m   3507\u001b[0m     indexer \u001b[38;5;241m=\u001b[39m [indexer]\n",
      "File \u001b[1;32m~\\anaconda3\\lib\\site-packages\\pandas\\core\\indexes\\base.py:3623\u001b[0m, in \u001b[0;36mIndex.get_loc\u001b[1;34m(self, key, method, tolerance)\u001b[0m\n\u001b[0;32m   3621\u001b[0m     \u001b[38;5;28;01mreturn\u001b[39;00m \u001b[38;5;28mself\u001b[39m\u001b[38;5;241m.\u001b[39m_engine\u001b[38;5;241m.\u001b[39mget_loc(casted_key)\n\u001b[0;32m   3622\u001b[0m \u001b[38;5;28;01mexcept\u001b[39;00m \u001b[38;5;167;01mKeyError\u001b[39;00m \u001b[38;5;28;01mas\u001b[39;00m err:\n\u001b[1;32m-> 3623\u001b[0m     \u001b[38;5;28;01mraise\u001b[39;00m \u001b[38;5;167;01mKeyError\u001b[39;00m(key) \u001b[38;5;28;01mfrom\u001b[39;00m \u001b[38;5;21;01merr\u001b[39;00m\n\u001b[0;32m   3624\u001b[0m \u001b[38;5;28;01mexcept\u001b[39;00m \u001b[38;5;167;01mTypeError\u001b[39;00m:\n\u001b[0;32m   3625\u001b[0m     \u001b[38;5;66;03m# If we have a listlike key, _check_indexing_error will raise\u001b[39;00m\n\u001b[0;32m   3626\u001b[0m     \u001b[38;5;66;03m#  InvalidIndexError. Otherwise we fall through and re-raise\u001b[39;00m\n\u001b[0;32m   3627\u001b[0m     \u001b[38;5;66;03m#  the TypeError.\u001b[39;00m\n\u001b[0;32m   3628\u001b[0m     \u001b[38;5;28mself\u001b[39m\u001b[38;5;241m.\u001b[39m_check_indexing_error(key)\n",
      "\u001b[1;31mKeyError\u001b[0m: 0"
     ]
    }
   ],
   "source": [
    "# I use linear som topography\n",
    "som_shape = (1, 2)\n",
    "som = MiniSom(som_shape[0], som_shape[1], X_train.shape[1],sigma = 3, learning_rate=0.5, \n",
    "              neighborhood_function='triangle')\n",
    "som.pca_weights_init(X_train)\n",
    "#som.train_random(X_train, 100, verbose=False)\n",
    "\n",
    "#print(classification_report(y_test, classify(som, X_test)))"
   ]
  },
  {
   "cell_type": "code",
   "execution_count": null,
   "id": "04f6fbf8",
   "metadata": {},
   "outputs": [],
   "source": []
  }
 ],
 "metadata": {
  "kernelspec": {
   "display_name": "Python 3 (ipykernel)",
   "language": "python",
   "name": "python3"
  },
  "language_info": {
   "codemirror_mode": {
    "name": "ipython",
    "version": 3
   },
   "file_extension": ".py",
   "mimetype": "text/x-python",
   "name": "python",
   "nbconvert_exporter": "python",
   "pygments_lexer": "ipython3",
   "version": "3.9.12"
  }
 },
 "nbformat": 4,
 "nbformat_minor": 5
}
