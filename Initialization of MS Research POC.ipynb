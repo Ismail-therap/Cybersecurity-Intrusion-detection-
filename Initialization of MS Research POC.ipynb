{
 "cells": [
  {
   "cell_type": "markdown",
   "metadata": {},
   "source": [
    "# Loading data and overview of summary statistics:"
   ]
  },
  {
   "cell_type": "code",
   "execution_count": 1,
   "metadata": {},
   "outputs": [
    {
     "data": {
      "text/html": [
       "<div>\n",
       "<style scoped>\n",
       "    .dataframe tbody tr th:only-of-type {\n",
       "        vertical-align: middle;\n",
       "    }\n",
       "\n",
       "    .dataframe tbody tr th {\n",
       "        vertical-align: top;\n",
       "    }\n",
       "\n",
       "    .dataframe thead th {\n",
       "        text-align: right;\n",
       "    }\n",
       "</style>\n",
       "<table border=\"1\" class=\"dataframe\">\n",
       "  <thead>\n",
       "    <tr style=\"text-align: right;\">\n",
       "      <th></th>\n",
       "      <th>date</th>\n",
       "      <th>time</th>\n",
       "      <th>fridge_temperature</th>\n",
       "      <th>temp_condition</th>\n",
       "      <th>label</th>\n",
       "      <th>type</th>\n",
       "    </tr>\n",
       "  </thead>\n",
       "  <tbody>\n",
       "    <tr>\n",
       "      <th>0</th>\n",
       "      <td>31-Mar-19</td>\n",
       "      <td>12:36:52</td>\n",
       "      <td>13.10</td>\n",
       "      <td>high</td>\n",
       "      <td>0</td>\n",
       "      <td>normal</td>\n",
       "    </tr>\n",
       "    <tr>\n",
       "      <th>1</th>\n",
       "      <td>31-Mar-19</td>\n",
       "      <td>12:36:53</td>\n",
       "      <td>8.65</td>\n",
       "      <td>high</td>\n",
       "      <td>0</td>\n",
       "      <td>normal</td>\n",
       "    </tr>\n",
       "    <tr>\n",
       "      <th>2</th>\n",
       "      <td>31-Mar-19</td>\n",
       "      <td>12:36:54</td>\n",
       "      <td>2.00</td>\n",
       "      <td>low</td>\n",
       "      <td>0</td>\n",
       "      <td>normal</td>\n",
       "    </tr>\n",
       "    <tr>\n",
       "      <th>3</th>\n",
       "      <td>31-Mar-19</td>\n",
       "      <td>12:36:55</td>\n",
       "      <td>4.80</td>\n",
       "      <td>low</td>\n",
       "      <td>0</td>\n",
       "      <td>normal</td>\n",
       "    </tr>\n",
       "    <tr>\n",
       "      <th>4</th>\n",
       "      <td>31-Mar-19</td>\n",
       "      <td>12:36:56</td>\n",
       "      <td>10.70</td>\n",
       "      <td>high</td>\n",
       "      <td>0</td>\n",
       "      <td>normal</td>\n",
       "    </tr>\n",
       "  </tbody>\n",
       "</table>\n",
       "</div>"
      ],
      "text/plain": [
       "        date            time  fridge_temperature temp_condition  label    type\n",
       "0  31-Mar-19     12:36:52                  13.10          high       0  normal\n",
       "1  31-Mar-19     12:36:53                   8.65          high       0  normal\n",
       "2  31-Mar-19     12:36:54                   2.00           low       0  normal\n",
       "3  31-Mar-19     12:36:55                   4.80           low       0  normal\n",
       "4  31-Mar-19     12:36:56                  10.70          high       0  normal"
      ]
     },
     "execution_count": 1,
     "metadata": {},
     "output_type": "execute_result"
    }
   ],
   "source": [
    "import pandas as pd\n",
    "df = pd.read_csv (r'E:\\NMT MS\\Research\\Data\\Processed_datasets\\Processed_datasets\\Processed_IoT_dataset\\IoT_Fridge.csv')\n",
    "df.head()"
   ]
  },
  {
   "cell_type": "code",
   "execution_count": 71,
   "metadata": {},
   "outputs": [
    {
     "data": {
      "text/plain": [
       "date                   object\n",
       "time                   object\n",
       "fridge_temperature    float64\n",
       "temp_condition         object\n",
       "label                   int64\n",
       "type                   object\n",
       "dtype: object"
      ]
     },
     "execution_count": 71,
     "metadata": {},
     "output_type": "execute_result"
    }
   ],
   "source": [
    "df.dtypes"
   ]
  },
  {
   "cell_type": "code",
   "execution_count": 72,
   "metadata": {},
   "outputs": [
    {
     "data": {
      "text/plain": [
       "(587076, 6)"
      ]
     },
     "execution_count": 72,
     "metadata": {},
     "output_type": "execute_result"
    }
   ],
   "source": [
    "df.shape"
   ]
  },
  {
   "cell_type": "markdown",
   "metadata": {},
   "source": [
    "## Summary for numerical variables:"
   ]
  },
  {
   "cell_type": "code",
   "execution_count": 73,
   "metadata": {},
   "outputs": [
    {
     "data": {
      "text/html": [
       "<div>\n",
       "<style scoped>\n",
       "    .dataframe tbody tr th:only-of-type {\n",
       "        vertical-align: middle;\n",
       "    }\n",
       "\n",
       "    .dataframe tbody tr th {\n",
       "        vertical-align: top;\n",
       "    }\n",
       "\n",
       "    .dataframe thead th {\n",
       "        text-align: right;\n",
       "    }\n",
       "</style>\n",
       "<table border=\"1\" class=\"dataframe\">\n",
       "  <thead>\n",
       "    <tr style=\"text-align: right;\">\n",
       "      <th></th>\n",
       "      <th>fridge_temperature</th>\n",
       "      <th>label</th>\n",
       "    </tr>\n",
       "  </thead>\n",
       "  <tbody>\n",
       "    <tr>\n",
       "      <th>count</th>\n",
       "      <td>587076.000000</td>\n",
       "      <td>587076.000000</td>\n",
       "    </tr>\n",
       "    <tr>\n",
       "      <th>mean</th>\n",
       "      <td>7.146993</td>\n",
       "      <td>0.146913</td>\n",
       "    </tr>\n",
       "    <tr>\n",
       "      <th>std</th>\n",
       "      <td>3.624818</td>\n",
       "      <td>0.354019</td>\n",
       "    </tr>\n",
       "    <tr>\n",
       "      <th>min</th>\n",
       "      <td>1.000000</td>\n",
       "      <td>0.000000</td>\n",
       "    </tr>\n",
       "    <tr>\n",
       "      <th>25%</th>\n",
       "      <td>4.200000</td>\n",
       "      <td>0.000000</td>\n",
       "    </tr>\n",
       "    <tr>\n",
       "      <th>50%</th>\n",
       "      <td>6.700000</td>\n",
       "      <td>0.000000</td>\n",
       "    </tr>\n",
       "    <tr>\n",
       "      <th>75%</th>\n",
       "      <td>10.250000</td>\n",
       "      <td>0.000000</td>\n",
       "    </tr>\n",
       "    <tr>\n",
       "      <th>max</th>\n",
       "      <td>14.000000</td>\n",
       "      <td>1.000000</td>\n",
       "    </tr>\n",
       "  </tbody>\n",
       "</table>\n",
       "</div>"
      ],
      "text/plain": [
       "       fridge_temperature          label\n",
       "count       587076.000000  587076.000000\n",
       "mean             7.146993       0.146913\n",
       "std              3.624818       0.354019\n",
       "min              1.000000       0.000000\n",
       "25%              4.200000       0.000000\n",
       "50%              6.700000       0.000000\n",
       "75%             10.250000       0.000000\n",
       "max             14.000000       1.000000"
      ]
     },
     "execution_count": 73,
     "metadata": {},
     "output_type": "execute_result"
    }
   ],
   "source": [
    "df.describe()"
   ]
  },
  {
   "cell_type": "markdown",
   "metadata": {},
   "source": [
    "## Summary of categorical variables"
   ]
  },
  {
   "cell_type": "code",
   "execution_count": 74,
   "metadata": {},
   "outputs": [
    {
     "data": {
      "text/plain": [
       "high      193129\n",
       "low       150183\n",
       "high      114287\n",
       "low        89420\n",
       "high       22563\n",
       "low        17494\n",
       "Name: temp_condition, dtype: int64"
      ]
     },
     "execution_count": 74,
     "metadata": {},
     "output_type": "execute_result"
    }
   ],
   "source": [
    "df[\"temp_condition\"].value_counts()"
   ]
  },
  {
   "cell_type": "code",
   "execution_count": 75,
   "metadata": {},
   "outputs": [
    {
     "data": {
      "text/plain": [
       "normal        500827\n",
       "backdoor       35568\n",
       "password       28425\n",
       "ddos           10233\n",
       "injection       7079\n",
       "ransomware      2902\n",
       "xss             2042\n",
       "Name: type, dtype: int64"
      ]
     },
     "execution_count": 75,
     "metadata": {},
     "output_type": "execute_result"
    }
   ],
   "source": [
    "df[\"type\"].value_counts()"
   ]
  },
  {
   "cell_type": "markdown",
   "metadata": {},
   "source": [
    "# Checking missing values:"
   ]
  },
  {
   "cell_type": "code",
   "execution_count": 76,
   "metadata": {},
   "outputs": [
    {
     "data": {
      "text/plain": [
       "[]"
      ]
     },
     "execution_count": 76,
     "metadata": {},
     "output_type": "execute_result"
    }
   ],
   "source": [
    "# Find the column\n",
    "df.columns[df.isna().any()].tolist()"
   ]
  },
  {
   "cell_type": "code",
   "execution_count": 77,
   "metadata": {},
   "outputs": [
    {
     "data": {
      "text/plain": [
       "(587076, 6)"
      ]
     },
     "execution_count": 77,
     "metadata": {},
     "output_type": "execute_result"
    }
   ],
   "source": [
    "df = df.dropna()\n",
    "df.shape"
   ]
  },
  {
   "cell_type": "markdown",
   "metadata": {},
   "source": [
    "# Feature engineering:"
   ]
  },
  {
   "cell_type": "code",
   "execution_count": 2,
   "metadata": {},
   "outputs": [],
   "source": [
    "df['month'] = pd.DatetimeIndex(df['date']).month"
   ]
  },
  {
   "cell_type": "code",
   "execution_count": 3,
   "metadata": {},
   "outputs": [
    {
     "data": {
      "text/html": [
       "<div>\n",
       "<style scoped>\n",
       "    .dataframe tbody tr th:only-of-type {\n",
       "        vertical-align: middle;\n",
       "    }\n",
       "\n",
       "    .dataframe tbody tr th {\n",
       "        vertical-align: top;\n",
       "    }\n",
       "\n",
       "    .dataframe thead th {\n",
       "        text-align: right;\n",
       "    }\n",
       "</style>\n",
       "<table border=\"1\" class=\"dataframe\">\n",
       "  <thead>\n",
       "    <tr style=\"text-align: right;\">\n",
       "      <th></th>\n",
       "      <th>date</th>\n",
       "      <th>time</th>\n",
       "      <th>fridge_temperature</th>\n",
       "      <th>temp_condition</th>\n",
       "      <th>label</th>\n",
       "      <th>type</th>\n",
       "      <th>month</th>\n",
       "    </tr>\n",
       "  </thead>\n",
       "  <tbody>\n",
       "    <tr>\n",
       "      <th>587071</th>\n",
       "      <td>27-Apr-19</td>\n",
       "      <td>12:41:17</td>\n",
       "      <td>4.00</td>\n",
       "      <td>low</td>\n",
       "      <td>0</td>\n",
       "      <td>normal</td>\n",
       "      <td>4</td>\n",
       "    </tr>\n",
       "    <tr>\n",
       "      <th>587072</th>\n",
       "      <td>27-Apr-19</td>\n",
       "      <td>12:41:17</td>\n",
       "      <td>6.05</td>\n",
       "      <td>high</td>\n",
       "      <td>0</td>\n",
       "      <td>normal</td>\n",
       "      <td>4</td>\n",
       "    </tr>\n",
       "    <tr>\n",
       "      <th>587073</th>\n",
       "      <td>27-Apr-19</td>\n",
       "      <td>12:41:17</td>\n",
       "      <td>12.80</td>\n",
       "      <td>high</td>\n",
       "      <td>0</td>\n",
       "      <td>normal</td>\n",
       "      <td>4</td>\n",
       "    </tr>\n",
       "    <tr>\n",
       "      <th>587074</th>\n",
       "      <td>27-Apr-19</td>\n",
       "      <td>12:41:18</td>\n",
       "      <td>6.50</td>\n",
       "      <td>high</td>\n",
       "      <td>0</td>\n",
       "      <td>normal</td>\n",
       "      <td>4</td>\n",
       "    </tr>\n",
       "    <tr>\n",
       "      <th>587075</th>\n",
       "      <td>27-Apr-19</td>\n",
       "      <td>12:41:20</td>\n",
       "      <td>5.30</td>\n",
       "      <td>low</td>\n",
       "      <td>0</td>\n",
       "      <td>normal</td>\n",
       "      <td>4</td>\n",
       "    </tr>\n",
       "  </tbody>\n",
       "</table>\n",
       "</div>"
      ],
      "text/plain": [
       "             date        time  fridge_temperature temp_condition  label  \\\n",
       "587071  27-Apr-19   12:41:17                 4.00            low      0   \n",
       "587072  27-Apr-19   12:41:17                 6.05           high      0   \n",
       "587073  27-Apr-19   12:41:17                12.80           high      0   \n",
       "587074  27-Apr-19   12:41:18                 6.50           high      0   \n",
       "587075  27-Apr-19   12:41:20                 5.30            low      0   \n",
       "\n",
       "          type  month  \n",
       "587071  normal      4  \n",
       "587072  normal      4  \n",
       "587073  normal      4  \n",
       "587074  normal      4  \n",
       "587075  normal      4  "
      ]
     },
     "execution_count": 3,
     "metadata": {},
     "output_type": "execute_result"
    }
   ],
   "source": [
    "df.tail()"
   ]
  },
  {
   "cell_type": "code",
   "execution_count": 4,
   "metadata": {},
   "outputs": [],
   "source": [
    "df['time'] = df['time'].str.replace(' ','')"
   ]
  },
  {
   "cell_type": "code",
   "execution_count": 5,
   "metadata": {},
   "outputs": [],
   "source": [
    "df['time_hour'] = pd.to_datetime(df['time'],format='%H:%M:%S').dt.hour"
   ]
  },
  {
   "cell_type": "code",
   "execution_count": 6,
   "metadata": {},
   "outputs": [
    {
     "data": {
      "text/html": [
       "<div>\n",
       "<style scoped>\n",
       "    .dataframe tbody tr th:only-of-type {\n",
       "        vertical-align: middle;\n",
       "    }\n",
       "\n",
       "    .dataframe tbody tr th {\n",
       "        vertical-align: top;\n",
       "    }\n",
       "\n",
       "    .dataframe thead th {\n",
       "        text-align: right;\n",
       "    }\n",
       "</style>\n",
       "<table border=\"1\" class=\"dataframe\">\n",
       "  <thead>\n",
       "    <tr style=\"text-align: right;\">\n",
       "      <th></th>\n",
       "      <th>date</th>\n",
       "      <th>time</th>\n",
       "      <th>fridge_temperature</th>\n",
       "      <th>temp_condition</th>\n",
       "      <th>label</th>\n",
       "      <th>type</th>\n",
       "      <th>month</th>\n",
       "      <th>time_hour</th>\n",
       "    </tr>\n",
       "  </thead>\n",
       "  <tbody>\n",
       "    <tr>\n",
       "      <th>0</th>\n",
       "      <td>31-Mar-19</td>\n",
       "      <td>12:36:52</td>\n",
       "      <td>13.10</td>\n",
       "      <td>high</td>\n",
       "      <td>0</td>\n",
       "      <td>normal</td>\n",
       "      <td>3</td>\n",
       "      <td>12</td>\n",
       "    </tr>\n",
       "    <tr>\n",
       "      <th>1</th>\n",
       "      <td>31-Mar-19</td>\n",
       "      <td>12:36:53</td>\n",
       "      <td>8.65</td>\n",
       "      <td>high</td>\n",
       "      <td>0</td>\n",
       "      <td>normal</td>\n",
       "      <td>3</td>\n",
       "      <td>12</td>\n",
       "    </tr>\n",
       "    <tr>\n",
       "      <th>2</th>\n",
       "      <td>31-Mar-19</td>\n",
       "      <td>12:36:54</td>\n",
       "      <td>2.00</td>\n",
       "      <td>low</td>\n",
       "      <td>0</td>\n",
       "      <td>normal</td>\n",
       "      <td>3</td>\n",
       "      <td>12</td>\n",
       "    </tr>\n",
       "    <tr>\n",
       "      <th>3</th>\n",
       "      <td>31-Mar-19</td>\n",
       "      <td>12:36:55</td>\n",
       "      <td>4.80</td>\n",
       "      <td>low</td>\n",
       "      <td>0</td>\n",
       "      <td>normal</td>\n",
       "      <td>3</td>\n",
       "      <td>12</td>\n",
       "    </tr>\n",
       "    <tr>\n",
       "      <th>4</th>\n",
       "      <td>31-Mar-19</td>\n",
       "      <td>12:36:56</td>\n",
       "      <td>10.70</td>\n",
       "      <td>high</td>\n",
       "      <td>0</td>\n",
       "      <td>normal</td>\n",
       "      <td>3</td>\n",
       "      <td>12</td>\n",
       "    </tr>\n",
       "  </tbody>\n",
       "</table>\n",
       "</div>"
      ],
      "text/plain": [
       "        date      time  fridge_temperature temp_condition  label    type  \\\n",
       "0  31-Mar-19  12:36:52               13.10          high       0  normal   \n",
       "1  31-Mar-19  12:36:53                8.65          high       0  normal   \n",
       "2  31-Mar-19  12:36:54                2.00           low       0  normal   \n",
       "3  31-Mar-19  12:36:55                4.80           low       0  normal   \n",
       "4  31-Mar-19  12:36:56               10.70          high       0  normal   \n",
       "\n",
       "   month  time_hour  \n",
       "0      3         12  \n",
       "1      3         12  \n",
       "2      3         12  \n",
       "3      3         12  \n",
       "4      3         12  "
      ]
     },
     "execution_count": 6,
     "metadata": {},
     "output_type": "execute_result"
    }
   ],
   "source": [
    "df.head()"
   ]
  },
  {
   "cell_type": "code",
   "execution_count": 7,
   "metadata": {},
   "outputs": [],
   "source": [
    "df = df[['type','month','time_hour','fridge_temperature','temp_condition','label']]"
   ]
  },
  {
   "cell_type": "code",
   "execution_count": 8,
   "metadata": {},
   "outputs": [
    {
     "data": {
      "text/html": [
       "<div>\n",
       "<style scoped>\n",
       "    .dataframe tbody tr th:only-of-type {\n",
       "        vertical-align: middle;\n",
       "    }\n",
       "\n",
       "    .dataframe tbody tr th {\n",
       "        vertical-align: top;\n",
       "    }\n",
       "\n",
       "    .dataframe thead th {\n",
       "        text-align: right;\n",
       "    }\n",
       "</style>\n",
       "<table border=\"1\" class=\"dataframe\">\n",
       "  <thead>\n",
       "    <tr style=\"text-align: right;\">\n",
       "      <th></th>\n",
       "      <th>type</th>\n",
       "      <th>month</th>\n",
       "      <th>time_hour</th>\n",
       "      <th>fridge_temperature</th>\n",
       "      <th>temp_condition</th>\n",
       "      <th>label</th>\n",
       "    </tr>\n",
       "  </thead>\n",
       "  <tbody>\n",
       "    <tr>\n",
       "      <th>0</th>\n",
       "      <td>normal</td>\n",
       "      <td>3</td>\n",
       "      <td>12</td>\n",
       "      <td>13.10</td>\n",
       "      <td>high</td>\n",
       "      <td>0</td>\n",
       "    </tr>\n",
       "    <tr>\n",
       "      <th>1</th>\n",
       "      <td>normal</td>\n",
       "      <td>3</td>\n",
       "      <td>12</td>\n",
       "      <td>8.65</td>\n",
       "      <td>high</td>\n",
       "      <td>0</td>\n",
       "    </tr>\n",
       "    <tr>\n",
       "      <th>2</th>\n",
       "      <td>normal</td>\n",
       "      <td>3</td>\n",
       "      <td>12</td>\n",
       "      <td>2.00</td>\n",
       "      <td>low</td>\n",
       "      <td>0</td>\n",
       "    </tr>\n",
       "    <tr>\n",
       "      <th>3</th>\n",
       "      <td>normal</td>\n",
       "      <td>3</td>\n",
       "      <td>12</td>\n",
       "      <td>4.80</td>\n",
       "      <td>low</td>\n",
       "      <td>0</td>\n",
       "    </tr>\n",
       "    <tr>\n",
       "      <th>4</th>\n",
       "      <td>normal</td>\n",
       "      <td>3</td>\n",
       "      <td>12</td>\n",
       "      <td>10.70</td>\n",
       "      <td>high</td>\n",
       "      <td>0</td>\n",
       "    </tr>\n",
       "  </tbody>\n",
       "</table>\n",
       "</div>"
      ],
      "text/plain": [
       "     type  month  time_hour  fridge_temperature temp_condition  label\n",
       "0  normal      3         12               13.10          high       0\n",
       "1  normal      3         12                8.65          high       0\n",
       "2  normal      3         12                2.00           low       0\n",
       "3  normal      3         12                4.80           low       0\n",
       "4  normal      3         12               10.70          high       0"
      ]
     },
     "execution_count": 8,
     "metadata": {},
     "output_type": "execute_result"
    }
   ],
   "source": [
    "df.head()"
   ]
  },
  {
   "cell_type": "markdown",
   "metadata": {},
   "source": [
    "# K-means clustering:"
   ]
  },
  {
   "cell_type": "code",
   "execution_count": 15,
   "metadata": {},
   "outputs": [],
   "source": [
    "#Now let's open it with pandas\n",
    "import pandas as pd\n",
    "from pandas import Series,DataFrame\n",
    "from scipy import stats\n",
    "import matplotlib.pyplot as plt\n",
    "import seaborn as sns\n",
    "from sklearn.preprocessing import StandardScaler\n",
    "\n",
    "import numpy as np\n",
    "from sklearn.cluster import AgglomerativeClustering\n",
    "import scipy.cluster.hierarchy as shc\n",
    "from sklearn.cluster import KMeans\n",
    "from sklearn.cluster import DBSCAN\n",
    "\n",
    "import warnings\n",
    "warnings.filterwarnings('ignore')"
   ]
  },
  {
   "cell_type": "markdown",
   "metadata": {},
   "source": [
    "## Encoding"
   ]
  },
  {
   "cell_type": "code",
   "execution_count": 24,
   "metadata": {},
   "outputs": [
    {
     "data": {
      "text/html": [
       "<div>\n",
       "<style scoped>\n",
       "    .dataframe tbody tr th:only-of-type {\n",
       "        vertical-align: middle;\n",
       "    }\n",
       "\n",
       "    .dataframe tbody tr th {\n",
       "        vertical-align: top;\n",
       "    }\n",
       "\n",
       "    .dataframe thead th {\n",
       "        text-align: right;\n",
       "    }\n",
       "</style>\n",
       "<table border=\"1\" class=\"dataframe\">\n",
       "  <thead>\n",
       "    <tr style=\"text-align: right;\">\n",
       "      <th></th>\n",
       "      <th>type</th>\n",
       "      <th>month</th>\n",
       "      <th>time_hour</th>\n",
       "      <th>fridge_temperature</th>\n",
       "      <th>temp_condition</th>\n",
       "      <th>label</th>\n",
       "    </tr>\n",
       "  </thead>\n",
       "  <tbody>\n",
       "    <tr>\n",
       "      <th>0</th>\n",
       "      <td>normal</td>\n",
       "      <td>3</td>\n",
       "      <td>12</td>\n",
       "      <td>13.10</td>\n",
       "      <td>0</td>\n",
       "      <td>0</td>\n",
       "    </tr>\n",
       "    <tr>\n",
       "      <th>1</th>\n",
       "      <td>normal</td>\n",
       "      <td>3</td>\n",
       "      <td>12</td>\n",
       "      <td>8.65</td>\n",
       "      <td>0</td>\n",
       "      <td>0</td>\n",
       "    </tr>\n",
       "    <tr>\n",
       "      <th>2</th>\n",
       "      <td>normal</td>\n",
       "      <td>3</td>\n",
       "      <td>12</td>\n",
       "      <td>2.00</td>\n",
       "      <td>1</td>\n",
       "      <td>0</td>\n",
       "    </tr>\n",
       "    <tr>\n",
       "      <th>3</th>\n",
       "      <td>normal</td>\n",
       "      <td>3</td>\n",
       "      <td>12</td>\n",
       "      <td>4.80</td>\n",
       "      <td>1</td>\n",
       "      <td>0</td>\n",
       "    </tr>\n",
       "    <tr>\n",
       "      <th>4</th>\n",
       "      <td>normal</td>\n",
       "      <td>3</td>\n",
       "      <td>12</td>\n",
       "      <td>10.70</td>\n",
       "      <td>0</td>\n",
       "      <td>0</td>\n",
       "    </tr>\n",
       "    <tr>\n",
       "      <th>...</th>\n",
       "      <td>...</td>\n",
       "      <td>...</td>\n",
       "      <td>...</td>\n",
       "      <td>...</td>\n",
       "      <td>...</td>\n",
       "      <td>...</td>\n",
       "    </tr>\n",
       "    <tr>\n",
       "      <th>587071</th>\n",
       "      <td>normal</td>\n",
       "      <td>4</td>\n",
       "      <td>12</td>\n",
       "      <td>4.00</td>\n",
       "      <td>4</td>\n",
       "      <td>0</td>\n",
       "    </tr>\n",
       "    <tr>\n",
       "      <th>587072</th>\n",
       "      <td>normal</td>\n",
       "      <td>4</td>\n",
       "      <td>12</td>\n",
       "      <td>6.05</td>\n",
       "      <td>5</td>\n",
       "      <td>0</td>\n",
       "    </tr>\n",
       "    <tr>\n",
       "      <th>587073</th>\n",
       "      <td>normal</td>\n",
       "      <td>4</td>\n",
       "      <td>12</td>\n",
       "      <td>12.80</td>\n",
       "      <td>5</td>\n",
       "      <td>0</td>\n",
       "    </tr>\n",
       "    <tr>\n",
       "      <th>587074</th>\n",
       "      <td>normal</td>\n",
       "      <td>4</td>\n",
       "      <td>12</td>\n",
       "      <td>6.50</td>\n",
       "      <td>5</td>\n",
       "      <td>0</td>\n",
       "    </tr>\n",
       "    <tr>\n",
       "      <th>587075</th>\n",
       "      <td>normal</td>\n",
       "      <td>4</td>\n",
       "      <td>12</td>\n",
       "      <td>5.30</td>\n",
       "      <td>4</td>\n",
       "      <td>0</td>\n",
       "    </tr>\n",
       "  </tbody>\n",
       "</table>\n",
       "<p>587076 rows × 6 columns</p>\n",
       "</div>"
      ],
      "text/plain": [
       "          type  month  time_hour  fridge_temperature  temp_condition  label\n",
       "0       normal      3         12               13.10               0      0\n",
       "1       normal      3         12                8.65               0      0\n",
       "2       normal      3         12                2.00               1      0\n",
       "3       normal      3         12                4.80               1      0\n",
       "4       normal      3         12               10.70               0      0\n",
       "...        ...    ...        ...                 ...             ...    ...\n",
       "587071  normal      4         12                4.00               4      0\n",
       "587072  normal      4         12                6.05               5      0\n",
       "587073  normal      4         12               12.80               5      0\n",
       "587074  normal      4         12                6.50               5      0\n",
       "587075  normal      4         12                5.30               4      0\n",
       "\n",
       "[587076 rows x 6 columns]"
      ]
     },
     "execution_count": 24,
     "metadata": {},
     "output_type": "execute_result"
    }
   ],
   "source": [
    "#get all categorical columns\n",
    "#cat_columns = df.select_dtypes(['object']).columns\n",
    "cat_columns = ['temp_condition']\n",
    "#convert all categorical columns to numeric\n",
    "df[cat_columns] = df[cat_columns].apply(lambda x: pd.factorize(x)[0])\n",
    "\n",
    "#view updated DataFrame\n",
    "df"
   ]
  },
  {
   "cell_type": "markdown",
   "metadata": {},
   "source": [
    "## Train test splitting:"
   ]
  },
  {
   "cell_type": "code",
   "execution_count": 16,
   "metadata": {},
   "outputs": [],
   "source": [
    "X = df.iloc[:, 1:6] # first two columns of data frame with all rows\n",
    "y = df.iloc[:,0]"
   ]
  },
  {
   "cell_type": "code",
   "execution_count": 17,
   "metadata": {},
   "outputs": [],
   "source": [
    "data = pd.DataFrame(X)"
   ]
  },
  {
   "cell_type": "code",
   "execution_count": 88,
   "metadata": {},
   "outputs": [],
   "source": [
    "# from sklearn.cluster import KMeans \n",
    "clusters = 7\n",
    "  \n",
    "kmeans = KMeans(n_clusters = clusters) \n",
    "kmeans.fit(data) \n",
    "\n",
    "labels = kmeans.labels_"
   ]
  },
  {
   "cell_type": "code",
   "execution_count": 89,
   "metadata": {},
   "outputs": [],
   "source": [
    "#Glue back to originaal data\n",
    "data['clusters'] = labels"
   ]
  },
  {
   "cell_type": "code",
   "execution_count": 90,
   "metadata": {},
   "outputs": [],
   "source": [
    "data[\"Actual_cat\"] = y"
   ]
  },
  {
   "cell_type": "code",
   "execution_count": 91,
   "metadata": {},
   "outputs": [],
   "source": [
    "data.columns = ['month','time_hour','fridge_temperature','temp_condition','label',\"Predicted\",\"Actual\"]"
   ]
  },
  {
   "cell_type": "code",
   "execution_count": 92,
   "metadata": {},
   "outputs": [
    {
     "data": {
      "text/html": [
       "<div>\n",
       "<style scoped>\n",
       "    .dataframe tbody tr th:only-of-type {\n",
       "        vertical-align: middle;\n",
       "    }\n",
       "\n",
       "    .dataframe tbody tr th {\n",
       "        vertical-align: top;\n",
       "    }\n",
       "\n",
       "    .dataframe thead th {\n",
       "        text-align: right;\n",
       "    }\n",
       "</style>\n",
       "<table border=\"1\" class=\"dataframe\">\n",
       "  <thead>\n",
       "    <tr style=\"text-align: right;\">\n",
       "      <th>Predicted</th>\n",
       "      <th>0</th>\n",
       "      <th>1</th>\n",
       "      <th>2</th>\n",
       "      <th>3</th>\n",
       "      <th>4</th>\n",
       "      <th>5</th>\n",
       "      <th>6</th>\n",
       "    </tr>\n",
       "    <tr>\n",
       "      <th>Actual</th>\n",
       "      <th></th>\n",
       "      <th></th>\n",
       "      <th></th>\n",
       "      <th></th>\n",
       "      <th></th>\n",
       "      <th></th>\n",
       "      <th></th>\n",
       "    </tr>\n",
       "  </thead>\n",
       "  <tbody>\n",
       "    <tr>\n",
       "      <th>backdoor</th>\n",
       "      <td>7331</td>\n",
       "      <td>6444</td>\n",
       "      <td>8158</td>\n",
       "      <td>2379</td>\n",
       "      <td>7167</td>\n",
       "      <td>1976</td>\n",
       "      <td>2113</td>\n",
       "    </tr>\n",
       "    <tr>\n",
       "      <th>ddos</th>\n",
       "      <td>852</td>\n",
       "      <td>792</td>\n",
       "      <td>3950</td>\n",
       "      <td>427</td>\n",
       "      <td>3458</td>\n",
       "      <td>376</td>\n",
       "      <td>378</td>\n",
       "    </tr>\n",
       "    <tr>\n",
       "      <th>injection</th>\n",
       "      <td>3620</td>\n",
       "      <td>3044</td>\n",
       "      <td>0</td>\n",
       "      <td>394</td>\n",
       "      <td>0</td>\n",
       "      <td>20</td>\n",
       "      <td>1</td>\n",
       "    </tr>\n",
       "    <tr>\n",
       "      <th>normal</th>\n",
       "      <td>66846</td>\n",
       "      <td>54671</td>\n",
       "      <td>49413</td>\n",
       "      <td>93134</td>\n",
       "      <td>40888</td>\n",
       "      <td>89526</td>\n",
       "      <td>106349</td>\n",
       "    </tr>\n",
       "    <tr>\n",
       "      <th>password</th>\n",
       "      <td>2474</td>\n",
       "      <td>1999</td>\n",
       "      <td>8033</td>\n",
       "      <td>3062</td>\n",
       "      <td>6935</td>\n",
       "      <td>2859</td>\n",
       "      <td>3063</td>\n",
       "    </tr>\n",
       "    <tr>\n",
       "      <th>ransomware</th>\n",
       "      <td>0</td>\n",
       "      <td>0</td>\n",
       "      <td>0</td>\n",
       "      <td>1128</td>\n",
       "      <td>0</td>\n",
       "      <td>900</td>\n",
       "      <td>874</td>\n",
       "    </tr>\n",
       "    <tr>\n",
       "      <th>xss</th>\n",
       "      <td>0</td>\n",
       "      <td>0</td>\n",
       "      <td>0</td>\n",
       "      <td>814</td>\n",
       "      <td>0</td>\n",
       "      <td>626</td>\n",
       "      <td>602</td>\n",
       "    </tr>\n",
       "  </tbody>\n",
       "</table>\n",
       "</div>"
      ],
      "text/plain": [
       "Predicted       0      1      2      3      4      5       6\n",
       "Actual                                                      \n",
       "backdoor     7331   6444   8158   2379   7167   1976    2113\n",
       "ddos          852    792   3950    427   3458    376     378\n",
       "injection    3620   3044      0    394      0     20       1\n",
       "normal      66846  54671  49413  93134  40888  89526  106349\n",
       "password     2474   1999   8033   3062   6935   2859    3063\n",
       "ransomware      0      0      0   1128      0    900     874\n",
       "xss             0      0      0    814      0    626     602"
      ]
     },
     "execution_count": 92,
     "metadata": {},
     "output_type": "execute_result"
    }
   ],
   "source": [
    "pd.crosstab(index=data['Actual'], columns=data['Predicted'])"
   ]
  },
  {
   "cell_type": "markdown",
   "metadata": {},
   "source": [
    "# SOM"
   ]
  },
  {
   "cell_type": "code",
   "execution_count": 18,
   "metadata": {},
   "outputs": [],
   "source": [
    "def maha(wt,data):\n",
    "    # import the math module \n",
    "    import math\n",
    "    diff = data-wt\n",
    "    left_term = np.dot(diff, IV)\n",
    "    mahal = np.dot(left_term, diff.T)\n",
    "    dist = math.sqrt(mahal)\n",
    "    return dist"
   ]
  },
  {
   "cell_type": "code",
   "execution_count": 25,
   "metadata": {},
   "outputs": [],
   "source": [
    "X = df.iloc[:, 1:6] # first two columns of data frame with all rows\n",
    "y = df.iloc[:,0]"
   ]
  },
  {
   "cell_type": "code",
   "execution_count": 26,
   "metadata": {},
   "outputs": [
    {
     "data": {
      "text/html": [
       "<div>\n",
       "<style scoped>\n",
       "    .dataframe tbody tr th:only-of-type {\n",
       "        vertical-align: middle;\n",
       "    }\n",
       "\n",
       "    .dataframe tbody tr th {\n",
       "        vertical-align: top;\n",
       "    }\n",
       "\n",
       "    .dataframe thead th {\n",
       "        text-align: right;\n",
       "    }\n",
       "</style>\n",
       "<table border=\"1\" class=\"dataframe\">\n",
       "  <thead>\n",
       "    <tr style=\"text-align: right;\">\n",
       "      <th></th>\n",
       "      <th>month</th>\n",
       "      <th>time_hour</th>\n",
       "      <th>fridge_temperature</th>\n",
       "      <th>temp_condition</th>\n",
       "      <th>label</th>\n",
       "    </tr>\n",
       "  </thead>\n",
       "  <tbody>\n",
       "    <tr>\n",
       "      <th>0</th>\n",
       "      <td>3</td>\n",
       "      <td>12</td>\n",
       "      <td>13.10</td>\n",
       "      <td>0</td>\n",
       "      <td>0</td>\n",
       "    </tr>\n",
       "    <tr>\n",
       "      <th>1</th>\n",
       "      <td>3</td>\n",
       "      <td>12</td>\n",
       "      <td>8.65</td>\n",
       "      <td>0</td>\n",
       "      <td>0</td>\n",
       "    </tr>\n",
       "    <tr>\n",
       "      <th>2</th>\n",
       "      <td>3</td>\n",
       "      <td>12</td>\n",
       "      <td>2.00</td>\n",
       "      <td>1</td>\n",
       "      <td>0</td>\n",
       "    </tr>\n",
       "    <tr>\n",
       "      <th>3</th>\n",
       "      <td>3</td>\n",
       "      <td>12</td>\n",
       "      <td>4.80</td>\n",
       "      <td>1</td>\n",
       "      <td>0</td>\n",
       "    </tr>\n",
       "    <tr>\n",
       "      <th>4</th>\n",
       "      <td>3</td>\n",
       "      <td>12</td>\n",
       "      <td>10.70</td>\n",
       "      <td>0</td>\n",
       "      <td>0</td>\n",
       "    </tr>\n",
       "  </tbody>\n",
       "</table>\n",
       "</div>"
      ],
      "text/plain": [
       "   month  time_hour  fridge_temperature  temp_condition  label\n",
       "0      3         12               13.10               0      0\n",
       "1      3         12                8.65               0      0\n",
       "2      3         12                2.00               1      0\n",
       "3      3         12                4.80               1      0\n",
       "4      3         12               10.70               0      0"
      ]
     },
     "execution_count": 26,
     "metadata": {},
     "output_type": "execute_result"
    }
   ],
   "source": [
    "X.head()"
   ]
  },
  {
   "cell_type": "code",
   "execution_count": 27,
   "metadata": {},
   "outputs": [],
   "source": [
    "X = pd.DataFrame(X)"
   ]
  },
  {
   "cell_type": "code",
   "execution_count": 28,
   "metadata": {},
   "outputs": [],
   "source": [
    "cov_X = np.cov(X.T)\n",
    "IV = np.linalg.inv(cov_X)"
   ]
  },
  {
   "cell_type": "code",
   "execution_count": 29,
   "metadata": {},
   "outputs": [
    {
     "name": "stdout",
     "output_type": "stream",
     "text": [
      "The SOM algorithm: \n",
      "\n",
      "\n",
      "Total number of data:  587076\n",
      "Total number of features:  5\n",
      "Total number of Clusters k:  7\n"
     ]
    }
   ],
   "source": [
    "X = np.array(X)\n",
    "\n",
    "#Self organizing map clustering algorithm\n",
    "# The Academician\n",
    "import numpy as np, numpy.random\n",
    "from scipy.spatial import distance\n",
    "np.set_printoptions(suppress=True) #Force-suppress all exponential notation\n",
    "\n",
    "k = 7\n",
    "p = 1\n",
    "alpha = 0.5 # Initial learning rate\n",
    "\n",
    "\n",
    "# Print the number of data and dimension \n",
    "n = len(X)\n",
    "d = len(X[0])\n",
    "addZeros = np.zeros((n, 1))\n",
    "X = np.append(X, addZeros, axis=1)\n",
    "print(\"The SOM algorithm: \\n\")\n",
    "#print(\"The training data: \\n\", X)\n",
    "print(\"\\nTotal number of data: \",n)\n",
    "print(\"Total number of features: \",d)\n",
    "print(\"Total number of Clusters k: \",k)"
   ]
  },
  {
   "cell_type": "code",
   "execution_count": 30,
   "metadata": {},
   "outputs": [
    {
     "name": "stdout",
     "output_type": "stream",
     "text": [
      "\n",
      "The initial weight: \n",
      " [[0.57 0.1  0.85 0.58 0.13 0.08 0.22]\n",
      " [0.92 0.04 0.48 0.53 0.71 0.27 0.63]\n",
      " [0.76 0.77 0.82 0.55 0.25 0.44 0.02]\n",
      " [0.7  0.55 0.13 0.02 0.36 0.07 0.5 ]\n",
      " [0.94 0.48 0.62 0.61 0.36 0.17 0.56]]\n"
     ]
    }
   ],
   "source": [
    "C = np.zeros((k,d+1))\n",
    "\n",
    "weight = np.random.rand(len(X[0])-1,k)\n",
    "print(\"\\nThe initial weight: \\n\", np.round(weight,2))"
   ]
  },
  {
   "cell_type": "code",
   "execution_count": 31,
   "metadata": {},
   "outputs": [
    {
     "data": {
      "text/plain": [
       "(5, 7)"
      ]
     },
     "execution_count": 31,
     "metadata": {},
     "output_type": "execute_result"
    }
   ],
   "source": [
    "weight.shape"
   ]
  },
  {
   "cell_type": "code",
   "execution_count": 32,
   "metadata": {},
   "outputs": [
    {
     "name": "stdout",
     "output_type": "stream",
     "text": [
      "\n",
      "The final weight: \n",
      " [[0.5694 0.1024 3.924  0.5808 0.1329 0.0786 0.2245]\n",
      " [0.9173 0.0366 9.6214 0.5332 0.7111 0.2704 0.6251]\n",
      " [0.7558 0.7706 7.1465 0.5523 0.2458 0.4398 0.0219]\n",
      " [0.6984 0.5507 3.3149 0.0227 0.3634 0.0695 0.4973]\n",
      " [0.9394 0.4805 0.1769 0.6084 0.3571 0.165  0.5624]]\n"
     ]
    }
   ],
   "source": [
    "for it in range(100): # Total number of iterations\n",
    "    for i in range(n):\n",
    "        distMin = 99999999\n",
    "        for j in range(k):\n",
    "            #dist = np.square(distance.euclidean(weight[:,j], X[i,0:d]))\n",
    "            dist = maha(wt = weight[:,j], data = X[i,0:d])\n",
    "            if distMin>dist:\n",
    "                distMin = dist\n",
    "                jMin = j\n",
    "        weight[:,jMin] = weight[:,jMin]*(1-alpha) + alpha*X[i,0:d]   \n",
    "    alpha = 0.5*alpha\n",
    "    \n",
    "print(\"\\nThe final weight: \\n\",np.round(weight,4))"
   ]
  },
  {
   "cell_type": "code",
   "execution_count": 43,
   "metadata": {},
   "outputs": [],
   "source": [
    "for i in range(len(X[0])-1):    \n",
    "    cNumber = np.where(weight[i] == np.amax(weight[i]))\n",
    "    X[i,d] = cNumber[0]"
   ]
  },
  {
   "cell_type": "code",
   "execution_count": 41,
   "metadata": {},
   "outputs": [
    {
     "data": {
      "text/plain": [
       "range(0, 6)"
      ]
     },
     "execution_count": 41,
     "metadata": {},
     "output_type": "execute_result"
    }
   ],
   "source": [
    "range(len(X[0]))"
   ]
  },
  {
   "cell_type": "code",
   "execution_count": 44,
   "metadata": {},
   "outputs": [],
   "source": [
    "predicted = pd.DataFrame(X)"
   ]
  },
  {
   "cell_type": "code",
   "execution_count": 45,
   "metadata": {},
   "outputs": [
    {
     "data": {
      "text/html": [
       "<div>\n",
       "<style scoped>\n",
       "    .dataframe tbody tr th:only-of-type {\n",
       "        vertical-align: middle;\n",
       "    }\n",
       "\n",
       "    .dataframe tbody tr th {\n",
       "        vertical-align: top;\n",
       "    }\n",
       "\n",
       "    .dataframe thead th {\n",
       "        text-align: right;\n",
       "    }\n",
       "</style>\n",
       "<table border=\"1\" class=\"dataframe\">\n",
       "  <thead>\n",
       "    <tr style=\"text-align: right;\">\n",
       "      <th></th>\n",
       "      <th>0</th>\n",
       "      <th>1</th>\n",
       "      <th>2</th>\n",
       "      <th>3</th>\n",
       "      <th>4</th>\n",
       "      <th>5</th>\n",
       "    </tr>\n",
       "  </thead>\n",
       "  <tbody>\n",
       "    <tr>\n",
       "      <th>0</th>\n",
       "      <td>3.0</td>\n",
       "      <td>12.0</td>\n",
       "      <td>13.10</td>\n",
       "      <td>0.0</td>\n",
       "      <td>0.0</td>\n",
       "      <td>2.0</td>\n",
       "    </tr>\n",
       "    <tr>\n",
       "      <th>1</th>\n",
       "      <td>3.0</td>\n",
       "      <td>12.0</td>\n",
       "      <td>8.65</td>\n",
       "      <td>0.0</td>\n",
       "      <td>0.0</td>\n",
       "      <td>2.0</td>\n",
       "    </tr>\n",
       "    <tr>\n",
       "      <th>2</th>\n",
       "      <td>3.0</td>\n",
       "      <td>12.0</td>\n",
       "      <td>2.00</td>\n",
       "      <td>1.0</td>\n",
       "      <td>0.0</td>\n",
       "      <td>2.0</td>\n",
       "    </tr>\n",
       "    <tr>\n",
       "      <th>3</th>\n",
       "      <td>3.0</td>\n",
       "      <td>12.0</td>\n",
       "      <td>4.80</td>\n",
       "      <td>1.0</td>\n",
       "      <td>0.0</td>\n",
       "      <td>2.0</td>\n",
       "    </tr>\n",
       "    <tr>\n",
       "      <th>4</th>\n",
       "      <td>3.0</td>\n",
       "      <td>12.0</td>\n",
       "      <td>10.70</td>\n",
       "      <td>0.0</td>\n",
       "      <td>0.0</td>\n",
       "      <td>0.0</td>\n",
       "    </tr>\n",
       "  </tbody>\n",
       "</table>\n",
       "</div>"
      ],
      "text/plain": [
       "     0     1      2    3    4    5\n",
       "0  3.0  12.0  13.10  0.0  0.0  2.0\n",
       "1  3.0  12.0   8.65  0.0  0.0  2.0\n",
       "2  3.0  12.0   2.00  1.0  0.0  2.0\n",
       "3  3.0  12.0   4.80  1.0  0.0  2.0\n",
       "4  3.0  12.0  10.70  0.0  0.0  0.0"
      ]
     },
     "execution_count": 45,
     "metadata": {},
     "output_type": "execute_result"
    }
   ],
   "source": [
    "predicted.head()"
   ]
  },
  {
   "cell_type": "code",
   "execution_count": 36,
   "metadata": {},
   "outputs": [],
   "source": [
    "predicted[\"Actual_cat\"] = y"
   ]
  },
  {
   "cell_type": "code",
   "execution_count": 38,
   "metadata": {},
   "outputs": [],
   "source": [
    "predicted.columns = ['month','time_hour','fridge_temperature','temp_condition','label',\"Predicted\",\"Actual\"]"
   ]
  },
  {
   "cell_type": "code",
   "execution_count": 39,
   "metadata": {},
   "outputs": [
    {
     "data": {
      "text/html": [
       "<div>\n",
       "<style scoped>\n",
       "    .dataframe tbody tr th:only-of-type {\n",
       "        vertical-align: middle;\n",
       "    }\n",
       "\n",
       "    .dataframe tbody tr th {\n",
       "        vertical-align: top;\n",
       "    }\n",
       "\n",
       "    .dataframe thead th {\n",
       "        text-align: right;\n",
       "    }\n",
       "</style>\n",
       "<table border=\"1\" class=\"dataframe\">\n",
       "  <thead>\n",
       "    <tr style=\"text-align: right;\">\n",
       "      <th>Predicted</th>\n",
       "      <th>0.0</th>\n",
       "      <th>2.0</th>\n",
       "    </tr>\n",
       "    <tr>\n",
       "      <th>Actual</th>\n",
       "      <th></th>\n",
       "      <th></th>\n",
       "    </tr>\n",
       "  </thead>\n",
       "  <tbody>\n",
       "    <tr>\n",
       "      <th>backdoor</th>\n",
       "      <td>35568</td>\n",
       "      <td>0</td>\n",
       "    </tr>\n",
       "    <tr>\n",
       "      <th>ddos</th>\n",
       "      <td>10233</td>\n",
       "      <td>0</td>\n",
       "    </tr>\n",
       "    <tr>\n",
       "      <th>injection</th>\n",
       "      <td>7079</td>\n",
       "      <td>0</td>\n",
       "    </tr>\n",
       "    <tr>\n",
       "      <th>normal</th>\n",
       "      <td>500823</td>\n",
       "      <td>4</td>\n",
       "    </tr>\n",
       "    <tr>\n",
       "      <th>password</th>\n",
       "      <td>28425</td>\n",
       "      <td>0</td>\n",
       "    </tr>\n",
       "    <tr>\n",
       "      <th>ransomware</th>\n",
       "      <td>2902</td>\n",
       "      <td>0</td>\n",
       "    </tr>\n",
       "    <tr>\n",
       "      <th>xss</th>\n",
       "      <td>2042</td>\n",
       "      <td>0</td>\n",
       "    </tr>\n",
       "  </tbody>\n",
       "</table>\n",
       "</div>"
      ],
      "text/plain": [
       "Predicted      0.0  2.0\n",
       "Actual                 \n",
       "backdoor     35568    0\n",
       "ddos         10233    0\n",
       "injection     7079    0\n",
       "normal      500823    4\n",
       "password     28425    0\n",
       "ransomware    2902    0\n",
       "xss           2042    0"
      ]
     },
     "execution_count": 39,
     "metadata": {},
     "output_type": "execute_result"
    }
   ],
   "source": [
    "pd.crosstab(index=predicted['Actual'], columns=predicted['Predicted'])"
   ]
  },
  {
   "cell_type": "code",
   "execution_count": null,
   "metadata": {},
   "outputs": [],
   "source": []
  }
 ],
 "metadata": {
  "kernelspec": {
   "display_name": "Python 3",
   "language": "python",
   "name": "python3"
  },
  "language_info": {
   "codemirror_mode": {
    "name": "ipython",
    "version": 3
   },
   "file_extension": ".py",
   "mimetype": "text/x-python",
   "name": "python",
   "nbconvert_exporter": "python",
   "pygments_lexer": "ipython3",
   "version": "3.7.6"
  }
 },
 "nbformat": 4,
 "nbformat_minor": 4
}
