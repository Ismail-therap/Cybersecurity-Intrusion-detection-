{
 "cells": [
  {
   "cell_type": "markdown",
   "id": "5c2702cf",
   "metadata": {},
   "source": [
    "# Read data "
   ]
  },
  {
   "cell_type": "code",
   "execution_count": 86,
   "id": "5a12e076",
   "metadata": {},
   "outputs": [
    {
     "data": {
      "text/html": [
       "<div>\n",
       "<style scoped>\n",
       "    .dataframe tbody tr th:only-of-type {\n",
       "        vertical-align: middle;\n",
       "    }\n",
       "\n",
       "    .dataframe tbody tr th {\n",
       "        vertical-align: top;\n",
       "    }\n",
       "\n",
       "    .dataframe thead th {\n",
       "        text-align: right;\n",
       "    }\n",
       "</style>\n",
       "<table border=\"1\" class=\"dataframe\">\n",
       "  <thead>\n",
       "    <tr style=\"text-align: right;\">\n",
       "      <th></th>\n",
       "      <th>ts</th>\n",
       "      <th>PID</th>\n",
       "      <th>RDDSK</th>\n",
       "      <th>WRDSK</th>\n",
       "      <th>WCANCL</th>\n",
       "      <th>DSK</th>\n",
       "      <th>CMD</th>\n",
       "      <th>label</th>\n",
       "      <th>type</th>\n",
       "    </tr>\n",
       "  </thead>\n",
       "  <tbody>\n",
       "    <tr>\n",
       "      <th>0</th>\n",
       "      <td>1554218915</td>\n",
       "      <td>3197</td>\n",
       "      <td>148.2</td>\n",
       "      <td>37340</td>\n",
       "      <td>12328</td>\n",
       "      <td>0.22</td>\n",
       "      <td>firefox</td>\n",
       "      <td>0</td>\n",
       "      <td>normal</td>\n",
       "    </tr>\n",
       "    <tr>\n",
       "      <th>1</th>\n",
       "      <td>1554218920</td>\n",
       "      <td>2327</td>\n",
       "      <td>32824</td>\n",
       "      <td>688</td>\n",
       "      <td>4</td>\n",
       "      <td>0.04</td>\n",
       "      <td>init</td>\n",
       "      <td>0</td>\n",
       "      <td>normal</td>\n",
       "    </tr>\n",
       "    <tr>\n",
       "      <th>2</th>\n",
       "      <td>1554218925</td>\n",
       "      <td>2797</td>\n",
       "      <td>23468</td>\n",
       "      <td>7416</td>\n",
       "      <td>6152</td>\n",
       "      <td>0.04</td>\n",
       "      <td>nautilus</td>\n",
       "      <td>0</td>\n",
       "      <td>normal</td>\n",
       "    </tr>\n",
       "    <tr>\n",
       "      <th>3</th>\n",
       "      <td>1554218930</td>\n",
       "      <td>2801</td>\n",
       "      <td>3612</td>\n",
       "      <td>14320</td>\n",
       "      <td>0</td>\n",
       "      <td>0.02</td>\n",
       "      <td>tracer-store</td>\n",
       "      <td>0</td>\n",
       "      <td>normal</td>\n",
       "    </tr>\n",
       "    <tr>\n",
       "      <th>4</th>\n",
       "      <td>1554218935</td>\n",
       "      <td>2993</td>\n",
       "      <td>5184</td>\n",
       "      <td>11152</td>\n",
       "      <td>0</td>\n",
       "      <td>0.02</td>\n",
       "      <td>zeitgeist-fts</td>\n",
       "      <td>0</td>\n",
       "      <td>normal</td>\n",
       "    </tr>\n",
       "  </tbody>\n",
       "</table>\n",
       "</div>"
      ],
      "text/plain": [
       "           ts   PID  RDDSK  WRDSK WCANCL   DSK            CMD  label    type\n",
       "0  1554218915  3197  148.2  37340  12328  0.22        firefox      0  normal\n",
       "1  1554218920  2327  32824    688      4  0.04           init      0  normal\n",
       "2  1554218925  2797  23468   7416   6152  0.04       nautilus      0  normal\n",
       "3  1554218930  2801   3612  14320      0  0.02   tracer-store      0  normal\n",
       "4  1554218935  2993   5184  11152      0  0.02  zeitgeist-fts      0  normal"
      ]
     },
     "execution_count": 86,
     "metadata": {},
     "output_type": "execute_result"
    }
   ],
   "source": [
    "import pandas as pd\n",
    "\n",
    "# Read the CSV file\n",
    "disk_1 = pd.read_csv('/home/alhelal/Desktop/Ismail_IDS_project_2023/Cybersecurity-Intrusion-detection--main/Independent Study/Linux_data/linux_disk_1.csv',na_values=['-'])\n",
    "disk_1.head()"
   ]
  },
  {
   "cell_type": "code",
   "execution_count": null,
   "id": "7a718de3",
   "metadata": {},
   "outputs": [],
   "source": []
  },
  {
   "cell_type": "code",
   "execution_count": null,
   "id": "6a6c7691",
   "metadata": {},
   "outputs": [],
   "source": []
  },
  {
   "cell_type": "code",
   "execution_count": 71,
   "id": "db862108",
   "metadata": {},
   "outputs": [
    {
     "data": {
      "text/plain": [
       "(1000000, 9)"
      ]
     },
     "execution_count": 71,
     "metadata": {},
     "output_type": "execute_result"
    }
   ],
   "source": [
    "disk_1.shape"
   ]
  },
  {
   "cell_type": "code",
   "execution_count": 87,
   "id": "ab3dc112",
   "metadata": {},
   "outputs": [
    {
     "data": {
      "text/html": [
       "<div>\n",
       "<style scoped>\n",
       "    .dataframe tbody tr th:only-of-type {\n",
       "        vertical-align: middle;\n",
       "    }\n",
       "\n",
       "    .dataframe tbody tr th {\n",
       "        vertical-align: top;\n",
       "    }\n",
       "\n",
       "    .dataframe thead th {\n",
       "        text-align: right;\n",
       "    }\n",
       "</style>\n",
       "<table border=\"1\" class=\"dataframe\">\n",
       "  <thead>\n",
       "    <tr style=\"text-align: right;\">\n",
       "      <th></th>\n",
       "      <th>ts</th>\n",
       "      <th>PID</th>\n",
       "      <th>RDDSK</th>\n",
       "      <th>WRDSK</th>\n",
       "      <th>WCANCL</th>\n",
       "      <th>DSK</th>\n",
       "      <th>CMD</th>\n",
       "      <th>label</th>\n",
       "      <th>type</th>\n",
       "    </tr>\n",
       "  </thead>\n",
       "  <tbody>\n",
       "    <tr>\n",
       "      <th>0</th>\n",
       "      <td>1556794033</td>\n",
       "      <td>2359</td>\n",
       "      <td>0.0</td>\n",
       "      <td>0.0</td>\n",
       "      <td>0</td>\n",
       "      <td>0</td>\n",
       "      <td>vmtoolsd</td>\n",
       "      <td>0</td>\n",
       "      <td>normal</td>\n",
       "    </tr>\n",
       "    <tr>\n",
       "      <th>1</th>\n",
       "      <td>1556794038</td>\n",
       "      <td>1679</td>\n",
       "      <td>0.0</td>\n",
       "      <td>0.0</td>\n",
       "      <td>0</td>\n",
       "      <td>0</td>\n",
       "      <td>packagekitd</td>\n",
       "      <td>0</td>\n",
       "      <td>normal</td>\n",
       "    </tr>\n",
       "    <tr>\n",
       "      <th>2</th>\n",
       "      <td>1556794043</td>\n",
       "      <td>2270</td>\n",
       "      <td>0.0</td>\n",
       "      <td>0.0</td>\n",
       "      <td>0</td>\n",
       "      <td>0</td>\n",
       "      <td>gsd-xsettings</td>\n",
       "      <td>0</td>\n",
       "      <td>normal</td>\n",
       "    </tr>\n",
       "    <tr>\n",
       "      <th>3</th>\n",
       "      <td>1556794048</td>\n",
       "      <td>1270</td>\n",
       "      <td>0.0</td>\n",
       "      <td>0.0</td>\n",
       "      <td>0</td>\n",
       "      <td>0</td>\n",
       "      <td>apache2</td>\n",
       "      <td>0</td>\n",
       "      <td>normal</td>\n",
       "    </tr>\n",
       "    <tr>\n",
       "      <th>4</th>\n",
       "      <td>1556794053</td>\n",
       "      <td>3180</td>\n",
       "      <td>0.0</td>\n",
       "      <td>0.0</td>\n",
       "      <td>0</td>\n",
       "      <td>0</td>\n",
       "      <td>sd_dummy</td>\n",
       "      <td>0</td>\n",
       "      <td>normal</td>\n",
       "    </tr>\n",
       "  </tbody>\n",
       "</table>\n",
       "</div>"
      ],
      "text/plain": [
       "           ts   PID  RDDSK  WRDSK WCANCL DSK            CMD  label    type\n",
       "0  1556794033  2359    0.0    0.0      0   0       vmtoolsd      0  normal\n",
       "1  1556794038  1679    0.0    0.0      0   0    packagekitd      0  normal\n",
       "2  1556794043  2270    0.0    0.0      0   0  gsd-xsettings      0  normal\n",
       "3  1556794048  1270    0.0    0.0      0   0        apache2      0  normal\n",
       "4  1556794053  3180    0.0    0.0      0   0       sd_dummy      0  normal"
      ]
     },
     "execution_count": 87,
     "metadata": {},
     "output_type": "execute_result"
    }
   ],
   "source": [
    "# Read the CSV file\n",
    "disk_2 = pd.read_csv('/home/alhelal/Desktop/Ismail_IDS_project_2023/Cybersecurity-Intrusion-detection--main/Independent Study/Linux_data/linux_disk_2.csv',na_values=['-'])\n",
    "disk_2.head()"
   ]
  },
  {
   "cell_type": "code",
   "execution_count": 88,
   "id": "c0ee116b",
   "metadata": {},
   "outputs": [
    {
     "data": {
      "text/plain": [
       "(927361, 9)"
      ]
     },
     "execution_count": 88,
     "metadata": {},
     "output_type": "execute_result"
    }
   ],
   "source": [
    "disk_2.shape"
   ]
  },
  {
   "cell_type": "code",
   "execution_count": 89,
   "id": "6fed73a0",
   "metadata": {},
   "outputs": [],
   "source": [
    "df = pd.concat([disk_1, disk_2])"
   ]
  },
  {
   "cell_type": "code",
   "execution_count": 90,
   "id": "03ff7ebf",
   "metadata": {},
   "outputs": [
    {
     "data": {
      "text/html": [
       "<div>\n",
       "<style scoped>\n",
       "    .dataframe tbody tr th:only-of-type {\n",
       "        vertical-align: middle;\n",
       "    }\n",
       "\n",
       "    .dataframe tbody tr th {\n",
       "        vertical-align: top;\n",
       "    }\n",
       "\n",
       "    .dataframe thead th {\n",
       "        text-align: right;\n",
       "    }\n",
       "</style>\n",
       "<table border=\"1\" class=\"dataframe\">\n",
       "  <thead>\n",
       "    <tr style=\"text-align: right;\">\n",
       "      <th></th>\n",
       "      <th>ts</th>\n",
       "      <th>PID</th>\n",
       "      <th>RDDSK</th>\n",
       "      <th>WRDSK</th>\n",
       "      <th>WCANCL</th>\n",
       "      <th>DSK</th>\n",
       "      <th>CMD</th>\n",
       "      <th>label</th>\n",
       "      <th>type</th>\n",
       "    </tr>\n",
       "  </thead>\n",
       "  <tbody>\n",
       "    <tr>\n",
       "      <th>0</th>\n",
       "      <td>1554218915</td>\n",
       "      <td>3197</td>\n",
       "      <td>148.2</td>\n",
       "      <td>37340</td>\n",
       "      <td>12328.0</td>\n",
       "      <td>0.22</td>\n",
       "      <td>firefox</td>\n",
       "      <td>0</td>\n",
       "      <td>normal</td>\n",
       "    </tr>\n",
       "    <tr>\n",
       "      <th>1</th>\n",
       "      <td>1554218920</td>\n",
       "      <td>2327</td>\n",
       "      <td>32824.0</td>\n",
       "      <td>688</td>\n",
       "      <td>4.0</td>\n",
       "      <td>0.04</td>\n",
       "      <td>init</td>\n",
       "      <td>0</td>\n",
       "      <td>normal</td>\n",
       "    </tr>\n",
       "    <tr>\n",
       "      <th>2</th>\n",
       "      <td>1554218925</td>\n",
       "      <td>2797</td>\n",
       "      <td>23468.0</td>\n",
       "      <td>7416</td>\n",
       "      <td>6152.0</td>\n",
       "      <td>0.04</td>\n",
       "      <td>nautilus</td>\n",
       "      <td>0</td>\n",
       "      <td>normal</td>\n",
       "    </tr>\n",
       "    <tr>\n",
       "      <th>3</th>\n",
       "      <td>1554218930</td>\n",
       "      <td>2801</td>\n",
       "      <td>3612.0</td>\n",
       "      <td>14320</td>\n",
       "      <td>0.0</td>\n",
       "      <td>0.02</td>\n",
       "      <td>tracer-store</td>\n",
       "      <td>0</td>\n",
       "      <td>normal</td>\n",
       "    </tr>\n",
       "    <tr>\n",
       "      <th>4</th>\n",
       "      <td>1554218935</td>\n",
       "      <td>2993</td>\n",
       "      <td>5184.0</td>\n",
       "      <td>11152</td>\n",
       "      <td>0.0</td>\n",
       "      <td>0.02</td>\n",
       "      <td>zeitgeist-fts</td>\n",
       "      <td>0</td>\n",
       "      <td>normal</td>\n",
       "    </tr>\n",
       "  </tbody>\n",
       "</table>\n",
       "</div>"
      ],
      "text/plain": [
       "           ts   PID    RDDSK  WRDSK   WCANCL   DSK            CMD  label  \\\n",
       "0  1554218915  3197    148.2  37340  12328.0  0.22        firefox      0   \n",
       "1  1554218920  2327  32824.0    688      4.0  0.04           init      0   \n",
       "2  1554218925  2797  23468.0   7416   6152.0  0.04       nautilus      0   \n",
       "3  1554218930  2801   3612.0  14320      0.0  0.02   tracer-store      0   \n",
       "4  1554218935  2993   5184.0  11152      0.0  0.02  zeitgeist-fts      0   \n",
       "\n",
       "     type  \n",
       "0  normal  \n",
       "1  normal  \n",
       "2  normal  \n",
       "3  normal  \n",
       "4  normal  "
      ]
     },
     "execution_count": 90,
     "metadata": {},
     "output_type": "execute_result"
    }
   ],
   "source": [
    "import re\n",
    "\n",
    "# Define a function to convert the values\n",
    "def convert_to_numeric(value):\n",
    "    if isinstance(value, str):\n",
    "        value = value.strip()\n",
    "        if re.match(r'^\\d+(\\.\\d+)?$', value):\n",
    "            return float(value)\n",
    "        elif re.match(r'^\\d+(\\.\\d+)?[kK]$', value):\n",
    "            return float(value[:-1]) * 1000\n",
    "        elif re.match(r'^\\d+(\\.\\d+)?[mM]$', value):\n",
    "            return float(value[:-1]) * 1000000\n",
    "        elif re.match(r'^\\d+(\\.\\d+)?%$', value):\n",
    "            return float(value[:-1])\n",
    "    return value\n",
    "\n",
    "# Apply the conversion function to the variables\n",
    "df['RDDSK'] = df['RDDSK'].apply(convert_to_numeric)\n",
    "df['WRDSK'] = df['WRDSK'].apply(convert_to_numeric)\n",
    "df['WCANCL'] = df['WCANCL'].apply(convert_to_numeric)\n",
    "df['DSK'] = df['DSK'].apply(convert_to_numeric)\n",
    "\n",
    "\n",
    "\n",
    "df.head()"
   ]
  },
  {
   "cell_type": "code",
   "execution_count": 115,
   "id": "5cdf0f69",
   "metadata": {},
   "outputs": [
    {
     "name": "stdout",
     "output_type": "stream",
     "text": [
      "PID         int64\n",
      "RDDSK     float64\n",
      "WRDSK      object\n",
      "WCANCL    float64\n",
      "DSK        object\n",
      "CMD        object\n",
      "label       int64\n",
      "type       object\n",
      "dtype: object\n"
     ]
    }
   ],
   "source": [
    "# Check the variable types of the columns\n",
    "print(df.dtypes)"
   ]
  },
  {
   "cell_type": "code",
   "execution_count": 91,
   "id": "b5cedc56",
   "metadata": {},
   "outputs": [
    {
     "name": "stdout",
     "output_type": "stream",
     "text": [
      "Number of rows: 1927361\n",
      "Number of columns: 9\n"
     ]
    }
   ],
   "source": [
    "# Get the dimensions of the DataFrame\n",
    "rows, columns = df.shape\n",
    "\n",
    "# Print the dimensions\n",
    "print(\"Number of rows:\", rows)\n",
    "print(\"Number of columns:\", columns)"
   ]
  },
  {
   "cell_type": "code",
   "execution_count": 92,
   "id": "fd65e8c0",
   "metadata": {},
   "outputs": [
    {
     "data": {
      "text/plain": [
       "WRDSK     0.109009\n",
       "CMD       0.003372\n",
       "type      0.000000\n",
       "label     0.000000\n",
       "DSK       0.000000\n",
       "WCANCL    0.000000\n",
       "RDDSK     0.000000\n",
       "PID       0.000000\n",
       "ts        0.000000\n",
       "dtype: float64"
      ]
     },
     "execution_count": 92,
     "metadata": {},
     "output_type": "execute_result"
    }
   ],
   "source": [
    "# Calculate the percentage of missing values per column\n",
    "missing_values_percent = (df.isna().sum() / len(df)) * 100\n",
    "\n",
    "# Sort the values in descending order\n",
    "missing_values_percent = missing_values_percent.sort_values(ascending=False)\n",
    "\n",
    "# Print the result\n",
    "missing_values_percent.head(10)\n"
   ]
  },
  {
   "cell_type": "code",
   "execution_count": 93,
   "id": "09133ce4",
   "metadata": {},
   "outputs": [],
   "source": [
    "# Missing value is less than 1.5%, so we can drop them and use the complete case.\n",
    "\n",
    "# Remove rows with any missing values\n",
    "df = df.dropna()\n",
    "\n"
   ]
  },
  {
   "cell_type": "code",
   "execution_count": 94,
   "id": "f4497149",
   "metadata": {},
   "outputs": [
    {
     "name": "stdout",
     "output_type": "stream",
     "text": [
      "Number of rows: 1925195\n",
      "Number of columns: 9\n"
     ]
    }
   ],
   "source": [
    "\n",
    "\n",
    "# Get the dimensions of the DataFrame\n",
    "rows, columns = df.shape\n",
    "\n",
    "# Print the dimensions\n",
    "print(\"Number of rows:\", rows)\n",
    "print(\"Number of columns:\", columns)\n",
    "\n"
   ]
  },
  {
   "cell_type": "code",
   "execution_count": 95,
   "id": "87360583",
   "metadata": {},
   "outputs": [
    {
     "data": {
      "text/plain": [
       "Index([], dtype='object')"
      ]
     },
     "execution_count": 95,
     "metadata": {},
     "output_type": "execute_result"
    }
   ],
   "source": [
    "# Identify columns with only a single unique value\n",
    "single_value_columns = df.columns[df.nunique() == 1]\n",
    "single_value_columns"
   ]
  },
  {
   "cell_type": "code",
   "execution_count": 96,
   "id": "d0e27fbc",
   "metadata": {},
   "outputs": [],
   "source": [
    "df = df.drop(columns=single_value_columns)\n",
    "\n"
   ]
  },
  {
   "cell_type": "markdown",
   "id": "77d35740",
   "metadata": {},
   "source": [
    "# Required Libraries"
   ]
  },
  {
   "cell_type": "markdown",
   "id": "67c0367a",
   "metadata": {},
   "source": [
    "We are going to use Linux disk generated values to predict whether the system is under cyber attack or not !"
   ]
  },
  {
   "cell_type": "code",
   "execution_count": 97,
   "id": "3369e297",
   "metadata": {},
   "outputs": [],
   "source": [
    "import numpy as np\n",
    "from numpy.ma.core import ceil\n",
    "from scipy.spatial import distance #distance calculation\n",
    "from sklearn.preprocessing import MinMaxScaler #normalisation\n",
    "from sklearn.model_selection import train_test_split\n",
    "from sklearn.metrics import accuracy_score #scoring\n",
    "from sklearn.metrics import confusion_matrix\n",
    "import matplotlib.pyplot as plt"
   ]
  },
  {
   "cell_type": "markdown",
   "id": "1054b1b5",
   "metadata": {},
   "source": [
    "# Loading the data and EDA\n"
   ]
  },
  {
   "cell_type": "code",
   "execution_count": 98,
   "id": "1eac8985",
   "metadata": {},
   "outputs": [
    {
     "data": {
      "text/html": [
       "<div>\n",
       "<style scoped>\n",
       "    .dataframe tbody tr th:only-of-type {\n",
       "        vertical-align: middle;\n",
       "    }\n",
       "\n",
       "    .dataframe tbody tr th {\n",
       "        vertical-align: top;\n",
       "    }\n",
       "\n",
       "    .dataframe thead th {\n",
       "        text-align: right;\n",
       "    }\n",
       "</style>\n",
       "<table border=\"1\" class=\"dataframe\">\n",
       "  <thead>\n",
       "    <tr style=\"text-align: right;\">\n",
       "      <th>type</th>\n",
       "      <th>ddos</th>\n",
       "      <th>dos</th>\n",
       "      <th>injection</th>\n",
       "      <th>mitm</th>\n",
       "      <th>normal</th>\n",
       "      <th>password</th>\n",
       "      <th>scanning</th>\n",
       "      <th>xss</th>\n",
       "    </tr>\n",
       "    <tr>\n",
       "      <th>label</th>\n",
       "      <th></th>\n",
       "      <th></th>\n",
       "      <th></th>\n",
       "      <th></th>\n",
       "      <th></th>\n",
       "      <th></th>\n",
       "      <th></th>\n",
       "      <th></th>\n",
       "    </tr>\n",
       "  </thead>\n",
       "  <tbody>\n",
       "    <tr>\n",
       "      <th>0</th>\n",
       "      <td>0</td>\n",
       "      <td>0</td>\n",
       "      <td>0</td>\n",
       "      <td>0</td>\n",
       "      <td>1609903</td>\n",
       "      <td>0</td>\n",
       "      <td>0</td>\n",
       "      <td>0</td>\n",
       "    </tr>\n",
       "    <tr>\n",
       "      <th>1</th>\n",
       "      <td>71603</td>\n",
       "      <td>69343</td>\n",
       "      <td>41321</td>\n",
       "      <td>112</td>\n",
       "      <td>0</td>\n",
       "      <td>51409</td>\n",
       "      <td>63745</td>\n",
       "      <td>17759</td>\n",
       "    </tr>\n",
       "  </tbody>\n",
       "</table>\n",
       "</div>"
      ],
      "text/plain": [
       "type    ddos    dos  injection  mitm   normal  password  scanning    xss\n",
       "label                                                                   \n",
       "0          0      0          0     0  1609903         0         0      0\n",
       "1      71603  69343      41321   112        0     51409     63745  17759"
      ]
     },
     "execution_count": 98,
     "metadata": {},
     "output_type": "execute_result"
    }
   ],
   "source": [
    "# Attack counts by type:\n",
    "pd.crosstab(index=df['label'], columns=df['type'])"
   ]
  },
  {
   "cell_type": "code",
   "execution_count": 99,
   "id": "8657e6bd",
   "metadata": {},
   "outputs": [],
   "source": [
    "df = df.drop(columns='ts')"
   ]
  },
  {
   "cell_type": "markdown",
   "id": "7ae7d959",
   "metadata": {},
   "source": [
    "# Making the data balance (Under sampling)"
   ]
  },
  {
   "cell_type": "code",
   "execution_count": 100,
   "id": "81ffd9ed",
   "metadata": {},
   "outputs": [],
   "source": [
    "#df = df_new"
   ]
  },
  {
   "cell_type": "code",
   "execution_count": 101,
   "id": "daa9f206",
   "metadata": {},
   "outputs": [
    {
     "data": {
      "text/plain": [
       "0    1609903\n",
       "1     315292\n",
       "Name: label, dtype: int64"
      ]
     },
     "execution_count": 101,
     "metadata": {},
     "output_type": "execute_result"
    }
   ],
   "source": [
    "freq = df['label'].value_counts()\n",
    "freq"
   ]
  },
  {
   "cell_type": "code",
   "execution_count": 102,
   "id": "35afe248",
   "metadata": {},
   "outputs": [],
   "source": [
    "def autopct_format(values):\n",
    "        def my_format(pct):\n",
    "            total = sum(values)\n",
    "            val = int(round(pct*total/100.0))\n",
    "            return '{:.1f}%\\n({v:d})'.format(pct, v=val)\n",
    "        return my_format\n",
    "\n",
    "#plt.pie(mydata,labels = mylabels, autopct=autopct_format(mydata))"
   ]
  },
  {
   "cell_type": "code",
   "execution_count": 103,
   "id": "3d3061e5",
   "metadata": {},
   "outputs": [
    {
     "data": {
      "image/png": "[encoded data removed]",
      "text/plain": [
       "<matplotlib.figure.Figure at 0x7efc89531400>"
      ]
     },
     "metadata": {},
     "output_type": "display_data"
    }
   ],
   "source": [
    "import matplotlib.pyplot as plt\n",
    "import seaborn\n",
    "  \n",
    "# declaring data\n",
    "data = [freq[0], freq[1]]\n",
    "keys = ['Normal', 'Under Attack']\n",
    "  \n",
    "# declaring exploding pie\n",
    "explode = [0, 0.1]\n",
    "# define Seaborn color palette to use\n",
    "palette_color = seaborn.color_palette('pastel')\n",
    "  \n",
    "# plotting data on chart\n",
    "plt.pie(data, labels=keys, colors=palette_color,\n",
    "        explode=explode, autopct=autopct_format(data))\n",
    "  \n",
    "# displaying chart\n",
    "plt.show()"
   ]
  },
  {
   "cell_type": "code",
   "execution_count": 108,
   "id": "541b7db9",
   "metadata": {},
   "outputs": [
    {
     "data": {
      "text/plain": [
       "0    71155\n",
       "1    69177\n",
       "Name: label, dtype: int64"
      ]
     },
     "execution_count": 108,
     "metadata": {},
     "output_type": "execute_result"
    }
   ],
   "source": [
    "freq = df['label'].value_counts()\n",
    "delete_frac = round((freq[0] - freq[1])/freq[0],4)\n",
    "df = df.drop(df.query('label == 0').sample(frac= delete_frac).index)\n",
    "df['label'].value_counts()"
   ]
  },
  {
   "cell_type": "code",
   "execution_count": 109,
   "id": "619a79ed",
   "metadata": {},
   "outputs": [
    {
     "data": {
      "text/plain": [
       "(140332, 8)"
      ]
     },
     "execution_count": 109,
     "metadata": {},
     "output_type": "execute_result"
    }
   ],
   "source": [
    "df.shape"
   ]
  },
  {
   "cell_type": "code",
   "execution_count": 110,
   "id": "ab5a065a",
   "metadata": {},
   "outputs": [
    {
     "data": {
      "text/html": [
       "<div>\n",
       "<style scoped>\n",
       "    .dataframe tbody tr th:only-of-type {\n",
       "        vertical-align: middle;\n",
       "    }\n",
       "\n",
       "    .dataframe tbody tr th {\n",
       "        vertical-align: top;\n",
       "    }\n",
       "\n",
       "    .dataframe thead th {\n",
       "        text-align: right;\n",
       "    }\n",
       "</style>\n",
       "<table border=\"1\" class=\"dataframe\">\n",
       "  <thead>\n",
       "    <tr style=\"text-align: right;\">\n",
       "      <th></th>\n",
       "      <th>PID</th>\n",
       "      <th>RDDSK</th>\n",
       "      <th>WRDSK</th>\n",
       "      <th>WCANCL</th>\n",
       "      <th>DSK</th>\n",
       "      <th>CMD</th>\n",
       "      <th>label</th>\n",
       "      <th>type</th>\n",
       "    </tr>\n",
       "  </thead>\n",
       "  <tbody>\n",
       "    <tr>\n",
       "      <th>11</th>\n",
       "      <td>1483</td>\n",
       "      <td>7256.0</td>\n",
       "      <td>436</td>\n",
       "      <td>420.0</td>\n",
       "      <td>0.01</td>\n",
       "      <td>mysqld</td>\n",
       "      <td>0</td>\n",
       "      <td>normal</td>\n",
       "    </tr>\n",
       "    <tr>\n",
       "      <th>17</th>\n",
       "      <td>2437</td>\n",
       "      <td>3292.0</td>\n",
       "      <td>0</td>\n",
       "      <td>0.0</td>\n",
       "      <td>0</td>\n",
       "      <td>window-stac-b</td>\n",
       "      <td>0</td>\n",
       "      <td>normal</td>\n",
       "    </tr>\n",
       "    <tr>\n",
       "      <th>96</th>\n",
       "      <td>2483</td>\n",
       "      <td>0.0</td>\n",
       "      <td>0</td>\n",
       "      <td>0.0</td>\n",
       "      <td>0</td>\n",
       "      <td>dbus-daemon</td>\n",
       "      <td>0</td>\n",
       "      <td>normal</td>\n",
       "    </tr>\n",
       "    <tr>\n",
       "      <th>142</th>\n",
       "      <td>3676</td>\n",
       "      <td>0.0</td>\n",
       "      <td>48</td>\n",
       "      <td>0.0</td>\n",
       "      <td>0.06</td>\n",
       "      <td>atop</td>\n",
       "      <td>0</td>\n",
       "      <td>normal</td>\n",
       "    </tr>\n",
       "    <tr>\n",
       "      <th>194</th>\n",
       "      <td>3155</td>\n",
       "      <td>0.0</td>\n",
       "      <td>0</td>\n",
       "      <td>0.0</td>\n",
       "      <td>0</td>\n",
       "      <td>gnome-terminal</td>\n",
       "      <td>0</td>\n",
       "      <td>normal</td>\n",
       "    </tr>\n",
       "  </tbody>\n",
       "</table>\n",
       "</div>"
      ],
      "text/plain": [
       "      PID   RDDSK WRDSK  WCANCL   DSK             CMD  label    type\n",
       "11   1483  7256.0   436   420.0  0.01          mysqld      0  normal\n",
       "17   2437  3292.0     0     0.0     0   window-stac-b      0  normal\n",
       "96   2483     0.0     0     0.0     0     dbus-daemon      0  normal\n",
       "142  3676     0.0    48     0.0  0.06            atop      0  normal\n",
       "194  3155     0.0     0     0.0     0  gnome-terminal      0  normal"
      ]
     },
     "execution_count": 110,
     "metadata": {},
     "output_type": "execute_result"
    }
   ],
   "source": [
    "df.head()"
   ]
  },
  {
   "cell_type": "markdown",
   "id": "c5d538cc",
   "metadata": {},
   "source": [
    "# Investigate variable types"
   ]
  },
  {
   "cell_type": "code",
   "execution_count": null,
   "id": "25bd2bbb",
   "metadata": {},
   "outputs": [],
   "source": []
  },
  {
   "cell_type": "markdown",
   "id": "d24ad0e8",
   "metadata": {},
   "source": [
    "# Investigating the correlation"
   ]
  },
  {
   "cell_type": "code",
   "execution_count": 113,
   "id": "66649b97",
   "metadata": {},
   "outputs": [],
   "source": [
    "X = df.iloc[:,1:5]"
   ]
  },
  {
   "cell_type": "code",
   "execution_count": 114,
   "id": "b615b91f",
   "metadata": {},
   "outputs": [
    {
     "data": {
      "text/html": [
       "<div>\n",
       "<style scoped>\n",
       "    .dataframe tbody tr th:only-of-type {\n",
       "        vertical-align: middle;\n",
       "    }\n",
       "\n",
       "    .dataframe tbody tr th {\n",
       "        vertical-align: top;\n",
       "    }\n",
       "\n",
       "    .dataframe thead th {\n",
       "        text-align: right;\n",
       "    }\n",
       "</style>\n",
       "<table border=\"1\" class=\"dataframe\">\n",
       "  <thead>\n",
       "    <tr style=\"text-align: right;\">\n",
       "      <th></th>\n",
       "      <th>RDDSK</th>\n",
       "      <th>WCANCL</th>\n",
       "    </tr>\n",
       "  </thead>\n",
       "  <tbody>\n",
       "    <tr>\n",
       "      <th>RDDSK</th>\n",
       "      <td>1.0</td>\n",
       "      <td>0.0</td>\n",
       "    </tr>\n",
       "    <tr>\n",
       "      <th>WCANCL</th>\n",
       "      <td>0.0</td>\n",
       "      <td>1.0</td>\n",
       "    </tr>\n",
       "  </tbody>\n",
       "</table>\n",
       "</div>"
      ],
      "text/plain": [
       "        RDDSK  WCANCL\n",
       "RDDSK     1.0     0.0\n",
       "WCANCL    0.0     1.0"
      ]
     },
     "execution_count": 114,
     "metadata": {},
     "output_type": "execute_result"
    }
   ],
   "source": [
    "cormat = X.corr()\n",
    "round(cormat,2)"
   ]
  },
  {
   "cell_type": "code",
   "execution_count": 21,
   "id": "7135e2bc",
   "metadata": {},
   "outputs": [
    {
     "ename": "AttributeError",
     "evalue": "Unknown property pad",
     "output_type": "error",
     "traceback": [
      "\u001b[0;31m---------------------------------------------------------------------------\u001b[0m",
      "\u001b[0;31mAttributeError\u001b[0m                            Traceback (most recent call last)",
      "\u001b[0;32m<ipython-input-21-cde699f733c5>\u001b[0m in \u001b[0;36m<module>\u001b[0;34m\u001b[0m\n\u001b[1;32m      3\u001b[0m \u001b[0;34m\u001b[0m\u001b[0m\n\u001b[1;32m      4\u001b[0m \u001b[0mheatmap\u001b[0m \u001b[0;34m=\u001b[0m \u001b[0msns\u001b[0m\u001b[0;34m.\u001b[0m\u001b[0mheatmap\u001b[0m\u001b[0;34m(\u001b[0m\u001b[0mX\u001b[0m\u001b[0;34m.\u001b[0m\u001b[0mcorr\u001b[0m\u001b[0;34m(\u001b[0m\u001b[0;34m)\u001b[0m\u001b[0;34m.\u001b[0m\u001b[0mabs\u001b[0m\u001b[0;34m(\u001b[0m\u001b[0;34m)\u001b[0m\u001b[0;34m,\u001b[0m\u001b[0mannot\u001b[0m\u001b[0;34m=\u001b[0m\u001b[0;32mFalse\u001b[0m\u001b[0;34m,\u001b[0m\u001b[0mcmap\u001b[0m\u001b[0;34m=\u001b[0m\u001b[0;34m'BrBG'\u001b[0m\u001b[0;34m)\u001b[0m\u001b[0;34m\u001b[0m\u001b[0;34m\u001b[0m\u001b[0m\n\u001b[0;32m----> 5\u001b[0;31m \u001b[0mheatmap\u001b[0m\u001b[0;34m.\u001b[0m\u001b[0mset_title\u001b[0m\u001b[0;34m(\u001b[0m\u001b[0;34m'Correlation between independent variables'\u001b[0m\u001b[0;34m,\u001b[0m \u001b[0mfontdict\u001b[0m\u001b[0;34m=\u001b[0m\u001b[0;34m{\u001b[0m\u001b[0;34m'fontsize'\u001b[0m\u001b[0;34m:\u001b[0m\u001b[0;36m12\u001b[0m\u001b[0;34m}\u001b[0m\u001b[0;34m,\u001b[0m \u001b[0mpad\u001b[0m\u001b[0;34m=\u001b[0m\u001b[0;36m10\u001b[0m\u001b[0;34m)\u001b[0m\u001b[0;34m;\u001b[0m\u001b[0;34m\u001b[0m\u001b[0;34m\u001b[0m\u001b[0m\n\u001b[0m",
      "\u001b[0;32m/usr/local/lib/python3.6/dist-packages/matplotlib/axes/_axes.py\u001b[0m in \u001b[0;36mset_title\u001b[0;34m(self, label, fontdict, loc, **kwargs)\u001b[0m\n\u001b[1;32m    187\u001b[0m         \u001b[0;32mif\u001b[0m \u001b[0mfontdict\u001b[0m \u001b[0;32mis\u001b[0m \u001b[0;32mnot\u001b[0m \u001b[0;32mNone\u001b[0m\u001b[0;34m:\u001b[0m\u001b[0;34m\u001b[0m\u001b[0;34m\u001b[0m\u001b[0m\n\u001b[1;32m    188\u001b[0m             \u001b[0mtitle\u001b[0m\u001b[0;34m.\u001b[0m\u001b[0mupdate\u001b[0m\u001b[0;34m(\u001b[0m\u001b[0mfontdict\u001b[0m\u001b[0;34m)\u001b[0m\u001b[0;34m\u001b[0m\u001b[0;34m\u001b[0m\u001b[0m\n\u001b[0;32m--> 189\u001b[0;31m         \u001b[0mtitle\u001b[0m\u001b[0;34m.\u001b[0m\u001b[0mupdate\u001b[0m\u001b[0;34m(\u001b[0m\u001b[0mkwargs\u001b[0m\u001b[0;34m)\u001b[0m\u001b[0;34m\u001b[0m\u001b[0;34m\u001b[0m\u001b[0m\n\u001b[0m\u001b[1;32m    190\u001b[0m         \u001b[0;32mreturn\u001b[0m \u001b[0mtitle\u001b[0m\u001b[0;34m\u001b[0m\u001b[0;34m\u001b[0m\u001b[0m\n\u001b[1;32m    191\u001b[0m \u001b[0;34m\u001b[0m\u001b[0m\n",
      "\u001b[0;32m/usr/local/lib/python3.6/dist-packages/matplotlib/text.py\u001b[0m in \u001b[0;36mupdate\u001b[0;34m(self, kwargs)\u001b[0m\n\u001b[1;32m    190\u001b[0m         \u001b[0msentinel\u001b[0m \u001b[0;34m=\u001b[0m \u001b[0mobject\u001b[0m\u001b[0;34m(\u001b[0m\u001b[0;34m)\u001b[0m  \u001b[0;31m# bbox can be None, so use another sentinel.\u001b[0m\u001b[0;34m\u001b[0m\u001b[0;34m\u001b[0m\u001b[0m\n\u001b[1;32m    191\u001b[0m         \u001b[0mbbox\u001b[0m \u001b[0;34m=\u001b[0m \u001b[0mkwargs\u001b[0m\u001b[0;34m.\u001b[0m\u001b[0mpop\u001b[0m\u001b[0;34m(\u001b[0m\u001b[0;34m\"bbox\"\u001b[0m\u001b[0;34m,\u001b[0m \u001b[0msentinel\u001b[0m\u001b[0;34m)\u001b[0m\u001b[0;34m\u001b[0m\u001b[0;34m\u001b[0m\u001b[0m\n\u001b[0;32m--> 192\u001b[0;31m         \u001b[0msuper\u001b[0m\u001b[0;34m(\u001b[0m\u001b[0mText\u001b[0m\u001b[0;34m,\u001b[0m \u001b[0mself\u001b[0m\u001b[0;34m)\u001b[0m\u001b[0;34m.\u001b[0m\u001b[0mupdate\u001b[0m\u001b[0;34m(\u001b[0m\u001b[0mkwargs\u001b[0m\u001b[0;34m)\u001b[0m\u001b[0;34m\u001b[0m\u001b[0;34m\u001b[0m\u001b[0m\n\u001b[0m\u001b[1;32m    193\u001b[0m         \u001b[0;32mif\u001b[0m \u001b[0mbbox\u001b[0m \u001b[0;32mis\u001b[0m \u001b[0;32mnot\u001b[0m \u001b[0msentinel\u001b[0m\u001b[0;34m:\u001b[0m\u001b[0;34m\u001b[0m\u001b[0;34m\u001b[0m\u001b[0m\n\u001b[1;32m    194\u001b[0m             \u001b[0mself\u001b[0m\u001b[0;34m.\u001b[0m\u001b[0mset_bbox\u001b[0m\u001b[0;34m(\u001b[0m\u001b[0mbbox\u001b[0m\u001b[0;34m)\u001b[0m\u001b[0;34m\u001b[0m\u001b[0;34m\u001b[0m\u001b[0m\n",
      "\u001b[0;32m/usr/local/lib/python3.6/dist-packages/matplotlib/artist.py\u001b[0m in \u001b[0;36mupdate\u001b[0;34m(self, props)\u001b[0m\n\u001b[1;32m    900\u001b[0m         \u001b[0;32mtry\u001b[0m\u001b[0;34m:\u001b[0m\u001b[0;34m\u001b[0m\u001b[0;34m\u001b[0m\u001b[0m\n\u001b[1;32m    901\u001b[0m             ret = [_update_property(self, k, v)\n\u001b[0;32m--> 902\u001b[0;31m                    for k, v in props.items()]\n\u001b[0m\u001b[1;32m    903\u001b[0m         \u001b[0;32mfinally\u001b[0m\u001b[0;34m:\u001b[0m\u001b[0;34m\u001b[0m\u001b[0;34m\u001b[0m\u001b[0m\n\u001b[1;32m    904\u001b[0m             \u001b[0mself\u001b[0m\u001b[0;34m.\u001b[0m\u001b[0meventson\u001b[0m \u001b[0;34m=\u001b[0m \u001b[0mstore\u001b[0m\u001b[0;34m\u001b[0m\u001b[0;34m\u001b[0m\u001b[0m\n",
      "\u001b[0;32m/usr/local/lib/python3.6/dist-packages/matplotlib/artist.py\u001b[0m in \u001b[0;36m<listcomp>\u001b[0;34m(.0)\u001b[0m\n\u001b[1;32m    900\u001b[0m         \u001b[0;32mtry\u001b[0m\u001b[0;34m:\u001b[0m\u001b[0;34m\u001b[0m\u001b[0;34m\u001b[0m\u001b[0m\n\u001b[1;32m    901\u001b[0m             ret = [_update_property(self, k, v)\n\u001b[0;32m--> 902\u001b[0;31m                    for k, v in props.items()]\n\u001b[0m\u001b[1;32m    903\u001b[0m         \u001b[0;32mfinally\u001b[0m\u001b[0;34m:\u001b[0m\u001b[0;34m\u001b[0m\u001b[0;34m\u001b[0m\u001b[0m\n\u001b[1;32m    904\u001b[0m             \u001b[0mself\u001b[0m\u001b[0;34m.\u001b[0m\u001b[0meventson\u001b[0m \u001b[0;34m=\u001b[0m \u001b[0mstore\u001b[0m\u001b[0;34m\u001b[0m\u001b[0;34m\u001b[0m\u001b[0m\n",
      "\u001b[0;32m/usr/local/lib/python3.6/dist-packages/matplotlib/artist.py\u001b[0m in \u001b[0;36m_update_property\u001b[0;34m(self, k, v)\u001b[0m\n\u001b[1;32m    893\u001b[0m                 \u001b[0mfunc\u001b[0m \u001b[0;34m=\u001b[0m \u001b[0mgetattr\u001b[0m\u001b[0;34m(\u001b[0m\u001b[0mself\u001b[0m\u001b[0;34m,\u001b[0m \u001b[0;34m'set_'\u001b[0m \u001b[0;34m+\u001b[0m \u001b[0mk\u001b[0m\u001b[0;34m,\u001b[0m \u001b[0;32mNone\u001b[0m\u001b[0;34m)\u001b[0m\u001b[0;34m\u001b[0m\u001b[0;34m\u001b[0m\u001b[0m\n\u001b[1;32m    894\u001b[0m                 \u001b[0;32mif\u001b[0m \u001b[0;32mnot\u001b[0m \u001b[0mcallable\u001b[0m\u001b[0;34m(\u001b[0m\u001b[0mfunc\u001b[0m\u001b[0;34m)\u001b[0m\u001b[0;34m:\u001b[0m\u001b[0;34m\u001b[0m\u001b[0;34m\u001b[0m\u001b[0m\n\u001b[0;32m--> 895\u001b[0;31m                     \u001b[0;32mraise\u001b[0m \u001b[0mAttributeError\u001b[0m\u001b[0;34m(\u001b[0m\u001b[0;34m'Unknown property %s'\u001b[0m \u001b[0;34m%\u001b[0m \u001b[0mk\u001b[0m\u001b[0;34m)\u001b[0m\u001b[0;34m\u001b[0m\u001b[0;34m\u001b[0m\u001b[0m\n\u001b[0m\u001b[1;32m    896\u001b[0m                 \u001b[0;32mreturn\u001b[0m \u001b[0mfunc\u001b[0m\u001b[0;34m(\u001b[0m\u001b[0mv\u001b[0m\u001b[0;34m)\u001b[0m\u001b[0;34m\u001b[0m\u001b[0;34m\u001b[0m\u001b[0m\n\u001b[1;32m    897\u001b[0m \u001b[0;34m\u001b[0m\u001b[0m\n",
      "\u001b[0;31mAttributeError\u001b[0m: Unknown property pad"
     ]
    },
    {
     "data": {
      "image/png": "[encoded data removed]",
      "text/plain": [
       "<matplotlib.figure.Figure at 0x7f18cfa23780>"
      ]
     },
     "metadata": {
      "needs_background": "light"
     },
     "output_type": "display_data"
    }
   ],
   "source": [
    "import seaborn as sns\n",
    "mask = np.triu(np.ones_like(X.corr().abs(), dtype=np.bool))\n",
    "\n",
    "heatmap = sns.heatmap(X.corr().abs(),annot=False,cmap='BrBG')\n",
    "heatmap.set_title('Correlation between independent variables', fontdict={'fontsize':12}, pad=10);"
   ]
  },
  {
   "cell_type": "code",
   "execution_count": 22,
   "id": "7ab03a34",
   "metadata": {},
   "outputs": [
    {
     "data": {
      "text/html": [
       "<div>\n",
       "<style scoped>\n",
       "    .dataframe tbody tr th:only-of-type {\n",
       "        vertical-align: middle;\n",
       "    }\n",
       "\n",
       "    .dataframe tbody tr th {\n",
       "        vertical-align: top;\n",
       "    }\n",
       "\n",
       "    .dataframe thead th {\n",
       "        text-align: right;\n",
       "    }\n",
       "</style>\n",
       "<table border=\"1\" class=\"dataframe\">\n",
       "  <thead>\n",
       "    <tr style=\"text-align: right;\">\n",
       "      <th></th>\n",
       "      <th>FEATURE_1</th>\n",
       "      <th>FEATURE_2</th>\n",
       "      <th>CORRELATION</th>\n",
       "    </tr>\n",
       "  </thead>\n",
       "  <tbody>\n",
       "    <tr>\n",
       "      <th>0</th>\n",
       "      <td>Processor(_Total) DPC Rate</td>\n",
       "      <td>Processor(_Total) DPC Rate</td>\n",
       "      <td>1.000000</td>\n",
       "    </tr>\n",
       "    <tr>\n",
       "      <th>1</th>\n",
       "      <td>Processor(_Total) DPC Rate</td>\n",
       "      <td>Processor(_Total) pct_ Idle Time</td>\n",
       "      <td>0.510533</td>\n",
       "    </tr>\n",
       "    <tr>\n",
       "      <th>2</th>\n",
       "      <td>Processor(_Total) DPC Rate</td>\n",
       "      <td>Processor(_Total) pct_ Interrupt Time</td>\n",
       "      <td>0.361777</td>\n",
       "    </tr>\n",
       "    <tr>\n",
       "      <th>3</th>\n",
       "      <td>Processor(_Total) DPC Rate</td>\n",
       "      <td>Processor(_Total) pct_ User Time</td>\n",
       "      <td>0.070845</td>\n",
       "    </tr>\n",
       "    <tr>\n",
       "      <th>4</th>\n",
       "      <td>Processor(_Total) DPC Rate</td>\n",
       "      <td>Processor(_Total) pct_ C1 Time</td>\n",
       "      <td>0.498770</td>\n",
       "    </tr>\n",
       "  </tbody>\n",
       "</table>\n",
       "</div>"
      ],
      "text/plain": [
       "                    FEATURE_1                              FEATURE_2  \\\n",
       "0  Processor(_Total) DPC Rate             Processor(_Total) DPC Rate   \n",
       "1  Processor(_Total) DPC Rate       Processor(_Total) pct_ Idle Time   \n",
       "2  Processor(_Total) DPC Rate  Processor(_Total) pct_ Interrupt Time   \n",
       "3  Processor(_Total) DPC Rate       Processor(_Total) pct_ User Time   \n",
       "4  Processor(_Total) DPC Rate         Processor(_Total) pct_ C1 Time   \n",
       "\n",
       "   CORRELATION  \n",
       "0     1.000000  \n",
       "1     0.510533  \n",
       "2     0.361777  \n",
       "3     0.070845  \n",
       "4     0.498770  "
      ]
     },
     "execution_count": 22,
     "metadata": {},
     "output_type": "execute_result"
    }
   ],
   "source": [
    "# calculate the correlation matrix and reshape\n",
    "df_corr = X.corr().abs().stack().reset_index()\n",
    "\n",
    "# rename the columns\n",
    "df_corr.columns = ['FEATURE_1', 'FEATURE_2', 'CORRELATION']\n",
    "df_corr.head()"
   ]
  },
  {
   "cell_type": "code",
   "execution_count": 23,
   "id": "fea00c35",
   "metadata": {},
   "outputs": [],
   "source": [
    "df_corr = df_corr[df_corr['FEATURE_1'] != df_corr['FEATURE_2']]"
   ]
  },
  {
   "cell_type": "code",
   "execution_count": 24,
   "id": "e93d9bf1",
   "metadata": {},
   "outputs": [],
   "source": [
    "df_corr_perfect = df_corr[df_corr.CORRELATION == 1]"
   ]
  },
  {
   "cell_type": "code",
   "execution_count": 25,
   "id": "ca00c304",
   "metadata": {},
   "outputs": [
    {
     "data": {
      "text/html": [
       "<div>\n",
       "<style scoped>\n",
       "    .dataframe tbody tr th:only-of-type {\n",
       "        vertical-align: middle;\n",
       "    }\n",
       "\n",
       "    .dataframe tbody tr th {\n",
       "        vertical-align: top;\n",
       "    }\n",
       "\n",
       "    .dataframe thead th {\n",
       "        text-align: right;\n",
       "    }\n",
       "</style>\n",
       "<table border=\"1\" class=\"dataframe\">\n",
       "  <thead>\n",
       "    <tr style=\"text-align: right;\">\n",
       "      <th></th>\n",
       "      <th>FEATURE_1</th>\n",
       "      <th>FEATURE_2</th>\n",
       "      <th>CORRELATION</th>\n",
       "    </tr>\n",
       "  </thead>\n",
       "  <tbody>\n",
       "    <tr>\n",
       "      <th>1269</th>\n",
       "      <td>Process(_Total) Page File Bytes</td>\n",
       "      <td>Process(_Total) Private Bytes</td>\n",
       "      <td>1.0</td>\n",
       "    </tr>\n",
       "    <tr>\n",
       "      <th>1654</th>\n",
       "      <td>Process(_Total) Private Bytes</td>\n",
       "      <td>Process(_Total) Page File Bytes</td>\n",
       "      <td>1.0</td>\n",
       "    </tr>\n",
       "    <tr>\n",
       "      <th>3005</th>\n",
       "      <td>Network_I(Intel R _Pro_1000MT) Packets Sent Un...</td>\n",
       "      <td>Network_I(Intel R _Pro_1000MT) Packets Sent sec</td>\n",
       "      <td>1.0</td>\n",
       "    </tr>\n",
       "    <tr>\n",
       "      <th>3084</th>\n",
       "      <td>Network_I(Intel R _Pro_1000MT) Packets Receive...</td>\n",
       "      <td>Network_I(Intel R _Pro_1000MT) Packets Receive...</td>\n",
       "      <td>1.0</td>\n",
       "    </tr>\n",
       "    <tr>\n",
       "      <th>3236</th>\n",
       "      <td>Network_I(Intel R _Pro_1000MT) Packets Sent sec</td>\n",
       "      <td>Network_I(Intel R _Pro_1000MT) Packets Sent Un...</td>\n",
       "      <td>1.0</td>\n",
       "    </tr>\n",
       "    <tr>\n",
       "      <th>3315</th>\n",
       "      <td>Network_I(Intel R _Pro_1000MT) Packets Receive...</td>\n",
       "      <td>Network_I(Intel R _Pro_1000MT) Packets Receive...</td>\n",
       "      <td>1.0</td>\n",
       "    </tr>\n",
       "    <tr>\n",
       "      <th>3719</th>\n",
       "      <td>Memory Available Bytes</td>\n",
       "      <td>Memory Available KBytes</td>\n",
       "      <td>1.0</td>\n",
       "    </tr>\n",
       "    <tr>\n",
       "      <th>4181</th>\n",
       "      <td>Memory Available KBytes</td>\n",
       "      <td>Memory Available Bytes</td>\n",
       "      <td>1.0</td>\n",
       "    </tr>\n",
       "  </tbody>\n",
       "</table>\n",
       "</div>"
      ],
      "text/plain": [
       "                                              FEATURE_1  \\\n",
       "1269                    Process(_Total) Page File Bytes   \n",
       "1654                      Process(_Total) Private Bytes   \n",
       "3005  Network_I(Intel R _Pro_1000MT) Packets Sent Un...   \n",
       "3084  Network_I(Intel R _Pro_1000MT) Packets Receive...   \n",
       "3236    Network_I(Intel R _Pro_1000MT) Packets Sent sec   \n",
       "3315  Network_I(Intel R _Pro_1000MT) Packets Receive...   \n",
       "3719                             Memory Available Bytes   \n",
       "4181                            Memory Available KBytes   \n",
       "\n",
       "                                              FEATURE_2  CORRELATION  \n",
       "1269                      Process(_Total) Private Bytes          1.0  \n",
       "1654                    Process(_Total) Page File Bytes          1.0  \n",
       "3005    Network_I(Intel R _Pro_1000MT) Packets Sent sec          1.0  \n",
       "3084  Network_I(Intel R _Pro_1000MT) Packets Receive...          1.0  \n",
       "3236  Network_I(Intel R _Pro_1000MT) Packets Sent Un...          1.0  \n",
       "3315  Network_I(Intel R _Pro_1000MT) Packets Receive...          1.0  \n",
       "3719                            Memory Available KBytes          1.0  \n",
       "4181                             Memory Available Bytes          1.0  "
      ]
     },
     "execution_count": 25,
     "metadata": {},
     "output_type": "execute_result"
    }
   ],
   "source": [
    "df_corr_perfect"
   ]
  },
  {
   "cell_type": "code",
   "execution_count": 26,
   "id": "f91d6c5f",
   "metadata": {},
   "outputs": [
    {
     "data": {
      "text/html": [
       "<div>\n",
       "<style scoped>\n",
       "    .dataframe tbody tr th:only-of-type {\n",
       "        vertical-align: middle;\n",
       "    }\n",
       "\n",
       "    .dataframe tbody tr th {\n",
       "        vertical-align: top;\n",
       "    }\n",
       "\n",
       "    .dataframe thead th {\n",
       "        text-align: right;\n",
       "    }\n",
       "</style>\n",
       "<table border=\"1\" class=\"dataframe\">\n",
       "  <thead>\n",
       "    <tr style=\"text-align: right;\">\n",
       "      <th></th>\n",
       "      <th>FEATURE_1</th>\n",
       "      <th>FEATURE_2</th>\n",
       "      <th>CORRELATION</th>\n",
       "    </tr>\n",
       "  </thead>\n",
       "  <tbody>\n",
       "    <tr>\n",
       "      <th>1</th>\n",
       "      <td>Process(_Total) Private Bytes</td>\n",
       "      <td>Process(_Total) Page File Bytes</td>\n",
       "      <td>1.0</td>\n",
       "    </tr>\n",
       "    <tr>\n",
       "      <th>3</th>\n",
       "      <td>Network_I(Intel R _Pro_1000MT) Packets Receive...</td>\n",
       "      <td>Network_I(Intel R _Pro_1000MT) Packets Receive...</td>\n",
       "      <td>1.0</td>\n",
       "    </tr>\n",
       "    <tr>\n",
       "      <th>5</th>\n",
       "      <td>Network_I(Intel R _Pro_1000MT) Packets Receive...</td>\n",
       "      <td>Network_I(Intel R _Pro_1000MT) Packets Receive...</td>\n",
       "      <td>1.0</td>\n",
       "    </tr>\n",
       "    <tr>\n",
       "      <th>7</th>\n",
       "      <td>Memory Available KBytes</td>\n",
       "      <td>Memory Available Bytes</td>\n",
       "      <td>1.0</td>\n",
       "    </tr>\n",
       "  </tbody>\n",
       "</table>\n",
       "</div>"
      ],
      "text/plain": [
       "                                           FEATURE_1  \\\n",
       "1                      Process(_Total) Private Bytes   \n",
       "3  Network_I(Intel R _Pro_1000MT) Packets Receive...   \n",
       "5  Network_I(Intel R _Pro_1000MT) Packets Receive...   \n",
       "7                            Memory Available KBytes   \n",
       "\n",
       "                                           FEATURE_2  CORRELATION  \n",
       "1                    Process(_Total) Page File Bytes          1.0  \n",
       "3  Network_I(Intel R _Pro_1000MT) Packets Receive...          1.0  \n",
       "5  Network_I(Intel R _Pro_1000MT) Packets Receive...          1.0  \n",
       "7                             Memory Available Bytes          1.0  "
      ]
     },
     "execution_count": 26,
     "metadata": {},
     "output_type": "execute_result"
    }
   ],
   "source": [
    "# Relabel the row numbers\n",
    "df_corr_perfect.reset_index(drop=True, inplace=True)\n",
    "\n",
    "# Delete even rows\n",
    "df_corr_perfect = df_corr_perfect[df_corr_perfect.index % 2 != 0]\n",
    "df_corr_perfect\n"
   ]
  },
  {
   "cell_type": "code",
   "execution_count": 27,
   "id": "b7430f69",
   "metadata": {},
   "outputs": [],
   "source": [
    "lst1 = df_corr_perfect.FEATURE_1\n",
    "remove_var = list(set(lst1))"
   ]
  },
  {
   "cell_type": "code",
   "execution_count": 28,
   "id": "82f676f4",
   "metadata": {},
   "outputs": [],
   "source": [
    "df = df.drop(remove_var, axis=1)"
   ]
  },
  {
   "cell_type": "code",
   "execution_count": 29,
   "id": "c0f1d4d3",
   "metadata": {},
   "outputs": [
    {
     "data": {
      "text/plain": [
       "(11909, 76)"
      ]
     },
     "execution_count": 29,
     "metadata": {},
     "output_type": "execute_result"
    }
   ],
   "source": [
    "df.shape"
   ]
  },
  {
   "cell_type": "code",
   "execution_count": 30,
   "id": "22983e60",
   "metadata": {},
   "outputs": [
    {
     "data": {
      "text/html": [
       "<div>\n",
       "<style scoped>\n",
       "    .dataframe tbody tr th:only-of-type {\n",
       "        vertical-align: middle;\n",
       "    }\n",
       "\n",
       "    .dataframe tbody tr th {\n",
       "        vertical-align: top;\n",
       "    }\n",
       "\n",
       "    .dataframe thead th {\n",
       "        text-align: right;\n",
       "    }\n",
       "</style>\n",
       "<table border=\"1\" class=\"dataframe\">\n",
       "  <thead>\n",
       "    <tr style=\"text-align: right;\">\n",
       "      <th></th>\n",
       "      <th>Processor(_Total) DPC Rate</th>\n",
       "      <th>Processor(_Total) pct_ Idle Time</th>\n",
       "      <th>Processor(_Total) pct_ Interrupt Time</th>\n",
       "      <th>Processor(_Total) pct_ User Time</th>\n",
       "      <th>Processor(_Total) pct_ C1 Time</th>\n",
       "      <th>Processor(_Total) pct_ Processor Time</th>\n",
       "      <th>Processor(_Total) C1 Transitions sec</th>\n",
       "      <th>Processor(_Total) pct_ DPC Time</th>\n",
       "      <th>Processor(_Total) pct_ Privileged Time</th>\n",
       "      <th>Processor(_Total) DPCs Queued sec</th>\n",
       "      <th>...</th>\n",
       "      <th>Memory Available MBytes</th>\n",
       "      <th>Memory Modified Page List Bytes</th>\n",
       "      <th>Memory Cache Faults sec</th>\n",
       "      <th>Memory Committed Bytes</th>\n",
       "      <th>Memory System Driver Total Bytes</th>\n",
       "      <th>Memory Pages Input sec</th>\n",
       "      <th>Memory Pool Paged Resident Bytes</th>\n",
       "      <th>Memory Write Copies sec</th>\n",
       "      <th>label</th>\n",
       "      <th>type</th>\n",
       "    </tr>\n",
       "  </thead>\n",
       "  <tbody>\n",
       "    <tr>\n",
       "      <th>2</th>\n",
       "      <td>0</td>\n",
       "      <td>99.791667</td>\n",
       "      <td>0.000000</td>\n",
       "      <td>0.208333</td>\n",
       "      <td>99.178867</td>\n",
       "      <td>0.208333</td>\n",
       "      <td>65.999919</td>\n",
       "      <td>0.000000</td>\n",
       "      <td>0.000000</td>\n",
       "      <td>2.266664</td>\n",
       "      <td>...</td>\n",
       "      <td>419</td>\n",
       "      <td>27353088</td>\n",
       "      <td>0.133333</td>\n",
       "      <td>925319168</td>\n",
       "      <td>5849088</td>\n",
       "      <td>0.000000</td>\n",
       "      <td>48033792</td>\n",
       "      <td>0.000000</td>\n",
       "      <td>0</td>\n",
       "      <td>normal</td>\n",
       "    </tr>\n",
       "    <tr>\n",
       "      <th>7</th>\n",
       "      <td>0</td>\n",
       "      <td>100.000000</td>\n",
       "      <td>0.000000</td>\n",
       "      <td>0.000000</td>\n",
       "      <td>99.334475</td>\n",
       "      <td>0.000000</td>\n",
       "      <td>71.190052</td>\n",
       "      <td>0.000000</td>\n",
       "      <td>0.000000</td>\n",
       "      <td>7.865568</td>\n",
       "      <td>...</td>\n",
       "      <td>438</td>\n",
       "      <td>28143616</td>\n",
       "      <td>0.266629</td>\n",
       "      <td>893521920</td>\n",
       "      <td>5849088</td>\n",
       "      <td>0.000000</td>\n",
       "      <td>47931392</td>\n",
       "      <td>0.000000</td>\n",
       "      <td>0</td>\n",
       "      <td>normal</td>\n",
       "    </tr>\n",
       "    <tr>\n",
       "      <th>8</th>\n",
       "      <td>14</td>\n",
       "      <td>91.875000</td>\n",
       "      <td>0.729167</td>\n",
       "      <td>3.229167</td>\n",
       "      <td>88.883554</td>\n",
       "      <td>8.125000</td>\n",
       "      <td>161.050403</td>\n",
       "      <td>0.729167</td>\n",
       "      <td>4.895833</td>\n",
       "      <td>569.542484</td>\n",
       "      <td>...</td>\n",
       "      <td>411</td>\n",
       "      <td>26755072</td>\n",
       "      <td>1.466519</td>\n",
       "      <td>937791488</td>\n",
       "      <td>5849088</td>\n",
       "      <td>7.465913</td>\n",
       "      <td>48099328</td>\n",
       "      <td>6.199374</td>\n",
       "      <td>0</td>\n",
       "      <td>normal</td>\n",
       "    </tr>\n",
       "    <tr>\n",
       "      <th>15</th>\n",
       "      <td>0</td>\n",
       "      <td>100.000000</td>\n",
       "      <td>0.000000</td>\n",
       "      <td>0.000000</td>\n",
       "      <td>99.037370</td>\n",
       "      <td>0.000000</td>\n",
       "      <td>66.198140</td>\n",
       "      <td>0.000000</td>\n",
       "      <td>0.000000</td>\n",
       "      <td>2.933251</td>\n",
       "      <td>...</td>\n",
       "      <td>440</td>\n",
       "      <td>28794880</td>\n",
       "      <td>0.266659</td>\n",
       "      <td>911331328</td>\n",
       "      <td>5849088</td>\n",
       "      <td>0.000000</td>\n",
       "      <td>42684416</td>\n",
       "      <td>0.000000</td>\n",
       "      <td>0</td>\n",
       "      <td>normal</td>\n",
       "    </tr>\n",
       "    <tr>\n",
       "      <th>17</th>\n",
       "      <td>0</td>\n",
       "      <td>49.687500</td>\n",
       "      <td>0.416667</td>\n",
       "      <td>36.458333</td>\n",
       "      <td>47.297749</td>\n",
       "      <td>50.312500</td>\n",
       "      <td>239.262523</td>\n",
       "      <td>6.145833</td>\n",
       "      <td>13.854167</td>\n",
       "      <td>390.859897</td>\n",
       "      <td>...</td>\n",
       "      <td>370</td>\n",
       "      <td>54022144</td>\n",
       "      <td>916.784121</td>\n",
       "      <td>925970432</td>\n",
       "      <td>5849088</td>\n",
       "      <td>1140.980238</td>\n",
       "      <td>45043712</td>\n",
       "      <td>73.132067</td>\n",
       "      <td>0</td>\n",
       "      <td>normal</td>\n",
       "    </tr>\n",
       "  </tbody>\n",
       "</table>\n",
       "<p>5 rows × 76 columns</p>\n",
       "</div>"
      ],
      "text/plain": [
       "    Processor(_Total) DPC Rate  Processor(_Total) pct_ Idle Time  \\\n",
       "2                            0                         99.791667   \n",
       "7                            0                        100.000000   \n",
       "8                           14                         91.875000   \n",
       "15                           0                        100.000000   \n",
       "17                           0                         49.687500   \n",
       "\n",
       "    Processor(_Total) pct_ Interrupt Time  Processor(_Total) pct_ User Time  \\\n",
       "2                                0.000000                          0.208333   \n",
       "7                                0.000000                          0.000000   \n",
       "8                                0.729167                          3.229167   \n",
       "15                               0.000000                          0.000000   \n",
       "17                               0.416667                         36.458333   \n",
       "\n",
       "    Processor(_Total) pct_ C1 Time  Processor(_Total) pct_ Processor Time  \\\n",
       "2                        99.178867                               0.208333   \n",
       "7                        99.334475                               0.000000   \n",
       "8                        88.883554                               8.125000   \n",
       "15                       99.037370                               0.000000   \n",
       "17                       47.297749                              50.312500   \n",
       "\n",
       "    Processor(_Total) C1 Transitions sec  Processor(_Total) pct_ DPC Time  \\\n",
       "2                              65.999919                         0.000000   \n",
       "7                              71.190052                         0.000000   \n",
       "8                             161.050403                         0.729167   \n",
       "15                             66.198140                         0.000000   \n",
       "17                            239.262523                         6.145833   \n",
       "\n",
       "    Processor(_Total) pct_ Privileged Time  Processor(_Total) DPCs Queued sec  \\\n",
       "2                                 0.000000                           2.266664   \n",
       "7                                 0.000000                           7.865568   \n",
       "8                                 4.895833                         569.542484   \n",
       "15                                0.000000                           2.933251   \n",
       "17                               13.854167                         390.859897   \n",
       "\n",
       "    ...  Memory Available MBytes  Memory Modified Page List Bytes  \\\n",
       "2   ...                      419                         27353088   \n",
       "7   ...                      438                         28143616   \n",
       "8   ...                      411                         26755072   \n",
       "15  ...                      440                         28794880   \n",
       "17  ...                      370                         54022144   \n",
       "\n",
       "    Memory Cache Faults sec  Memory Committed Bytes  \\\n",
       "2                  0.133333               925319168   \n",
       "7                  0.266629               893521920   \n",
       "8                  1.466519               937791488   \n",
       "15                 0.266659               911331328   \n",
       "17               916.784121               925970432   \n",
       "\n",
       "    Memory System Driver Total Bytes  Memory Pages Input sec  \\\n",
       "2                            5849088                0.000000   \n",
       "7                            5849088                0.000000   \n",
       "8                            5849088                7.465913   \n",
       "15                           5849088                0.000000   \n",
       "17                           5849088             1140.980238   \n",
       "\n",
       "    Memory Pool Paged Resident Bytes  Memory Write Copies sec  label    type  \n",
       "2                           48033792                 0.000000      0  normal  \n",
       "7                           47931392                 0.000000      0  normal  \n",
       "8                           48099328                 6.199374      0  normal  \n",
       "15                          42684416                 0.000000      0  normal  \n",
       "17                          45043712                73.132067      0  normal  \n",
       "\n",
       "[5 rows x 76 columns]"
      ]
     },
     "execution_count": 30,
     "metadata": {},
     "output_type": "execute_result"
    }
   ],
   "source": [
    "df.head()"
   ]
  },
  {
   "cell_type": "code",
   "execution_count": 31,
   "id": "89d1bfd8",
   "metadata": {},
   "outputs": [],
   "source": [
    "# Remove the multiple attack types column\n",
    "df = df.drop('type', axis=1)"
   ]
  },
  {
   "cell_type": "markdown",
   "id": "c517c022",
   "metadata": {},
   "source": [
    "## Seperating independent and dependent variables:"
   ]
  },
  {
   "cell_type": "code",
   "execution_count": 32,
   "id": "33fcb3d6",
   "metadata": {},
   "outputs": [],
   "source": [
    "# Removing Y and Id\n",
    "X = df.iloc [: ,:-1].values    # independent variables\n",
    "# Keeping only Y\n",
    "y = df.iloc [: , -1].values    # dependent variables"
   ]
  },
  {
   "cell_type": "markdown",
   "id": "2cbc3cea",
   "metadata": {},
   "source": [
    "## Handling Inf values:\n"
   ]
  },
  {
   "cell_type": "code",
   "execution_count": 33,
   "id": "3077af12",
   "metadata": {},
   "outputs": [],
   "source": [
    "import numpy as np\n",
    "\n",
    "# find min and max values for each column, ignoring nan, -inf, and inf\n",
    "mins = [np.nanmin(X[:, i][X[:, i] != -np.inf]) for i in range(X.shape[1])]\n",
    "maxs = [np.nanmax(X[:, i][X[:, i] != np.inf]) for i in range(X.shape[1])]\n",
    "\n",
    "# go through matrix one column at a time and replace  + and -infinity \n",
    "# with the max or min for that column\n",
    "for i in range(X.shape[1]):\n",
    "    X[:, i][X[:, i] == -np.inf] = mins[i]\n",
    "    X[:, i][X[:, i] == np.inf] = maxs[i]"
   ]
  },
  {
   "cell_type": "markdown",
   "id": "54de2f85",
   "metadata": {},
   "source": [
    "## Standardizing all numerical columns "
   ]
  },
  {
   "cell_type": "code",
   "execution_count": 34,
   "id": "0cafbb44",
   "metadata": {},
   "outputs": [],
   "source": [
    "# feature Scaling\n",
    "sc = MinMaxScaler(feature_range = (0,1))\n",
    "X = sc.fit_transform(X)"
   ]
  },
  {
   "cell_type": "code",
   "execution_count": 35,
   "id": "776fb22f",
   "metadata": {},
   "outputs": [
    {
     "data": {
      "text/plain": [
       "(11909, 75)"
      ]
     },
     "execution_count": 35,
     "metadata": {},
     "output_type": "execute_result"
    }
   ],
   "source": [
    "df.shape"
   ]
  },
  {
   "cell_type": "markdown",
   "id": "17e67a5b",
   "metadata": {},
   "source": [
    "# Train test Split"
   ]
  },
  {
   "cell_type": "code",
   "execution_count": 36,
   "id": "0274529e",
   "metadata": {},
   "outputs": [],
   "source": [
    "from sklearn.model_selection import train_test_split\n",
    "from sklearn.metrics import classification_report\n",
    "\n",
    "X_train, X_test, y_train, y_test = train_test_split(X, y, stratify=y,test_size=0.2)"
   ]
  },
  {
   "cell_type": "markdown",
   "id": "f027eef2",
   "metadata": {},
   "source": [
    "# Supervised Model selection"
   ]
  },
  {
   "cell_type": "code",
   "execution_count": 37,
   "id": "b6256faf",
   "metadata": {},
   "outputs": [],
   "source": [
    "from sklearn import svm\n",
    "from sklearn.ensemble import RandomForestClassifier\n",
    "from sklearn.linear_model import LogisticRegression\n",
    "from sklearn.model_selection import GridSearchCV\n",
    "from sklearn.svm import SVC\n",
    "from sklearn.metrics import accuracy_score, precision_score, recall_score, f1_score\n",
    "from sklearn import metrics\n",
    "from sklearn.metrics import (confusion_matrix, precision_recall_curve, auc, roc_curve, recall_score, \n",
    "                             classification_report, f1_score, average_precision_score, precision_recall_fscore_support)"
   ]
  },
  {
   "cell_type": "code",
   "execution_count": 38,
   "id": "624ec4b9",
   "metadata": {},
   "outputs": [],
   "source": [
    "model_params = {\n",
    "    'svm': {\n",
    "        'model': svm.SVC(gamma='auto'),\n",
    "        'params' : {\n",
    "            'C': [10,20,50],\n",
    "            'kernel': ['rbf','poly','sigmoid','linear']\n",
    "        }  \n",
    "    },\n",
    "    'random_forest': {\n",
    "        'model': RandomForestClassifier(),\n",
    "        'params' : {\n",
    "            'n_estimators': [50,100,200],\n",
    "            'max_features': ['auto', 'sqrt', 'log2'],\n",
    "            'max_depth' : [5,15,25],\n",
    "            'criterion' : ['gini', 'entropy']\n",
    "        }\n",
    "    }\n",
    "}"
   ]
  },
  {
   "cell_type": "code",
   "execution_count": null,
   "id": "8bf4832c",
   "metadata": {},
   "outputs": [],
   "source": [
    "import time\n",
    "start = time.time()\n",
    "\n",
    "scores = []\n",
    "\n",
    "for model_name, mp in model_params.items():\n",
    "    clf =  GridSearchCV(mp['model'], mp['params'], cv=5, return_train_score=False)\n",
    "    clf.fit(X_train, y_train)\n",
    "    scores.append({\n",
    "        'model': model_name,\n",
    "        'best_score': clf.best_score_,\n",
    "        'best_params': clf.best_params_\n",
    "    })\n",
    "    \n",
    "model_output = pd.DataFrame(scores,columns=['model','best_score','best_params'])\n",
    "\n",
    "\n",
    "end = time.time()\n",
    "hours, rem = divmod(end-start, 3600)\n",
    "minutes, seconds = divmod(rem, 60)\n",
    "print(\"Execution time: \"+\"{:0>2}:{:0>2}:{:05.2f}\".format(int(hours),int(minutes),seconds))"
   ]
  },
  {
   "cell_type": "code",
   "execution_count": null,
   "id": "f52f1aa0",
   "metadata": {},
   "outputs": [],
   "source": [
    "model_output"
   ]
  },
  {
   "cell_type": "code",
   "execution_count": 53,
   "id": "1e360f47",
   "metadata": {},
   "outputs": [
    {
     "data": {
      "text/plain": [
       "{'C': 50, 'kernel': 'linear'}"
      ]
     },
     "execution_count": 53,
     "metadata": {},
     "output_type": "execute_result"
    }
   ],
   "source": [
    "model_output.best_params[0]"
   ]
  },
  {
   "cell_type": "code",
   "execution_count": 58,
   "id": "17b057af",
   "metadata": {},
   "outputs": [],
   "source": [
    "svm= SVC(gamma='auto',C = 50,kernel = 'linear') \n",
    "svm.fit(X_train, y_train)\n",
    "# Measure model performance\n",
    "y_pred_svm = svm.predict(X_test)"
   ]
  },
  {
   "cell_type": "code",
   "execution_count": 61,
   "id": "f63c93d9",
   "metadata": {},
   "outputs": [
    {
     "name": "stdout",
     "output_type": "stream",
     "text": [
      "Test Accuracy: 0.968\n",
      "Test Precision: 0.949\n",
      "Test Recall: 0.990\n",
      "Test F-1: 0.969\n"
     ]
    }
   ],
   "source": [
    "# Calculate the metrics\n",
    "print('Test Accuracy: %.3f' % accuracy_score(y_test, y_pred_svm))\n",
    "print('Test Precision: %.3f' % precision_score(y_test, y_pred_svm))\n",
    "print('Test Recall: %.3f' % recall_score(y_test, y_pred_svm))\n",
    "print('Test F-1: %.3f' % f1_score(y_test, y_pred_svm))"
   ]
  },
  {
   "cell_type": "code",
   "execution_count": 62,
   "id": "98a3da15",
   "metadata": {},
   "outputs": [
    {
     "data": {
      "text/plain": [
       "{'criterion': 'entropy',\n",
       " 'max_depth': 25,\n",
       " 'max_features': 'sqrt',\n",
       " 'n_estimators': 100}"
      ]
     },
     "execution_count": 62,
     "metadata": {},
     "output_type": "execute_result"
    }
   ],
   "source": [
    "model_output.best_params[1]"
   ]
  },
  {
   "cell_type": "code",
   "execution_count": 63,
   "id": "1dd50c28",
   "metadata": {},
   "outputs": [],
   "source": [
    "forest=RandomForestClassifier( n_estimators= 100, max_depth=25, criterion='entropy',max_features = 'sqrt')\n",
    "forest.fit(X_train, y_train)\n",
    "# Measure model performance\n",
    "y_pred_rf = forest.predict(X_test)"
   ]
  },
  {
   "cell_type": "code",
   "execution_count": 64,
   "id": "901c0569",
   "metadata": {},
   "outputs": [
    {
     "name": "stdout",
     "output_type": "stream",
     "text": [
      "Test Accuracy: 0.986\n",
      "Test Precision: 0.974\n",
      "Test Recall: 0.998\n",
      "Test F-1: 0.986\n"
     ]
    }
   ],
   "source": [
    "# Calculate the metrics\n",
    "print('Test Accuracy: %.3f' % accuracy_score(y_test, y_pred_rf))\n",
    "print('Test Precision: %.3f' % precision_score(y_test, y_pred_rf))\n",
    "print('Test Recall: %.3f' % recall_score(y_test, y_pred_rf))\n",
    "print('Test F-1: %.3f' % f1_score(y_test, y_pred_rf))"
   ]
  },
  {
   "cell_type": "markdown",
   "id": "6727a7d1",
   "metadata": {},
   "source": [
    "Between the two supervised model random forest is the clear winner and the test accuracy is 98.6%."
   ]
  },
  {
   "cell_type": "code",
   "execution_count": 68,
   "id": "f2c94e79",
   "metadata": {},
   "outputs": [],
   "source": [
    "# Random forest\n",
    "forest.fit(X_train, y_train)\n",
    "y_pred_prob_rf = forest.predict_proba(X_test)[:,1]\n",
    "fpr_rf, tpr_rf, thresholds_rf = roc_curve(y_test, y_pred_prob_rf)\n",
    "roc_auc_rf = auc(fpr_rf, tpr_rf)\n",
    "precision_rf, recall_rf, th_rf = precision_recall_curve(y_test, y_pred_prob_rf)"
   ]
  },
  {
   "cell_type": "code",
   "execution_count": 69,
   "id": "5b370f74",
   "metadata": {},
   "outputs": [],
   "source": [
    "# SVM \n",
    "modelSVMlinear=svm.SVC(gamma='auto',C = 50,kernel = 'linear', probability=True)\n",
    "modelSVMlinear.fit(X_train, y_train)\n",
    "y_pred_prob_SVMlinear = modelSVMlinear.predict_proba(X_test)[:,1]\n",
    "fpr_SVMlinear, tpr_SVMlinear, thresholds_SVMlinear = roc_curve(y_test, y_pred_prob_SVMlinear)\n",
    "roc_auc_SVMlinear = auc(fpr_SVMlinear, tpr_SVMlinear)\n",
    "precision_SVMlinear, recall_SVMlinear, th_SVMlinear = precision_recall_curve(y_test, y_pred_prob_SVMlinear)"
   ]
  },
  {
   "cell_type": "code",
   "execution_count": 70,
   "id": "dc795013",
   "metadata": {},
   "outputs": [
    {
     "data": {
      "image/png": "[encoded data removed]",
      "text/plain": [
       "<Figure size 432x288 with 1 Axes>"
      ]
     },
     "metadata": {
      "needs_background": "light"
     },
     "output_type": "display_data"
    }
   ],
   "source": [
    "# Plot ROC curve\n",
    "plt.plot([0, 1], [0, 1], 'k--')\n",
    "plt.plot(fpr_SVMlinear, tpr_SVMlinear, label='SVM linear (area = %0.3f)' % roc_auc_SVMlinear)\n",
    "plt.plot(fpr_rf, tpr_rf, label='RF (area = %0.3f)' % roc_auc_rf)\n",
    "plt.xlabel('False Positive Rate')\n",
    "plt.ylabel('True Positive Rate')\n",
    "plt.title('ROC curves from the investigated models')\n",
    "plt.legend(loc='best')\n",
    "plt.show()"
   ]
  },
  {
   "cell_type": "markdown",
   "id": "231c6eba",
   "metadata": {},
   "source": [
    "# Unsupervised modelling:"
   ]
  },
  {
   "cell_type": "markdown",
   "id": "122a9737",
   "metadata": {},
   "source": [
    "## SOM"
   ]
  },
  {
   "cell_type": "code",
   "execution_count": 82,
   "id": "e65af6f7",
   "metadata": {},
   "outputs": [],
   "source": [
    "import numpy as np\n",
    "import matplotlib.pyplot as plt\n",
    "import pandas as pd\n",
    "# Minisom library and module is used for performing Self Organizing Maps\n",
    "from minisom import MiniSom\n",
    "from sklearn.base import BaseEstimator, TransformerMixin"
   ]
  },
  {
   "cell_type": "code",
   "execution_count": 85,
   "id": "55597684",
   "metadata": {},
   "outputs": [],
   "source": [
    "class MiniSomWrapper(BaseEstimator, TransformerMixin):\n",
    "    def __init__(self, som_shape=(1, 2), sigma=1.0, learning_rate=0.5, neighborhood_function='gaussian'):\n",
    "        self.som_shape = som_shape\n",
    "        self.sigma = sigma\n",
    "        self.learning_rate = learning_rate\n",
    "        self.neighborhood_function = neighborhood_function\n",
    "        self.som = None\n",
    "\n",
    "    def fit(self, X, y=None):\n",
    "        self.som = MiniSom(self.som_shape[0], self.som_shape[1], X.shape[1],\n",
    "                           sigma=self.sigma, learning_rate=self.learning_rate,\n",
    "                           neighborhood_function=self.neighborhood_function)\n",
    "        self.som.pca_weights_init(X)\n",
    "        self.som.train_random(X, 100, verbose=False)\n",
    "        return self\n",
    "\n",
    "    def transform(self, X):\n",
    "        return classify(self.som, X)\n",
    "\n",
    "    def predict(self, X):\n",
    "        return self.transform(X)"
   ]
  },
  {
   "cell_type": "code",
   "execution_count": 91,
   "id": "f0744edd",
   "metadata": {},
   "outputs": [
    {
     "name": "stdout",
     "output_type": "stream",
     "text": [
      "Execution time: 00:01:31.28\n"
     ]
    }
   ],
   "source": [
    "start = time.time()\n",
    "# Define the parameter grid\n",
    "param_grid = {\n",
    "    'sigma': [1,2, 4, 6],\n",
    "    'learning_rate': [.05,0.1, 0.5, 0.8],\n",
    "    'neighborhood_function': ['gaussian', 'triangle']\n",
    "}\n",
    "\n",
    "# Create an instance of the MiniSomWrapper model\n",
    "som = MiniSomWrapper(som_shape=(1, 2))\n",
    "\n",
    "# Create a grid search object\n",
    "grid_search = GridSearchCV(som, param_grid, scoring='accuracy', cv=10)\n",
    "\n",
    "# Fit the grid search to the training data\n",
    "grid_search.fit(X_train, y_train)\n",
    "\n",
    "end = time.time()\n",
    "hours, rem = divmod(end-start, 3600)\n",
    "minutes, seconds = divmod(rem, 60)\n",
    "print(\"Execution time: \"+\"{:0>2}:{:0>2}:{:05.2f}\".format(int(hours),int(minutes),seconds))"
   ]
  },
  {
   "cell_type": "code",
   "execution_count": 92,
   "id": "e1e09c31",
   "metadata": {},
   "outputs": [
    {
     "name": "stdout",
     "output_type": "stream",
     "text": [
      "Best Parameters: {'learning_rate': 0.1, 'neighborhood_function': 'gaussian', 'sigma': 1}\n"
     ]
    }
   ],
   "source": [
    "# Print the best parameters and the corresponding classification report\n",
    "print(\"Best Parameters:\", grid_search.best_params_)"
   ]
  },
  {
   "cell_type": "code",
   "execution_count": 93,
   "id": "eb0e07ad",
   "metadata": {},
   "outputs": [
    {
     "name": "stdout",
     "output_type": "stream",
     "text": [
      "Test Accuracy: 0.826\n",
      "Test Precision: 0.742\n",
      "Test Recall: 1.000\n",
      "Test F-1: 0.852\n"
     ]
    }
   ],
   "source": [
    "# Calculate the metrics\n",
    "print('Test Accuracy: %.3f' % accuracy_score(y_test, classify(grid_search.best_estimator_.som, X_test)))\n",
    "print('Test Precision: %.3f' % precision_score(y_test, classify(grid_search.best_estimator_.som, X_test)))\n",
    "print('Test Recall: %.3f' % recall_score(y_test, classify(grid_search.best_estimator_.som, X_test)))\n",
    "print('Test F-1: %.3f' % f1_score(y_test, classify(grid_search.best_estimator_.som, X_test)))"
   ]
  },
  {
   "cell_type": "markdown",
   "id": "3133749a",
   "metadata": {},
   "source": [
    "## K-means clustering "
   ]
  },
  {
   "cell_type": "code",
   "execution_count": 99,
   "id": "29233ea3",
   "metadata": {},
   "outputs": [],
   "source": [
    "from sklearn.cluster import KMeans\n",
    "from sklearn.metrics import accuracy_score, precision_score, recall_score, f1_score\n",
    "from sklearn.model_selection import GridSearchCV\n",
    "\n"
   ]
  },
  {
   "cell_type": "code",
   "execution_count": null,
   "id": "85f6ce18",
   "metadata": {},
   "outputs": [],
   "source": [
    "start = time.time()\n",
    "\n",
    "# Define the parameter grid\n",
    "param_grid = {\n",
    "    'n_init': [50, 100, 200],\n",
    "    'init': ['k-means++', 'random'],\n",
    "    'algorithm': ['auto', 'full', 'elkan']\n",
    "}\n",
    "\n",
    "# Create the KMeans instance\n",
    "kmeans = KMeans(n_clusters = 2)\n",
    "\n",
    "# Create the GridSearchCV instance\n",
    "grid_search = GridSearchCV(estimator=kmeans, param_grid=param_grid, cv=10)\n",
    "\n",
    "# Fit the data to perform grid search\n",
    "grid_search.fit(X_train)\n",
    "\n",
    "# Get the best parameters and the best model\n",
    "best_params = grid_search.best_params_\n",
    "best_model = grid_search.best_estimator_\n",
    "\n",
    "# Fit the best model on the data\n",
    "best_model.fit(X_train)\n",
    "\n",
    "# Predict the cluster labels\n",
    "labels = best_model.predict(X_test)\n",
    "\n",
    "end = time.time()\n",
    "hours, rem = divmod(end-start, 3600)\n",
    "minutes, seconds = divmod(rem, 60)\n",
    "print(\"Execution time: \"+\"{:0>2}:{:0>2}:{:05.2f}\".format(int(hours),int(minutes),seconds))"
   ]
  },
  {
   "cell_type": "code",
   "execution_count": null,
   "id": "eb6f9e82",
   "metadata": {},
   "outputs": [],
   "source": [
    "# Print the best parameters and score\n",
    "print(\"Best Parameters: \", grid_search.best_params_)\n",
    "print(\"Best Score: \", grid_search.best_score_)"
   ]
  },
  {
   "cell_type": "code",
   "execution_count": null,
   "id": "df927380",
   "metadata": {},
   "outputs": [],
   "source": [
    "# Calculate the evaluation metrics\n",
    "accuracy = accuracy_score(y_test, labels)\n",
    "precision = precision_score(y_test, labels, average='macro')\n",
    "recall = recall_score(y_test, labels, average='macro')\n",
    "f_score = f1_score(y_test, labels, average='macro')\n",
    "\n",
    "# Print the evaluation metrics\n",
    "print(\"Accuracy: \", accuracy)\n",
    "print(\"Precision: \", precision)\n",
    "print(\"Recall: \", recall)\n",
    "print(\"F-score: \", f_score)"
   ]
  },
  {
   "cell_type": "code",
   "execution_count": null,
   "id": "f185639b",
   "metadata": {},
   "outputs": [],
   "source": []
  },
  {
   "cell_type": "code",
   "execution_count": null,
   "id": "bb0a2d89",
   "metadata": {},
   "outputs": [],
   "source": []
  },
  {
   "cell_type": "code",
   "execution_count": null,
   "id": "336862d1",
   "metadata": {},
   "outputs": [],
   "source": []
  },
  {
   "cell_type": "code",
   "execution_count": 362,
   "id": "b573e1f6",
   "metadata": {},
   "outputs": [],
   "source": [
    "#Now let's open it with pandas\n",
    "import pandas as pd\n",
    "from pandas import Series,DataFrame\n",
    "from scipy import stats\n",
    "import matplotlib.pyplot as plt\n",
    "import seaborn as sns\n",
    "from sklearn.preprocessing import StandardScaler\n",
    "\n",
    "import numpy as np\n",
    "from sklearn.cluster import AgglomerativeClustering\n",
    "import scipy.cluster.hierarchy as shc\n",
    "from sklearn.cluster import KMeans\n",
    "from sklearn.cluster import DBSCAN\n",
    "from sklearn import metrics \n",
    "\n",
    "\n",
    "import warnings\n",
    "warnings.filterwarnings('ignore')"
   ]
  },
  {
   "cell_type": "code",
   "execution_count": 363,
   "id": "e615cc65",
   "metadata": {},
   "outputs": [],
   "source": [
    "def k_means_fit(covariates,centroid_method):\n",
    "    data = pd.DataFrame(covariates)\n",
    "    # from sklearn.cluster import KMeans \n",
    "    clusters = 2\n",
    "    number_of_iteration = 100\n",
    "    kmeans = KMeans(n_clusters = clusters,n_init= number_of_iteration,init = centroid_method,algorithm = \"full\") \n",
    "    kmeans.fit(data) \n",
    "    \n",
    "    y_labels_test = kmeans.predict(X_test)\n",
    "    tab = pd.crosstab(index=y_test, columns=y_labels_test)\n",
    "    print (metrics.classification_report(y_test,y_labels_test))"
   ]
  },
  {
   "cell_type": "code",
   "execution_count": 364,
   "id": "19dab2b9",
   "metadata": {},
   "outputs": [
    {
     "name": "stdout",
     "output_type": "stream",
     "text": [
      "              precision    recall  f1-score   support\n",
      "\n",
      "           0       0.24      0.31      0.27      2186\n",
      "           1       0.00      0.00      0.00      2186\n",
      "\n",
      "    accuracy                           0.16      4372\n",
      "   macro avg       0.12      0.16      0.14      4372\n",
      "weighted avg       0.12      0.16      0.14      4372\n",
      "\n"
     ]
    }
   ],
   "source": [
    "k_means_fit(X_train,centroid_method = \"random\")"
   ]
  },
  {
   "cell_type": "markdown",
   "id": "bde5c218",
   "metadata": {},
   "source": [
    "# Hierchical clustering "
   ]
  },
  {
   "cell_type": "code",
   "execution_count": 365,
   "id": "64008c01",
   "metadata": {},
   "outputs": [
    {
     "name": "stdout",
     "output_type": "stream",
     "text": [
      "              precision    recall  f1-score   support\n",
      "\n",
      "           0       0.86      0.70      0.77      2186\n",
      "           1       0.74      0.88      0.81      2186\n",
      "\n",
      "    accuracy                           0.79      4372\n",
      "   macro avg       0.80      0.79      0.79      4372\n",
      "weighted avg       0.80      0.79      0.79      4372\n",
      "\n"
     ]
    }
   ],
   "source": [
    "from sklearn.cluster import AgglomerativeClustering\n",
    "cluster = AgglomerativeClustering(n_clusters=2, affinity='euclidean', linkage='ward')  \n",
    "cluster.fit_predict(X_test)\n",
    "print (metrics.classification_report(y_test,cluster.labels_))"
   ]
  },
  {
   "cell_type": "markdown",
   "id": "87eb0b77",
   "metadata": {},
   "source": [
    "# Result"
   ]
  },
  {
   "cell_type": "markdown",
   "id": "7adf15fe",
   "metadata": {},
   "source": [
    "Among these three clustering methods K-means clustering giving us the best classification accuracy which is 84%."
   ]
  },
  {
   "cell_type": "code",
   "execution_count": 366,
   "id": "901ede3c",
   "metadata": {},
   "outputs": [
    {
     "data": {
      "text/plain": [
       "(17486,)"
      ]
     },
     "execution_count": 366,
     "metadata": {},
     "output_type": "execute_result"
    }
   ],
   "source": [
    "y_train.shape"
   ]
  },
  {
   "cell_type": "code",
   "execution_count": 367,
   "id": "a159616e",
   "metadata": {},
   "outputs": [
    {
     "data": {
      "text/plain": [
       "(4372,)"
      ]
     },
     "execution_count": 367,
     "metadata": {},
     "output_type": "execute_result"
    }
   ],
   "source": [
    "y_test.shape"
   ]
  },
  {
   "cell_type": "code",
   "execution_count": null,
   "id": "375a1cb0",
   "metadata": {},
   "outputs": [],
   "source": []
  }
 ],
 "metadata": {
  "kernelspec": {
   "display_name": "Python 3",
   "language": "python",
   "name": "python3"
  },
  "language_info": {
   "codemirror_mode": {
    "name": "ipython",
    "version": 3
   },
   "file_extension": ".py",
   "mimetype": "text/x-python",
   "name": "python",
   "nbconvert_exporter": "python",
   "pygments_lexer": "ipython3",
   "version": "3.6.9"
  }
 },
 "nbformat": 4,
 "nbformat_minor": 5
}
