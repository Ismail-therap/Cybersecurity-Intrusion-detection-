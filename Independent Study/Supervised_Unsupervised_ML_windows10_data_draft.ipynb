{
 "cells": [
  {
   "cell_type": "markdown",
   "metadata": {},
   "source": [
    "# Read data "
   ]
  },
  {
   "cell_type": "code",
   "execution_count": 5,
   "metadata": {},
   "outputs": [
    {
     "data": {
      "text/html": [
       "<div>\n",
       "<style scoped>\n",
       "    .dataframe tbody tr th:only-of-type {\n",
       "        vertical-align: middle;\n",
       "    }\n",
       "\n",
       "    .dataframe tbody tr th {\n",
       "        vertical-align: top;\n",
       "    }\n",
       "\n",
       "    .dataframe thead th {\n",
       "        text-align: right;\n",
       "    }\n",
       "</style>\n",
       "<table border=\"1\" class=\"dataframe\">\n",
       "  <thead>\n",
       "    <tr style=\"text-align: right;\">\n",
       "      <th></th>\n",
       "      <th>ts</th>\n",
       "      <th>Processor_DPC_Rate</th>\n",
       "      <th>Processor_pct_ Idle_Time</th>\n",
       "      <th>Processor_pct_ C3_Time</th>\n",
       "      <th>Processor_pct_ Interrupt_Time</th>\n",
       "      <th>Processor_pct_ C2_Time</th>\n",
       "      <th>Processor_pct_ User_Time</th>\n",
       "      <th>Processor_pct_ C1_Time</th>\n",
       "      <th>Processor_pct_ Processor_Time</th>\n",
       "      <th>Processor_C1_ransitions_sec</th>\n",
       "      <th>...</th>\n",
       "      <th>LogicalDisk(_Total) Avg  Disk Write Queue Length</th>\n",
       "      <th>LogicalDisk(_Total) Avg  Disk Queue Length</th>\n",
       "      <th>LogicalDisk(_Total) pct_ Disk Read Time</th>\n",
       "      <th>LogicalDisk(_Total) Disk Write Bytes sec</th>\n",
       "      <th>LogicalDisk(_Total) Disk Transfers sec</th>\n",
       "      <th>LogicalDisk(_Total) Avg  Disk Bytes Transfer</th>\n",
       "      <th>LogicalDisk(_Total) pct_ Disk Write Time</th>\n",
       "      <th>LogicalDisk(_Total) Avg  Disk sec Transfer</th>\n",
       "      <th>label</th>\n",
       "      <th>type</th>\n",
       "    </tr>\n",
       "  </thead>\n",
       "  <tbody>\n",
       "    <tr>\n",
       "      <th>0</th>\n",
       "      <td>1554206309</td>\n",
       "      <td>4</td>\n",
       "      <td>29.908172</td>\n",
       "      <td>0.0</td>\n",
       "      <td>0.078240</td>\n",
       "      <td>0.0</td>\n",
       "      <td>61.027509</td>\n",
       "      <td>29.908172</td>\n",
       "      <td>66.200149</td>\n",
       "      <td>480.094991</td>\n",
       "      <td>...</td>\n",
       "      <td>0.134876</td>\n",
       "      <td>0.163098</td>\n",
       "      <td>2.822198</td>\n",
       "      <td>1.924988e+06</td>\n",
       "      <td>402.582784</td>\n",
       "      <td>9100.481592</td>\n",
       "      <td>13.487612</td>\n",
       "      <td>0.000405</td>\n",
       "      <td>0</td>\n",
       "      <td>normal</td>\n",
       "    </tr>\n",
       "    <tr>\n",
       "      <th>1</th>\n",
       "      <td>1554206319</td>\n",
       "      <td>9</td>\n",
       "      <td>31.751682</td>\n",
       "      <td>0.0</td>\n",
       "      <td>0.312521</td>\n",
       "      <td>0.0</td>\n",
       "      <td>59.144594</td>\n",
       "      <td>31.751682</td>\n",
       "      <td>66.247735</td>\n",
       "      <td>427.041284</td>\n",
       "      <td>...</td>\n",
       "      <td>0.157564</td>\n",
       "      <td>0.189279</td>\n",
       "      <td>3.171506</td>\n",
       "      <td>1.497233e+06</td>\n",
       "      <td>355.134332</td>\n",
       "      <td>11153.554490</td>\n",
       "      <td>15.756429</td>\n",
       "      <td>0.000533</td>\n",
       "      <td>0</td>\n",
       "      <td>normal</td>\n",
       "    </tr>\n",
       "    <tr>\n",
       "      <th>2</th>\n",
       "      <td>1554206329</td>\n",
       "      <td>5</td>\n",
       "      <td>29.495167</td>\n",
       "      <td>0.0</td>\n",
       "      <td>1.168222</td>\n",
       "      <td>0.0</td>\n",
       "      <td>46.027940</td>\n",
       "      <td>29.495167</td>\n",
       "      <td>66.900381</td>\n",
       "      <td>1159.426821</td>\n",
       "      <td>...</td>\n",
       "      <td>0.401774</td>\n",
       "      <td>0.782472</td>\n",
       "      <td>38.069810</td>\n",
       "      <td>1.854229e+06</td>\n",
       "      <td>760.431768</td>\n",
       "      <td>26994.265950</td>\n",
       "      <td>40.177378</td>\n",
       "      <td>0.001028</td>\n",
       "      <td>0</td>\n",
       "      <td>normal</td>\n",
       "    </tr>\n",
       "    <tr>\n",
       "      <th>3</th>\n",
       "      <td>1554206339</td>\n",
       "      <td>12</td>\n",
       "      <td>18.224375</td>\n",
       "      <td>0.0</td>\n",
       "      <td>1.097192</td>\n",
       "      <td>0.0</td>\n",
       "      <td>47.806219</td>\n",
       "      <td>18.224375</td>\n",
       "      <td>79.545208</td>\n",
       "      <td>736.622011</td>\n",
       "      <td>...</td>\n",
       "      <td>0.259062</td>\n",
       "      <td>0.768934</td>\n",
       "      <td>50.987167</td>\n",
       "      <td>1.591239e+07</td>\n",
       "      <td>699.499954</td>\n",
       "      <td>53141.663800</td>\n",
       "      <td>25.906233</td>\n",
       "      <td>0.001099</td>\n",
       "      <td>0</td>\n",
       "      <td>normal</td>\n",
       "    </tr>\n",
       "    <tr>\n",
       "      <th>4</th>\n",
       "      <td>1554206349</td>\n",
       "      <td>12</td>\n",
       "      <td>14.861187</td>\n",
       "      <td>0.0</td>\n",
       "      <td>1.562431</td>\n",
       "      <td>0.0</td>\n",
       "      <td>41.873151</td>\n",
       "      <td>14.861187</td>\n",
       "      <td>82.735137</td>\n",
       "      <td>896.108598</td>\n",
       "      <td>...</td>\n",
       "      <td>0.103836</td>\n",
       "      <td>1.081730</td>\n",
       "      <td>97.789353</td>\n",
       "      <td>2.360930e+07</td>\n",
       "      <td>1184.550425</td>\n",
       "      <td>40988.684440</td>\n",
       "      <td>10.383619</td>\n",
       "      <td>0.000913</td>\n",
       "      <td>0</td>\n",
       "      <td>normal</td>\n",
       "    </tr>\n",
       "  </tbody>\n",
       "</table>\n",
       "<p>5 rows × 127 columns</p>\n",
       "</div>"
      ],
      "text/plain": [
       "           ts  Processor_DPC_Rate  Processor_pct_ Idle_Time  \\\n",
       "0  1554206309                   4                 29.908172   \n",
       "1  1554206319                   9                 31.751682   \n",
       "2  1554206329                   5                 29.495167   \n",
       "3  1554206339                  12                 18.224375   \n",
       "4  1554206349                  12                 14.861187   \n",
       "\n",
       "   Processor_pct_ C3_Time  Processor_pct_ Interrupt_Time  \\\n",
       "0                     0.0                       0.078240   \n",
       "1                     0.0                       0.312521   \n",
       "2                     0.0                       1.168222   \n",
       "3                     0.0                       1.097192   \n",
       "4                     0.0                       1.562431   \n",
       "\n",
       "   Processor_pct_ C2_Time  Processor_pct_ User_Time  Processor_pct_ C1_Time  \\\n",
       "0                     0.0                 61.027509               29.908172   \n",
       "1                     0.0                 59.144594               31.751682   \n",
       "2                     0.0                 46.027940               29.495167   \n",
       "3                     0.0                 47.806219               18.224375   \n",
       "4                     0.0                 41.873151               14.861187   \n",
       "\n",
       "   Processor_pct_ Processor_Time  Processor_C1_ransitions_sec  ...  \\\n",
       "0                      66.200149                   480.094991  ...   \n",
       "1                      66.247735                   427.041284  ...   \n",
       "2                      66.900381                  1159.426821  ...   \n",
       "3                      79.545208                   736.622011  ...   \n",
       "4                      82.735137                   896.108598  ...   \n",
       "\n",
       "   LogicalDisk(_Total) Avg  Disk Write Queue Length  \\\n",
       "0                                          0.134876   \n",
       "1                                          0.157564   \n",
       "2                                          0.401774   \n",
       "3                                          0.259062   \n",
       "4                                          0.103836   \n",
       "\n",
       "   LogicalDisk(_Total) Avg  Disk Queue Length  \\\n",
       "0                                    0.163098   \n",
       "1                                    0.189279   \n",
       "2                                    0.782472   \n",
       "3                                    0.768934   \n",
       "4                                    1.081730   \n",
       "\n",
       "   LogicalDisk(_Total) pct_ Disk Read Time  \\\n",
       "0                                 2.822198   \n",
       "1                                 3.171506   \n",
       "2                                38.069810   \n",
       "3                                50.987167   \n",
       "4                                97.789353   \n",
       "\n",
       "   LogicalDisk(_Total) Disk Write Bytes sec  \\\n",
       "0                              1.924988e+06   \n",
       "1                              1.497233e+06   \n",
       "2                              1.854229e+06   \n",
       "3                              1.591239e+07   \n",
       "4                              2.360930e+07   \n",
       "\n",
       "   LogicalDisk(_Total) Disk Transfers sec  \\\n",
       "0                              402.582784   \n",
       "1                              355.134332   \n",
       "2                              760.431768   \n",
       "3                              699.499954   \n",
       "4                             1184.550425   \n",
       "\n",
       "   LogicalDisk(_Total) Avg  Disk Bytes Transfer  \\\n",
       "0                                   9100.481592   \n",
       "1                                  11153.554490   \n",
       "2                                  26994.265950   \n",
       "3                                  53141.663800   \n",
       "4                                  40988.684440   \n",
       "\n",
       "   LogicalDisk(_Total) pct_ Disk Write Time  \\\n",
       "0                                 13.487612   \n",
       "1                                 15.756429   \n",
       "2                                 40.177378   \n",
       "3                                 25.906233   \n",
       "4                                 10.383619   \n",
       "\n",
       "   LogicalDisk(_Total) Avg  Disk sec Transfer  label    type  \n",
       "0                                    0.000405      0  normal  \n",
       "1                                    0.000533      0  normal  \n",
       "2                                    0.001028      0  normal  \n",
       "3                                    0.001099      0  normal  \n",
       "4                                    0.000913      0  normal  \n",
       "\n",
       "[5 rows x 127 columns]"
      ]
     },
     "execution_count": 5,
     "metadata": {},
     "output_type": "execute_result"
    }
   ],
   "source": [
    "import pandas as pd\n",
    "\n",
    "# Read the CSV file\n",
    "df = pd.read_csv('E:/MS Research/Research/Data/Processed_datasets/Processed_Windows_dataset/windows10_dataset.csv',na_values=[' '])\n",
    "df.head()"
   ]
  },
  {
   "cell_type": "code",
   "execution_count": 6,
   "metadata": {},
   "outputs": [
    {
     "name": "stdout",
     "output_type": "stream",
     "text": [
      "Number of rows: 35975\n",
      "Number of columns: 127\n"
     ]
    }
   ],
   "source": [
    "# Get the dimensions of the DataFrame\n",
    "rows, columns = df.shape\n",
    "\n",
    "# Print the dimensions\n",
    "print(\"Number of rows:\", rows)\n",
    "print(\"Number of columns:\", columns)"
   ]
  },
  {
   "cell_type": "code",
   "execution_count": 9,
   "metadata": {},
   "outputs": [
    {
     "data": {
      "text/plain": [
       "Process_IO Read Bytes_sec          1.495483\n",
       "Process_IO Read_Operations_sec     1.164698\n",
       "Process_IO Data Operations_sec     0.920083\n",
       "Process_IO Other Operations_sec    0.683808\n",
       "Process_IO Data Bytes_sec          0.678249\n",
       "Process_Page Faults_sec            0.644892\n",
       "Process_IO_Other_Bytes_sec         0.517026\n",
       "Process_pct_ User_Time             0.508687\n",
       "Process_IO_Write Operations_sec    0.428075\n",
       "Process_IO_Write_Bytes_sec         0.325226\n",
       "dtype: float64"
      ]
     },
     "execution_count": 9,
     "metadata": {},
     "output_type": "execute_result"
    }
   ],
   "source": [
    "# Calculate the percentage of missing values per column\n",
    "missing_values_percent = (df.isna().sum() / len(df)) * 100\n",
    "\n",
    "# Sort the values in descending order\n",
    "missing_values_percent = missing_values_percent.sort_values(ascending=False)\n",
    "\n",
    "# Print the result\n",
    "missing_values_percent.head(10)"
   ]
  },
  {
   "cell_type": "code",
   "execution_count": 10,
   "metadata": {},
   "outputs": [],
   "source": [
    "# Missing value is less than 1.5%, so we can drop them and use the complete case.\n",
    "\n",
    "# Remove rows with any missing values\n",
    "df = df.dropna()"
   ]
  },
  {
   "cell_type": "code",
   "execution_count": 11,
   "metadata": {},
   "outputs": [
    {
     "name": "stdout",
     "output_type": "stream",
     "text": [
      "Number of rows: 35214\n",
      "Number of columns: 127\n"
     ]
    }
   ],
   "source": [
    "# Get the dimensions of the DataFrame\n",
    "rows, columns = df.shape\n",
    "\n",
    "# Print the dimensions\n",
    "print(\"Number of rows:\", rows)\n",
    "print(\"Number of columns:\", columns)"
   ]
  },
  {
   "cell_type": "code",
   "execution_count": 12,
   "metadata": {},
   "outputs": [
    {
     "data": {
      "text/plain": [
       "Index(['Processor_pct_ C3_Time', 'Processor_pct_ C2_Time',\n",
       "       'Processor_C2_ransitions_sec', 'Processor_C3_ransitions_sec',\n",
       "       'Process_Elapsed_Time', 'Process_Creating Process ID',\n",
       "       'Process_ID Process', 'Process_Priority Base',\n",
       "       'Network_I(Intel R _82574L_GNC) Packets Received Unknown',\n",
       "       'Network_I(Intel R _82574L_GNC) Packets Outbound Errors',\n",
       "       'Network_I(Intel R _82574L_GNC) Packets Received Discarded',\n",
       "       'Network_I(Intel R _82574L_GNC) Packets Outbound Discarded',\n",
       "       'Network_I(Intel R _82574L_GNC) TCP RSC Exceptions sec',\n",
       "       'Network_I(Intel R _82574L_GNC) Output Queue Length',\n",
       "       'Network_I(Intel R _82574L_GNC) Packets Sent Non-Unicast sec',\n",
       "       'Network_I(Intel R _82574L_GNC) Packets Received Non-Unicast sec',\n",
       "       'Network_I(Intel R _82574L_GNC) TCP RSC Coalesced Packets sec',\n",
       "       'Network_I(Intel R _82574L_GNC) Offloaded Connections',\n",
       "       'Network_I(Intel R _82574L_GNC) Packets Received Errors'],\n",
       "      dtype='object')"
      ]
     },
     "execution_count": 12,
     "metadata": {},
     "output_type": "execute_result"
    }
   ],
   "source": [
    "# Identify columns with only a single unique value\n",
    "single_value_columns = df.columns[df.nunique() == 1]\n",
    "single_value_columns"
   ]
  },
  {
   "cell_type": "code",
   "execution_count": 13,
   "metadata": {},
   "outputs": [],
   "source": [
    "df = df.drop(columns=single_value_columns)"
   ]
  },
  {
   "cell_type": "code",
   "execution_count": 14,
   "metadata": {},
   "outputs": [
    {
     "name": "stdout",
     "output_type": "stream",
     "text": [
      "Number of rows: 35214\n",
      "Number of columns: 108\n"
     ]
    }
   ],
   "source": [
    "# Get the dimensions of the DataFrame after dropping unnecessary columns\n",
    "rows, columns = df.shape\n",
    "\n",
    "# Print the dimensions\n",
    "print(\"Number of rows:\", rows)\n",
    "print(\"Number of columns:\", columns)"
   ]
  },
  {
   "cell_type": "markdown",
   "metadata": {},
   "source": [
    "We removed the missing entries and remove the variables which have only a single value for all the etries or variability was zero."
   ]
  },
  {
   "cell_type": "markdown",
   "metadata": {},
   "source": [
    "# Required Libraries"
   ]
  },
  {
   "cell_type": "markdown",
   "metadata": {},
   "source": [
    "We are going to use Windows 10 system generated values to predict whether the system is under cyber attack or not !"
   ]
  },
  {
   "cell_type": "code",
   "execution_count": 15,
   "metadata": {},
   "outputs": [],
   "source": [
    "import numpy as np\n",
    "from numpy.ma.core import ceil\n",
    "from scipy.spatial import distance #distance calculation\n",
    "from sklearn.preprocessing import MinMaxScaler #normalisation\n",
    "from sklearn.model_selection import train_test_split\n",
    "from sklearn.metrics import accuracy_score #scoring\n",
    "from sklearn.metrics import confusion_matrix\n",
    "import matplotlib.pyplot as plt"
   ]
  },
  {
   "cell_type": "markdown",
   "metadata": {},
   "source": [
    "# Loading the data and EDA\n"
   ]
  },
  {
   "cell_type": "code",
   "execution_count": 16,
   "metadata": {},
   "outputs": [
    {
     "data": {
      "text/html": [
       "<div>\n",
       "<style scoped>\n",
       "    .dataframe tbody tr th:only-of-type {\n",
       "        vertical-align: middle;\n",
       "    }\n",
       "\n",
       "    .dataframe tbody tr th {\n",
       "        vertical-align: top;\n",
       "    }\n",
       "\n",
       "    .dataframe thead th {\n",
       "        text-align: right;\n",
       "    }\n",
       "</style>\n",
       "<table border=\"1\" class=\"dataframe\">\n",
       "  <thead>\n",
       "    <tr style=\"text-align: right;\">\n",
       "      <th>type</th>\n",
       "      <th>ddos</th>\n",
       "      <th>dos</th>\n",
       "      <th>injection</th>\n",
       "      <th>mitm</th>\n",
       "      <th>normal</th>\n",
       "      <th>password</th>\n",
       "      <th>scanning</th>\n",
       "      <th>xss</th>\n",
       "    </tr>\n",
       "    <tr>\n",
       "      <th>label</th>\n",
       "      <th></th>\n",
       "      <th></th>\n",
       "      <th></th>\n",
       "      <th></th>\n",
       "      <th></th>\n",
       "      <th></th>\n",
       "      <th></th>\n",
       "      <th></th>\n",
       "    </tr>\n",
       "  </thead>\n",
       "  <tbody>\n",
       "    <tr>\n",
       "      <th>0</th>\n",
       "      <td>0</td>\n",
       "      <td>0</td>\n",
       "      <td>0</td>\n",
       "      <td>0</td>\n",
       "      <td>24283</td>\n",
       "      <td>0</td>\n",
       "      <td>0</td>\n",
       "      <td>0</td>\n",
       "    </tr>\n",
       "    <tr>\n",
       "      <th>1</th>\n",
       "      <td>4539</td>\n",
       "      <td>505</td>\n",
       "      <td>606</td>\n",
       "      <td>13</td>\n",
       "      <td>0</td>\n",
       "      <td>3594</td>\n",
       "      <td>434</td>\n",
       "      <td>1240</td>\n",
       "    </tr>\n",
       "  </tbody>\n",
       "</table>\n",
       "</div>"
      ],
      "text/plain": [
       "type   ddos  dos  injection  mitm  normal  password  scanning   xss\n",
       "label                                                              \n",
       "0         0    0          0     0   24283         0         0     0\n",
       "1      4539  505        606    13       0      3594       434  1240"
      ]
     },
     "execution_count": 16,
     "metadata": {},
     "output_type": "execute_result"
    }
   ],
   "source": [
    "# Attack counts by type:\n",
    "pd.crosstab(index=df['label'], columns=df['type'])"
   ]
  },
  {
   "cell_type": "code",
   "execution_count": 17,
   "metadata": {},
   "outputs": [],
   "source": [
    "df = df.drop(columns='ts')"
   ]
  },
  {
   "cell_type": "markdown",
   "metadata": {},
   "source": [
    "# Making the data balance (Under sampling)"
   ]
  },
  {
   "cell_type": "code",
   "execution_count": 319,
   "metadata": {},
   "outputs": [],
   "source": [
    "#df = df_new"
   ]
  },
  {
   "cell_type": "code",
   "execution_count": 18,
   "metadata": {},
   "outputs": [
    {
     "data": {
      "text/plain": [
       "0    24283\n",
       "1    10931\n",
       "Name: label, dtype: int64"
      ]
     },
     "execution_count": 18,
     "metadata": {},
     "output_type": "execute_result"
    }
   ],
   "source": [
    "freq = df['label'].value_counts()\n",
    "freq"
   ]
  },
  {
   "cell_type": "code",
   "execution_count": 19,
   "metadata": {},
   "outputs": [],
   "source": [
    "def autopct_format(values):\n",
    "        def my_format(pct):\n",
    "            total = sum(values)\n",
    "            val = int(round(pct*total/100.0))\n",
    "            return '{:.1f}%\\n({v:d})'.format(pct, v=val)\n",
    "        return my_format\n",
    "\n",
    "#plt.pie(mydata,labels = mylabels, autopct=autopct_format(mydata))"
   ]
  },
  {
   "cell_type": "code",
   "execution_count": 20,
   "metadata": {},
   "outputs": [
    {
     "data": {
      "image/png": "[encoded data removed]",
      "text/plain": [
       "<Figure size 432x288 with 1 Axes>"
      ]
     },
     "metadata": {},
     "output_type": "display_data"
    }
   ],
   "source": [
    "import matplotlib.pyplot as plt\n",
    "import seaborn\n",
    "  \n",
    "# declaring data\n",
    "data = [freq[0], freq[1]]\n",
    "keys = ['Normal', 'Under Attack']\n",
    "  \n",
    "# declaring exploding pie\n",
    "explode = [0, 0.1]\n",
    "# define Seaborn color palette to use\n",
    "palette_color = seaborn.color_palette('pastel')\n",
    "  \n",
    "# plotting data on chart\n",
    "plt.pie(data, labels=keys, colors=palette_color,\n",
    "        explode=explode, autopct=autopct_format(data))\n",
    "  \n",
    "# displaying chart\n",
    "plt.show()"
   ]
  },
  {
   "cell_type": "code",
   "execution_count": 21,
   "metadata": {},
   "outputs": [
    {
     "data": {
      "text/plain": [
       "1    10931\n",
       "0    10927\n",
       "Name: label, dtype: int64"
      ]
     },
     "execution_count": 21,
     "metadata": {},
     "output_type": "execute_result"
    }
   ],
   "source": [
    "freq = df['label'].value_counts()\n",
    "delete_frac = round((freq[0] - freq[1])/freq[0],2)\n",
    "df = df.drop(df.query('label == 0').sample(frac= delete_frac).index)\n",
    "df['label'].value_counts()"
   ]
  },
  {
   "cell_type": "code",
   "execution_count": 22,
   "metadata": {},
   "outputs": [
    {
     "data": {
      "text/plain": [
       "(21858, 107)"
      ]
     },
     "execution_count": 22,
     "metadata": {},
     "output_type": "execute_result"
    }
   ],
   "source": [
    "df.shape"
   ]
  },
  {
   "cell_type": "markdown",
   "metadata": {},
   "source": [
    "# Investigating the correlation"
   ]
  },
  {
   "cell_type": "code",
   "execution_count": 23,
   "metadata": {},
   "outputs": [],
   "source": [
    "X = df.iloc[:,0:105]"
   ]
  },
  {
   "cell_type": "code",
   "execution_count": 32,
   "metadata": {},
   "outputs": [
    {
     "data": {
      "text/html": [
       "<div>\n",
       "<style scoped>\n",
       "    .dataframe tbody tr th:only-of-type {\n",
       "        vertical-align: middle;\n",
       "    }\n",
       "\n",
       "    .dataframe tbody tr th {\n",
       "        vertical-align: top;\n",
       "    }\n",
       "\n",
       "    .dataframe thead th {\n",
       "        text-align: right;\n",
       "    }\n",
       "</style>\n",
       "<table border=\"1\" class=\"dataframe\">\n",
       "  <thead>\n",
       "    <tr style=\"text-align: right;\">\n",
       "      <th></th>\n",
       "      <th>Processor_DPC_Rate</th>\n",
       "      <th>Processor_pct_ Idle_Time</th>\n",
       "      <th>Processor_pct_ Interrupt_Time</th>\n",
       "      <th>Processor_pct_ User_Time</th>\n",
       "      <th>Processor_pct_ C1_Time</th>\n",
       "      <th>Processor_pct_ Processor_Time</th>\n",
       "      <th>Processor_C1_ransitions_sec</th>\n",
       "      <th>Processor_pct_ DPC_Time</th>\n",
       "      <th>Processor_pct_ Privileged_Time</th>\n",
       "      <th>Processor_DPCs_Queued_sec</th>\n",
       "      <th>...</th>\n",
       "      <th>LogicalDisk(_Total) pct_ Disk Time</th>\n",
       "      <th>LogicalDisk(_Total) Avg  Disk Bytes Read</th>\n",
       "      <th>LogicalDisk(_Total) Avg  Disk Write Queue Length</th>\n",
       "      <th>LogicalDisk(_Total) Avg  Disk Queue Length</th>\n",
       "      <th>LogicalDisk(_Total) pct_ Disk Read Time</th>\n",
       "      <th>LogicalDisk(_Total) Disk Write Bytes sec</th>\n",
       "      <th>LogicalDisk(_Total) Disk Transfers sec</th>\n",
       "      <th>LogicalDisk(_Total) Avg  Disk Bytes Transfer</th>\n",
       "      <th>LogicalDisk(_Total) pct_ Disk Write Time</th>\n",
       "      <th>LogicalDisk(_Total) Avg  Disk sec Transfer</th>\n",
       "    </tr>\n",
       "  </thead>\n",
       "  <tbody>\n",
       "    <tr>\n",
       "      <th>Processor_DPC_Rate</th>\n",
       "      <td>1.00</td>\n",
       "      <td>-0.25</td>\n",
       "      <td>0.06</td>\n",
       "      <td>0.03</td>\n",
       "      <td>-0.25</td>\n",
       "      <td>0.20</td>\n",
       "      <td>0.69</td>\n",
       "      <td>0.44</td>\n",
       "      <td>0.33</td>\n",
       "      <td>0.77</td>\n",
       "      <td>...</td>\n",
       "      <td>0.53</td>\n",
       "      <td>0.02</td>\n",
       "      <td>0.12</td>\n",
       "      <td>0.69</td>\n",
       "      <td>0.65</td>\n",
       "      <td>0.54</td>\n",
       "      <td>0.74</td>\n",
       "      <td>-0.00</td>\n",
       "      <td>0.05</td>\n",
       "      <td>0.01</td>\n",
       "    </tr>\n",
       "    <tr>\n",
       "      <th>Processor_pct_ Idle_Time</th>\n",
       "      <td>-0.25</td>\n",
       "      <td>1.00</td>\n",
       "      <td>-0.42</td>\n",
       "      <td>-0.85</td>\n",
       "      <td>1.00</td>\n",
       "      <td>-0.99</td>\n",
       "      <td>-0.21</td>\n",
       "      <td>-0.43</td>\n",
       "      <td>-0.77</td>\n",
       "      <td>-0.31</td>\n",
       "      <td>...</td>\n",
       "      <td>-0.23</td>\n",
       "      <td>-0.20</td>\n",
       "      <td>-0.11</td>\n",
       "      <td>-0.27</td>\n",
       "      <td>-0.26</td>\n",
       "      <td>-0.33</td>\n",
       "      <td>-0.31</td>\n",
       "      <td>-0.04</td>\n",
       "      <td>-0.06</td>\n",
       "      <td>-0.10</td>\n",
       "    </tr>\n",
       "    <tr>\n",
       "      <th>Processor_pct_ Interrupt_Time</th>\n",
       "      <td>0.06</td>\n",
       "      <td>-0.42</td>\n",
       "      <td>1.00</td>\n",
       "      <td>0.19</td>\n",
       "      <td>-0.42</td>\n",
       "      <td>0.41</td>\n",
       "      <td>0.09</td>\n",
       "      <td>0.50</td>\n",
       "      <td>0.53</td>\n",
       "      <td>0.10</td>\n",
       "      <td>...</td>\n",
       "      <td>0.11</td>\n",
       "      <td>0.07</td>\n",
       "      <td>0.11</td>\n",
       "      <td>0.05</td>\n",
       "      <td>0.08</td>\n",
       "      <td>0.16</td>\n",
       "      <td>0.04</td>\n",
       "      <td>0.12</td>\n",
       "      <td>0.08</td>\n",
       "      <td>0.09</td>\n",
       "    </tr>\n",
       "    <tr>\n",
       "      <th>Processor_pct_ User_Time</th>\n",
       "      <td>0.03</td>\n",
       "      <td>-0.85</td>\n",
       "      <td>0.19</td>\n",
       "      <td>1.00</td>\n",
       "      <td>-0.85</td>\n",
       "      <td>0.87</td>\n",
       "      <td>-0.07</td>\n",
       "      <td>0.17</td>\n",
       "      <td>0.33</td>\n",
       "      <td>0.04</td>\n",
       "      <td>...</td>\n",
       "      <td>0.03</td>\n",
       "      <td>0.21</td>\n",
       "      <td>0.03</td>\n",
       "      <td>0.03</td>\n",
       "      <td>0.04</td>\n",
       "      <td>0.09</td>\n",
       "      <td>0.06</td>\n",
       "      <td>0.05</td>\n",
       "      <td>0.01</td>\n",
       "      <td>0.07</td>\n",
       "    </tr>\n",
       "    <tr>\n",
       "      <th>Processor_pct_ C1_Time</th>\n",
       "      <td>-0.25</td>\n",
       "      <td>1.00</td>\n",
       "      <td>-0.42</td>\n",
       "      <td>-0.85</td>\n",
       "      <td>1.00</td>\n",
       "      <td>-0.99</td>\n",
       "      <td>-0.21</td>\n",
       "      <td>-0.43</td>\n",
       "      <td>-0.77</td>\n",
       "      <td>-0.31</td>\n",
       "      <td>...</td>\n",
       "      <td>-0.23</td>\n",
       "      <td>-0.20</td>\n",
       "      <td>-0.11</td>\n",
       "      <td>-0.27</td>\n",
       "      <td>-0.26</td>\n",
       "      <td>-0.33</td>\n",
       "      <td>-0.31</td>\n",
       "      <td>-0.04</td>\n",
       "      <td>-0.06</td>\n",
       "      <td>-0.10</td>\n",
       "    </tr>\n",
       "    <tr>\n",
       "      <th>...</th>\n",
       "      <td>...</td>\n",
       "      <td>...</td>\n",
       "      <td>...</td>\n",
       "      <td>...</td>\n",
       "      <td>...</td>\n",
       "      <td>...</td>\n",
       "      <td>...</td>\n",
       "      <td>...</td>\n",
       "      <td>...</td>\n",
       "      <td>...</td>\n",
       "      <td>...</td>\n",
       "      <td>...</td>\n",
       "      <td>...</td>\n",
       "      <td>...</td>\n",
       "      <td>...</td>\n",
       "      <td>...</td>\n",
       "      <td>...</td>\n",
       "      <td>...</td>\n",
       "      <td>...</td>\n",
       "      <td>...</td>\n",
       "      <td>...</td>\n",
       "    </tr>\n",
       "    <tr>\n",
       "      <th>LogicalDisk(_Total) Disk Write Bytes sec</th>\n",
       "      <td>0.54</td>\n",
       "      <td>-0.33</td>\n",
       "      <td>0.16</td>\n",
       "      <td>0.09</td>\n",
       "      <td>-0.33</td>\n",
       "      <td>0.27</td>\n",
       "      <td>0.70</td>\n",
       "      <td>0.31</td>\n",
       "      <td>0.39</td>\n",
       "      <td>0.65</td>\n",
       "      <td>...</td>\n",
       "      <td>0.63</td>\n",
       "      <td>0.19</td>\n",
       "      <td>0.34</td>\n",
       "      <td>0.67</td>\n",
       "      <td>0.64</td>\n",
       "      <td>1.00</td>\n",
       "      <td>0.68</td>\n",
       "      <td>0.14</td>\n",
       "      <td>0.26</td>\n",
       "      <td>0.08</td>\n",
       "    </tr>\n",
       "    <tr>\n",
       "      <th>LogicalDisk(_Total) Disk Transfers sec</th>\n",
       "      <td>0.74</td>\n",
       "      <td>-0.31</td>\n",
       "      <td>0.04</td>\n",
       "      <td>0.06</td>\n",
       "      <td>-0.31</td>\n",
       "      <td>0.26</td>\n",
       "      <td>0.89</td>\n",
       "      <td>0.41</td>\n",
       "      <td>0.41</td>\n",
       "      <td>0.94</td>\n",
       "      <td>...</td>\n",
       "      <td>0.64</td>\n",
       "      <td>0.02</td>\n",
       "      <td>0.18</td>\n",
       "      <td>0.83</td>\n",
       "      <td>0.78</td>\n",
       "      <td>0.68</td>\n",
       "      <td>1.00</td>\n",
       "      <td>-0.03</td>\n",
       "      <td>0.08</td>\n",
       "      <td>-0.01</td>\n",
       "    </tr>\n",
       "    <tr>\n",
       "      <th>LogicalDisk(_Total) Avg  Disk Bytes Transfer</th>\n",
       "      <td>-0.00</td>\n",
       "      <td>-0.04</td>\n",
       "      <td>0.12</td>\n",
       "      <td>0.05</td>\n",
       "      <td>-0.04</td>\n",
       "      <td>0.04</td>\n",
       "      <td>0.02</td>\n",
       "      <td>0.17</td>\n",
       "      <td>0.01</td>\n",
       "      <td>0.01</td>\n",
       "      <td>...</td>\n",
       "      <td>0.01</td>\n",
       "      <td>0.21</td>\n",
       "      <td>0.04</td>\n",
       "      <td>-0.01</td>\n",
       "      <td>-0.01</td>\n",
       "      <td>0.14</td>\n",
       "      <td>-0.03</td>\n",
       "      <td>1.00</td>\n",
       "      <td>0.04</td>\n",
       "      <td>0.11</td>\n",
       "    </tr>\n",
       "    <tr>\n",
       "      <th>LogicalDisk(_Total) pct_ Disk Write Time</th>\n",
       "      <td>0.05</td>\n",
       "      <td>-0.06</td>\n",
       "      <td>0.08</td>\n",
       "      <td>0.01</td>\n",
       "      <td>-0.06</td>\n",
       "      <td>0.02</td>\n",
       "      <td>0.13</td>\n",
       "      <td>0.02</td>\n",
       "      <td>0.03</td>\n",
       "      <td>0.07</td>\n",
       "      <td>...</td>\n",
       "      <td>0.65</td>\n",
       "      <td>0.13</td>\n",
       "      <td>0.98</td>\n",
       "      <td>0.31</td>\n",
       "      <td>0.18</td>\n",
       "      <td>0.26</td>\n",
       "      <td>0.08</td>\n",
       "      <td>0.04</td>\n",
       "      <td>1.00</td>\n",
       "      <td>0.46</td>\n",
       "    </tr>\n",
       "    <tr>\n",
       "      <th>LogicalDisk(_Total) Avg  Disk sec Transfer</th>\n",
       "      <td>0.01</td>\n",
       "      <td>-0.10</td>\n",
       "      <td>0.09</td>\n",
       "      <td>0.07</td>\n",
       "      <td>-0.10</td>\n",
       "      <td>0.08</td>\n",
       "      <td>-0.02</td>\n",
       "      <td>0.05</td>\n",
       "      <td>0.07</td>\n",
       "      <td>0.01</td>\n",
       "      <td>...</td>\n",
       "      <td>0.35</td>\n",
       "      <td>0.09</td>\n",
       "      <td>0.46</td>\n",
       "      <td>0.18</td>\n",
       "      <td>0.14</td>\n",
       "      <td>0.08</td>\n",
       "      <td>-0.01</td>\n",
       "      <td>0.11</td>\n",
       "      <td>0.46</td>\n",
       "      <td>1.00</td>\n",
       "    </tr>\n",
       "  </tbody>\n",
       "</table>\n",
       "<p>105 rows × 105 columns</p>\n",
       "</div>"
      ],
      "text/plain": [
       "                                              Processor_DPC_Rate  \\\n",
       "Processor_DPC_Rate                                          1.00   \n",
       "Processor_pct_ Idle_Time                                   -0.25   \n",
       "Processor_pct_ Interrupt_Time                               0.06   \n",
       "Processor_pct_ User_Time                                    0.03   \n",
       "Processor_pct_ C1_Time                                     -0.25   \n",
       "...                                                          ...   \n",
       "LogicalDisk(_Total) Disk Write Bytes sec                    0.54   \n",
       "LogicalDisk(_Total) Disk Transfers sec                      0.74   \n",
       "LogicalDisk(_Total) Avg  Disk Bytes Transfer               -0.00   \n",
       "LogicalDisk(_Total) pct_ Disk Write Time                    0.05   \n",
       "LogicalDisk(_Total) Avg  Disk sec Transfer                  0.01   \n",
       "\n",
       "                                              Processor_pct_ Idle_Time  \\\n",
       "Processor_DPC_Rate                                               -0.25   \n",
       "Processor_pct_ Idle_Time                                          1.00   \n",
       "Processor_pct_ Interrupt_Time                                    -0.42   \n",
       "Processor_pct_ User_Time                                         -0.85   \n",
       "Processor_pct_ C1_Time                                            1.00   \n",
       "...                                                                ...   \n",
       "LogicalDisk(_Total) Disk Write Bytes sec                         -0.33   \n",
       "LogicalDisk(_Total) Disk Transfers sec                           -0.31   \n",
       "LogicalDisk(_Total) Avg  Disk Bytes Transfer                     -0.04   \n",
       "LogicalDisk(_Total) pct_ Disk Write Time                         -0.06   \n",
       "LogicalDisk(_Total) Avg  Disk sec Transfer                       -0.10   \n",
       "\n",
       "                                              Processor_pct_ Interrupt_Time  \\\n",
       "Processor_DPC_Rate                                                     0.06   \n",
       "Processor_pct_ Idle_Time                                              -0.42   \n",
       "Processor_pct_ Interrupt_Time                                          1.00   \n",
       "Processor_pct_ User_Time                                               0.19   \n",
       "Processor_pct_ C1_Time                                                -0.42   \n",
       "...                                                                     ...   \n",
       "LogicalDisk(_Total) Disk Write Bytes sec                               0.16   \n",
       "LogicalDisk(_Total) Disk Transfers sec                                 0.04   \n",
       "LogicalDisk(_Total) Avg  Disk Bytes Transfer                           0.12   \n",
       "LogicalDisk(_Total) pct_ Disk Write Time                               0.08   \n",
       "LogicalDisk(_Total) Avg  Disk sec Transfer                             0.09   \n",
       "\n",
       "                                              Processor_pct_ User_Time  \\\n",
       "Processor_DPC_Rate                                                0.03   \n",
       "Processor_pct_ Idle_Time                                         -0.85   \n",
       "Processor_pct_ Interrupt_Time                                     0.19   \n",
       "Processor_pct_ User_Time                                          1.00   \n",
       "Processor_pct_ C1_Time                                           -0.85   \n",
       "...                                                                ...   \n",
       "LogicalDisk(_Total) Disk Write Bytes sec                          0.09   \n",
       "LogicalDisk(_Total) Disk Transfers sec                            0.06   \n",
       "LogicalDisk(_Total) Avg  Disk Bytes Transfer                      0.05   \n",
       "LogicalDisk(_Total) pct_ Disk Write Time                          0.01   \n",
       "LogicalDisk(_Total) Avg  Disk sec Transfer                        0.07   \n",
       "\n",
       "                                              Processor_pct_ C1_Time  \\\n",
       "Processor_DPC_Rate                                             -0.25   \n",
       "Processor_pct_ Idle_Time                                        1.00   \n",
       "Processor_pct_ Interrupt_Time                                  -0.42   \n",
       "Processor_pct_ User_Time                                       -0.85   \n",
       "Processor_pct_ C1_Time                                          1.00   \n",
       "...                                                              ...   \n",
       "LogicalDisk(_Total) Disk Write Bytes sec                       -0.33   \n",
       "LogicalDisk(_Total) Disk Transfers sec                         -0.31   \n",
       "LogicalDisk(_Total) Avg  Disk Bytes Transfer                   -0.04   \n",
       "LogicalDisk(_Total) pct_ Disk Write Time                       -0.06   \n",
       "LogicalDisk(_Total) Avg  Disk sec Transfer                     -0.10   \n",
       "\n",
       "                                              Processor_pct_ Processor_Time  \\\n",
       "Processor_DPC_Rate                                                     0.20   \n",
       "Processor_pct_ Idle_Time                                              -0.99   \n",
       "Processor_pct_ Interrupt_Time                                          0.41   \n",
       "Processor_pct_ User_Time                                               0.87   \n",
       "Processor_pct_ C1_Time                                                -0.99   \n",
       "...                                                                     ...   \n",
       "LogicalDisk(_Total) Disk Write Bytes sec                               0.27   \n",
       "LogicalDisk(_Total) Disk Transfers sec                                 0.26   \n",
       "LogicalDisk(_Total) Avg  Disk Bytes Transfer                           0.04   \n",
       "LogicalDisk(_Total) pct_ Disk Write Time                               0.02   \n",
       "LogicalDisk(_Total) Avg  Disk sec Transfer                             0.08   \n",
       "\n",
       "                                              Processor_C1_ransitions_sec  \\\n",
       "Processor_DPC_Rate                                                   0.69   \n",
       "Processor_pct_ Idle_Time                                            -0.21   \n",
       "Processor_pct_ Interrupt_Time                                        0.09   \n",
       "Processor_pct_ User_Time                                            -0.07   \n",
       "Processor_pct_ C1_Time                                              -0.21   \n",
       "...                                                                   ...   \n",
       "LogicalDisk(_Total) Disk Write Bytes sec                             0.70   \n",
       "LogicalDisk(_Total) Disk Transfers sec                               0.89   \n",
       "LogicalDisk(_Total) Avg  Disk Bytes Transfer                         0.02   \n",
       "LogicalDisk(_Total) pct_ Disk Write Time                             0.13   \n",
       "LogicalDisk(_Total) Avg  Disk sec Transfer                          -0.02   \n",
       "\n",
       "                                              Processor_pct_ DPC_Time  \\\n",
       "Processor_DPC_Rate                                               0.44   \n",
       "Processor_pct_ Idle_Time                                        -0.43   \n",
       "Processor_pct_ Interrupt_Time                                    0.50   \n",
       "Processor_pct_ User_Time                                         0.17   \n",
       "Processor_pct_ C1_Time                                          -0.43   \n",
       "...                                                               ...   \n",
       "LogicalDisk(_Total) Disk Write Bytes sec                         0.31   \n",
       "LogicalDisk(_Total) Disk Transfers sec                           0.41   \n",
       "LogicalDisk(_Total) Avg  Disk Bytes Transfer                     0.17   \n",
       "LogicalDisk(_Total) pct_ Disk Write Time                         0.02   \n",
       "LogicalDisk(_Total) Avg  Disk sec Transfer                       0.05   \n",
       "\n",
       "                                              Processor_pct_ Privileged_Time  \\\n",
       "Processor_DPC_Rate                                                      0.33   \n",
       "Processor_pct_ Idle_Time                                               -0.77   \n",
       "Processor_pct_ Interrupt_Time                                           0.53   \n",
       "Processor_pct_ User_Time                                                0.33   \n",
       "Processor_pct_ C1_Time                                                 -0.77   \n",
       "...                                                                      ...   \n",
       "LogicalDisk(_Total) Disk Write Bytes sec                                0.39   \n",
       "LogicalDisk(_Total) Disk Transfers sec                                  0.41   \n",
       "LogicalDisk(_Total) Avg  Disk Bytes Transfer                            0.01   \n",
       "LogicalDisk(_Total) pct_ Disk Write Time                                0.03   \n",
       "LogicalDisk(_Total) Avg  Disk sec Transfer                              0.07   \n",
       "\n",
       "                                              Processor_DPCs_Queued_sec  ...  \\\n",
       "Processor_DPC_Rate                                                 0.77  ...   \n",
       "Processor_pct_ Idle_Time                                          -0.31  ...   \n",
       "Processor_pct_ Interrupt_Time                                      0.10  ...   \n",
       "Processor_pct_ User_Time                                           0.04  ...   \n",
       "Processor_pct_ C1_Time                                            -0.31  ...   \n",
       "...                                                                 ...  ...   \n",
       "LogicalDisk(_Total) Disk Write Bytes sec                           0.65  ...   \n",
       "LogicalDisk(_Total) Disk Transfers sec                             0.94  ...   \n",
       "LogicalDisk(_Total) Avg  Disk Bytes Transfer                       0.01  ...   \n",
       "LogicalDisk(_Total) pct_ Disk Write Time                           0.07  ...   \n",
       "LogicalDisk(_Total) Avg  Disk sec Transfer                         0.01  ...   \n",
       "\n",
       "                                              LogicalDisk(_Total) pct_ Disk Time  \\\n",
       "Processor_DPC_Rate                                                          0.53   \n",
       "Processor_pct_ Idle_Time                                                   -0.23   \n",
       "Processor_pct_ Interrupt_Time                                               0.11   \n",
       "Processor_pct_ User_Time                                                    0.03   \n",
       "Processor_pct_ C1_Time                                                     -0.23   \n",
       "...                                                                          ...   \n",
       "LogicalDisk(_Total) Disk Write Bytes sec                                    0.63   \n",
       "LogicalDisk(_Total) Disk Transfers sec                                      0.64   \n",
       "LogicalDisk(_Total) Avg  Disk Bytes Transfer                                0.01   \n",
       "LogicalDisk(_Total) pct_ Disk Write Time                                    0.65   \n",
       "LogicalDisk(_Total) Avg  Disk sec Transfer                                  0.35   \n",
       "\n",
       "                                              LogicalDisk(_Total) Avg  Disk Bytes Read  \\\n",
       "Processor_DPC_Rate                                                                0.02   \n",
       "Processor_pct_ Idle_Time                                                         -0.20   \n",
       "Processor_pct_ Interrupt_Time                                                     0.07   \n",
       "Processor_pct_ User_Time                                                          0.21   \n",
       "Processor_pct_ C1_Time                                                           -0.20   \n",
       "...                                                                                ...   \n",
       "LogicalDisk(_Total) Disk Write Bytes sec                                          0.19   \n",
       "LogicalDisk(_Total) Disk Transfers sec                                            0.02   \n",
       "LogicalDisk(_Total) Avg  Disk Bytes Transfer                                      0.21   \n",
       "LogicalDisk(_Total) pct_ Disk Write Time                                          0.13   \n",
       "LogicalDisk(_Total) Avg  Disk sec Transfer                                        0.09   \n",
       "\n",
       "                                              LogicalDisk(_Total) Avg  Disk Write Queue Length  \\\n",
       "Processor_DPC_Rate                                                                        0.12   \n",
       "Processor_pct_ Idle_Time                                                                 -0.11   \n",
       "Processor_pct_ Interrupt_Time                                                             0.11   \n",
       "Processor_pct_ User_Time                                                                  0.03   \n",
       "Processor_pct_ C1_Time                                                                   -0.11   \n",
       "...                                                                                        ...   \n",
       "LogicalDisk(_Total) Disk Write Bytes sec                                                  0.34   \n",
       "LogicalDisk(_Total) Disk Transfers sec                                                    0.18   \n",
       "LogicalDisk(_Total) Avg  Disk Bytes Transfer                                              0.04   \n",
       "LogicalDisk(_Total) pct_ Disk Write Time                                                  0.98   \n",
       "LogicalDisk(_Total) Avg  Disk sec Transfer                                                0.46   \n",
       "\n",
       "                                              LogicalDisk(_Total) Avg  Disk Queue Length  \\\n",
       "Processor_DPC_Rate                                                                  0.69   \n",
       "Processor_pct_ Idle_Time                                                           -0.27   \n",
       "Processor_pct_ Interrupt_Time                                                       0.05   \n",
       "Processor_pct_ User_Time                                                            0.03   \n",
       "Processor_pct_ C1_Time                                                             -0.27   \n",
       "...                                                                                  ...   \n",
       "LogicalDisk(_Total) Disk Write Bytes sec                                            0.67   \n",
       "LogicalDisk(_Total) Disk Transfers sec                                              0.83   \n",
       "LogicalDisk(_Total) Avg  Disk Bytes Transfer                                       -0.01   \n",
       "LogicalDisk(_Total) pct_ Disk Write Time                                            0.31   \n",
       "LogicalDisk(_Total) Avg  Disk sec Transfer                                          0.18   \n",
       "\n",
       "                                              LogicalDisk(_Total) pct_ Disk Read Time  \\\n",
       "Processor_DPC_Rate                                                               0.65   \n",
       "Processor_pct_ Idle_Time                                                        -0.26   \n",
       "Processor_pct_ Interrupt_Time                                                    0.08   \n",
       "Processor_pct_ User_Time                                                         0.04   \n",
       "Processor_pct_ C1_Time                                                          -0.26   \n",
       "...                                                                               ...   \n",
       "LogicalDisk(_Total) Disk Write Bytes sec                                         0.64   \n",
       "LogicalDisk(_Total) Disk Transfers sec                                           0.78   \n",
       "LogicalDisk(_Total) Avg  Disk Bytes Transfer                                    -0.01   \n",
       "LogicalDisk(_Total) pct_ Disk Write Time                                         0.18   \n",
       "LogicalDisk(_Total) Avg  Disk sec Transfer                                       0.14   \n",
       "\n",
       "                                              LogicalDisk(_Total) Disk Write Bytes sec  \\\n",
       "Processor_DPC_Rate                                                                0.54   \n",
       "Processor_pct_ Idle_Time                                                         -0.33   \n",
       "Processor_pct_ Interrupt_Time                                                     0.16   \n",
       "Processor_pct_ User_Time                                                          0.09   \n",
       "Processor_pct_ C1_Time                                                           -0.33   \n",
       "...                                                                                ...   \n",
       "LogicalDisk(_Total) Disk Write Bytes sec                                          1.00   \n",
       "LogicalDisk(_Total) Disk Transfers sec                                            0.68   \n",
       "LogicalDisk(_Total) Avg  Disk Bytes Transfer                                      0.14   \n",
       "LogicalDisk(_Total) pct_ Disk Write Time                                          0.26   \n",
       "LogicalDisk(_Total) Avg  Disk sec Transfer                                        0.08   \n",
       "\n",
       "                                              LogicalDisk(_Total) Disk Transfers sec  \\\n",
       "Processor_DPC_Rate                                                              0.74   \n",
       "Processor_pct_ Idle_Time                                                       -0.31   \n",
       "Processor_pct_ Interrupt_Time                                                   0.04   \n",
       "Processor_pct_ User_Time                                                        0.06   \n",
       "Processor_pct_ C1_Time                                                         -0.31   \n",
       "...                                                                              ...   \n",
       "LogicalDisk(_Total) Disk Write Bytes sec                                        0.68   \n",
       "LogicalDisk(_Total) Disk Transfers sec                                          1.00   \n",
       "LogicalDisk(_Total) Avg  Disk Bytes Transfer                                   -0.03   \n",
       "LogicalDisk(_Total) pct_ Disk Write Time                                        0.08   \n",
       "LogicalDisk(_Total) Avg  Disk sec Transfer                                     -0.01   \n",
       "\n",
       "                                              LogicalDisk(_Total) Avg  Disk Bytes Transfer  \\\n",
       "Processor_DPC_Rate                                                                   -0.00   \n",
       "Processor_pct_ Idle_Time                                                             -0.04   \n",
       "Processor_pct_ Interrupt_Time                                                         0.12   \n",
       "Processor_pct_ User_Time                                                              0.05   \n",
       "Processor_pct_ C1_Time                                                               -0.04   \n",
       "...                                                                                    ...   \n",
       "LogicalDisk(_Total) Disk Write Bytes sec                                              0.14   \n",
       "LogicalDisk(_Total) Disk Transfers sec                                               -0.03   \n",
       "LogicalDisk(_Total) Avg  Disk Bytes Transfer                                          1.00   \n",
       "LogicalDisk(_Total) pct_ Disk Write Time                                              0.04   \n",
       "LogicalDisk(_Total) Avg  Disk sec Transfer                                            0.11   \n",
       "\n",
       "                                              LogicalDisk(_Total) pct_ Disk Write Time  \\\n",
       "Processor_DPC_Rate                                                                0.05   \n",
       "Processor_pct_ Idle_Time                                                         -0.06   \n",
       "Processor_pct_ Interrupt_Time                                                     0.08   \n",
       "Processor_pct_ User_Time                                                          0.01   \n",
       "Processor_pct_ C1_Time                                                           -0.06   \n",
       "...                                                                                ...   \n",
       "LogicalDisk(_Total) Disk Write Bytes sec                                          0.26   \n",
       "LogicalDisk(_Total) Disk Transfers sec                                            0.08   \n",
       "LogicalDisk(_Total) Avg  Disk Bytes Transfer                                      0.04   \n",
       "LogicalDisk(_Total) pct_ Disk Write Time                                          1.00   \n",
       "LogicalDisk(_Total) Avg  Disk sec Transfer                                        0.46   \n",
       "\n",
       "                                              LogicalDisk(_Total) Avg  Disk sec Transfer  \n",
       "Processor_DPC_Rate                                                                  0.01  \n",
       "Processor_pct_ Idle_Time                                                           -0.10  \n",
       "Processor_pct_ Interrupt_Time                                                       0.09  \n",
       "Processor_pct_ User_Time                                                            0.07  \n",
       "Processor_pct_ C1_Time                                                             -0.10  \n",
       "...                                                                                  ...  \n",
       "LogicalDisk(_Total) Disk Write Bytes sec                                            0.08  \n",
       "LogicalDisk(_Total) Disk Transfers sec                                             -0.01  \n",
       "LogicalDisk(_Total) Avg  Disk Bytes Transfer                                        0.11  \n",
       "LogicalDisk(_Total) pct_ Disk Write Time                                            0.46  \n",
       "LogicalDisk(_Total) Avg  Disk sec Transfer                                          1.00  \n",
       "\n",
       "[105 rows x 105 columns]"
      ]
     },
     "execution_count": 32,
     "metadata": {},
     "output_type": "execute_result"
    }
   ],
   "source": [
    "cormat = X.corr()\n",
    "round(cormat,2)"
   ]
  },
  {
   "cell_type": "code",
   "execution_count": 33,
   "metadata": {},
   "outputs": [
    {
     "data": {
      "image/png": "[encoded data removed]",
      "text/plain": [
       "<Figure size 432x288 with 2 Axes>"
      ]
     },
     "metadata": {
      "needs_background": "light"
     },
     "output_type": "display_data"
    }
   ],
   "source": [
    "import seaborn as sns\n",
    "mask = np.triu(np.ones_like(X.corr().abs(), dtype=np.bool))\n",
    "\n",
    "heatmap = sns.heatmap(X.corr().abs(),annot=False,cmap='BrBG')\n",
    "heatmap.set_title('Correlation between independent variables', fontdict={'fontsize':12}, pad=10);"
   ]
  },
  {
   "cell_type": "code",
   "execution_count": 34,
   "metadata": {},
   "outputs": [
    {
     "data": {
      "text/html": [
       "<div>\n",
       "<style scoped>\n",
       "    .dataframe tbody tr th:only-of-type {\n",
       "        vertical-align: middle;\n",
       "    }\n",
       "\n",
       "    .dataframe tbody tr th {\n",
       "        vertical-align: top;\n",
       "    }\n",
       "\n",
       "    .dataframe thead th {\n",
       "        text-align: right;\n",
       "    }\n",
       "</style>\n",
       "<table border=\"1\" class=\"dataframe\">\n",
       "  <thead>\n",
       "    <tr style=\"text-align: right;\">\n",
       "      <th></th>\n",
       "      <th>FEATURE_1</th>\n",
       "      <th>FEATURE_2</th>\n",
       "      <th>CORRELATION</th>\n",
       "    </tr>\n",
       "  </thead>\n",
       "  <tbody>\n",
       "    <tr>\n",
       "      <th>0</th>\n",
       "      <td>Processor_DPC_Rate</td>\n",
       "      <td>Processor_DPC_Rate</td>\n",
       "      <td>1.000000</td>\n",
       "    </tr>\n",
       "    <tr>\n",
       "      <th>1</th>\n",
       "      <td>Processor_DPC_Rate</td>\n",
       "      <td>Processor_pct_ Idle_Time</td>\n",
       "      <td>0.249900</td>\n",
       "    </tr>\n",
       "    <tr>\n",
       "      <th>2</th>\n",
       "      <td>Processor_DPC_Rate</td>\n",
       "      <td>Processor_pct_ Interrupt_Time</td>\n",
       "      <td>0.062788</td>\n",
       "    </tr>\n",
       "    <tr>\n",
       "      <th>3</th>\n",
       "      <td>Processor_DPC_Rate</td>\n",
       "      <td>Processor_pct_ User_Time</td>\n",
       "      <td>0.033702</td>\n",
       "    </tr>\n",
       "    <tr>\n",
       "      <th>4</th>\n",
       "      <td>Processor_DPC_Rate</td>\n",
       "      <td>Processor_pct_ C1_Time</td>\n",
       "      <td>0.249900</td>\n",
       "    </tr>\n",
       "  </tbody>\n",
       "</table>\n",
       "</div>"
      ],
      "text/plain": [
       "            FEATURE_1                      FEATURE_2  CORRELATION\n",
       "0  Processor_DPC_Rate             Processor_DPC_Rate     1.000000\n",
       "1  Processor_DPC_Rate       Processor_pct_ Idle_Time     0.249900\n",
       "2  Processor_DPC_Rate  Processor_pct_ Interrupt_Time     0.062788\n",
       "3  Processor_DPC_Rate       Processor_pct_ User_Time     0.033702\n",
       "4  Processor_DPC_Rate         Processor_pct_ C1_Time     0.249900"
      ]
     },
     "execution_count": 34,
     "metadata": {},
     "output_type": "execute_result"
    }
   ],
   "source": [
    "# calculate the correlation matrix and reshape\n",
    "df_corr = X.corr().abs().stack().reset_index()\n",
    "\n",
    "# rename the columns\n",
    "df_corr.columns = ['FEATURE_1', 'FEATURE_2', 'CORRELATION']\n",
    "df_corr.head()"
   ]
  },
  {
   "cell_type": "code",
   "execution_count": 35,
   "metadata": {},
   "outputs": [],
   "source": [
    "df_corr = df_corr[df_corr['FEATURE_1'] != df_corr['FEATURE_2']]"
   ]
  },
  {
   "cell_type": "code",
   "execution_count": 36,
   "metadata": {},
   "outputs": [],
   "source": [
    "df_corr_perfect = df_corr[df_corr.CORRELATION == 1]"
   ]
  },
  {
   "cell_type": "code",
   "execution_count": 37,
   "metadata": {},
   "outputs": [
    {
     "data": {
      "text/html": [
       "<div>\n",
       "<style scoped>\n",
       "    .dataframe tbody tr th:only-of-type {\n",
       "        vertical-align: middle;\n",
       "    }\n",
       "\n",
       "    .dataframe tbody tr th {\n",
       "        vertical-align: top;\n",
       "    }\n",
       "\n",
       "    .dataframe thead th {\n",
       "        text-align: right;\n",
       "    }\n",
       "</style>\n",
       "<table border=\"1\" class=\"dataframe\">\n",
       "  <thead>\n",
       "    <tr style=\"text-align: right;\">\n",
       "      <th></th>\n",
       "      <th>FEATURE_1</th>\n",
       "      <th>FEATURE_2</th>\n",
       "      <th>CORRELATION</th>\n",
       "    </tr>\n",
       "  </thead>\n",
       "  <tbody>\n",
       "    <tr>\n",
       "      <th>109</th>\n",
       "      <td>Processor_pct_ Idle_Time</td>\n",
       "      <td>Processor_pct_ C1_Time</td>\n",
       "      <td>1.0</td>\n",
       "    </tr>\n",
       "    <tr>\n",
       "      <th>421</th>\n",
       "      <td>Processor_pct_ C1_Time</td>\n",
       "      <td>Processor_pct_ Idle_Time</td>\n",
       "      <td>1.0</td>\n",
       "    </tr>\n",
       "    <tr>\n",
       "      <th>1701</th>\n",
       "      <td>Process_Page_File Bytes</td>\n",
       "      <td>Process_Private_Bytes</td>\n",
       "      <td>1.0</td>\n",
       "    </tr>\n",
       "    <tr>\n",
       "      <th>2221</th>\n",
       "      <td>Process_Private_Bytes</td>\n",
       "      <td>Process_Page_File Bytes</td>\n",
       "      <td>1.0</td>\n",
       "    </tr>\n",
       "    <tr>\n",
       "      <th>4139</th>\n",
       "      <td>Network_I(Intel R _82574L_GNC) Packets Sent Un...</td>\n",
       "      <td>Network_I(Intel R _82574L_GNC) Packets Sent sec</td>\n",
       "      <td>1.0</td>\n",
       "    </tr>\n",
       "    <tr>\n",
       "      <th>4245</th>\n",
       "      <td>Network_I(Intel R _82574L_GNC) Packets Receive...</td>\n",
       "      <td>Network_I(Intel R _82574L_GNC) Packets Receive...</td>\n",
       "      <td>1.0</td>\n",
       "    </tr>\n",
       "    <tr>\n",
       "      <th>4659</th>\n",
       "      <td>Network_I(Intel R _82574L_GNC) Packets Sent sec</td>\n",
       "      <td>Network_I(Intel R _82574L_GNC) Packets Sent Un...</td>\n",
       "      <td>1.0</td>\n",
       "    </tr>\n",
       "    <tr>\n",
       "      <th>4765</th>\n",
       "      <td>Network_I(Intel R _82574L_GNC) Packets Receive...</td>\n",
       "      <td>Network_I(Intel R _82574L_GNC) Packets Receive...</td>\n",
       "      <td>1.0</td>\n",
       "    </tr>\n",
       "    <tr>\n",
       "      <th>5306</th>\n",
       "      <td>Memory Available Bytes</td>\n",
       "      <td>Memory Available KBytes</td>\n",
       "      <td>1.0</td>\n",
       "    </tr>\n",
       "    <tr>\n",
       "      <th>5930</th>\n",
       "      <td>Memory Available KBytes</td>\n",
       "      <td>Memory Available Bytes</td>\n",
       "      <td>1.0</td>\n",
       "    </tr>\n",
       "  </tbody>\n",
       "</table>\n",
       "</div>"
      ],
      "text/plain": [
       "                                              FEATURE_1  \\\n",
       "109                            Processor_pct_ Idle_Time   \n",
       "421                              Processor_pct_ C1_Time   \n",
       "1701                            Process_Page_File Bytes   \n",
       "2221                              Process_Private_Bytes   \n",
       "4139  Network_I(Intel R _82574L_GNC) Packets Sent Un...   \n",
       "4245  Network_I(Intel R _82574L_GNC) Packets Receive...   \n",
       "4659    Network_I(Intel R _82574L_GNC) Packets Sent sec   \n",
       "4765  Network_I(Intel R _82574L_GNC) Packets Receive...   \n",
       "5306                             Memory Available Bytes   \n",
       "5930                            Memory Available KBytes   \n",
       "\n",
       "                                              FEATURE_2  CORRELATION  \n",
       "109                              Processor_pct_ C1_Time          1.0  \n",
       "421                            Processor_pct_ Idle_Time          1.0  \n",
       "1701                              Process_Private_Bytes          1.0  \n",
       "2221                            Process_Page_File Bytes          1.0  \n",
       "4139    Network_I(Intel R _82574L_GNC) Packets Sent sec          1.0  \n",
       "4245  Network_I(Intel R _82574L_GNC) Packets Receive...          1.0  \n",
       "4659  Network_I(Intel R _82574L_GNC) Packets Sent Un...          1.0  \n",
       "4765  Network_I(Intel R _82574L_GNC) Packets Receive...          1.0  \n",
       "5306                            Memory Available KBytes          1.0  \n",
       "5930                             Memory Available Bytes          1.0  "
      ]
     },
     "execution_count": 37,
     "metadata": {},
     "output_type": "execute_result"
    }
   ],
   "source": [
    "df_corr_perfect"
   ]
  },
  {
   "cell_type": "code",
   "execution_count": 38,
   "metadata": {},
   "outputs": [
    {
     "data": {
      "text/html": [
       "<div>\n",
       "<style scoped>\n",
       "    .dataframe tbody tr th:only-of-type {\n",
       "        vertical-align: middle;\n",
       "    }\n",
       "\n",
       "    .dataframe tbody tr th {\n",
       "        vertical-align: top;\n",
       "    }\n",
       "\n",
       "    .dataframe thead th {\n",
       "        text-align: right;\n",
       "    }\n",
       "</style>\n",
       "<table border=\"1\" class=\"dataframe\">\n",
       "  <thead>\n",
       "    <tr style=\"text-align: right;\">\n",
       "      <th></th>\n",
       "      <th>FEATURE_1</th>\n",
       "      <th>FEATURE_2</th>\n",
       "      <th>CORRELATION</th>\n",
       "    </tr>\n",
       "  </thead>\n",
       "  <tbody>\n",
       "    <tr>\n",
       "      <th>1</th>\n",
       "      <td>Processor_pct_ C1_Time</td>\n",
       "      <td>Processor_pct_ Idle_Time</td>\n",
       "      <td>1.0</td>\n",
       "    </tr>\n",
       "    <tr>\n",
       "      <th>3</th>\n",
       "      <td>Process_Private_Bytes</td>\n",
       "      <td>Process_Page_File Bytes</td>\n",
       "      <td>1.0</td>\n",
       "    </tr>\n",
       "    <tr>\n",
       "      <th>5</th>\n",
       "      <td>Network_I(Intel R _82574L_GNC) Packets Receive...</td>\n",
       "      <td>Network_I(Intel R _82574L_GNC) Packets Receive...</td>\n",
       "      <td>1.0</td>\n",
       "    </tr>\n",
       "    <tr>\n",
       "      <th>7</th>\n",
       "      <td>Network_I(Intel R _82574L_GNC) Packets Receive...</td>\n",
       "      <td>Network_I(Intel R _82574L_GNC) Packets Receive...</td>\n",
       "      <td>1.0</td>\n",
       "    </tr>\n",
       "    <tr>\n",
       "      <th>9</th>\n",
       "      <td>Memory Available KBytes</td>\n",
       "      <td>Memory Available Bytes</td>\n",
       "      <td>1.0</td>\n",
       "    </tr>\n",
       "  </tbody>\n",
       "</table>\n",
       "</div>"
      ],
      "text/plain": [
       "                                           FEATURE_1  \\\n",
       "1                             Processor_pct_ C1_Time   \n",
       "3                              Process_Private_Bytes   \n",
       "5  Network_I(Intel R _82574L_GNC) Packets Receive...   \n",
       "7  Network_I(Intel R _82574L_GNC) Packets Receive...   \n",
       "9                            Memory Available KBytes   \n",
       "\n",
       "                                           FEATURE_2  CORRELATION  \n",
       "1                           Processor_pct_ Idle_Time          1.0  \n",
       "3                            Process_Page_File Bytes          1.0  \n",
       "5  Network_I(Intel R _82574L_GNC) Packets Receive...          1.0  \n",
       "7  Network_I(Intel R _82574L_GNC) Packets Receive...          1.0  \n",
       "9                             Memory Available Bytes          1.0  "
      ]
     },
     "execution_count": 38,
     "metadata": {},
     "output_type": "execute_result"
    }
   ],
   "source": [
    "# Relabel the row numbers\n",
    "df_corr_perfect.reset_index(drop=True, inplace=True)\n",
    "\n",
    "# Delete even rows\n",
    "df_corr_perfect = df_corr_perfect[df_corr_perfect.index % 2 != 0]\n",
    "df_corr_perfect\n"
   ]
  },
  {
   "cell_type": "code",
   "execution_count": 39,
   "metadata": {},
   "outputs": [],
   "source": [
    "lst1 = df_corr_perfect.FEATURE_1\n",
    "remove_var = list(set(lst1))"
   ]
  },
  {
   "cell_type": "code",
   "execution_count": 40,
   "metadata": {},
   "outputs": [],
   "source": [
    "df = df.drop(remove_var, axis=1)"
   ]
  },
  {
   "cell_type": "code",
   "execution_count": 41,
   "metadata": {},
   "outputs": [
    {
     "data": {
      "text/plain": [
       "(21858, 102)"
      ]
     },
     "execution_count": 41,
     "metadata": {},
     "output_type": "execute_result"
    }
   ],
   "source": [
    "df.shape"
   ]
  },
  {
   "cell_type": "code",
   "execution_count": 42,
   "metadata": {},
   "outputs": [
    {
     "data": {
      "text/html": [
       "<div>\n",
       "<style scoped>\n",
       "    .dataframe tbody tr th:only-of-type {\n",
       "        vertical-align: middle;\n",
       "    }\n",
       "\n",
       "    .dataframe tbody tr th {\n",
       "        vertical-align: top;\n",
       "    }\n",
       "\n",
       "    .dataframe thead th {\n",
       "        text-align: right;\n",
       "    }\n",
       "</style>\n",
       "<table border=\"1\" class=\"dataframe\">\n",
       "  <thead>\n",
       "    <tr style=\"text-align: right;\">\n",
       "      <th></th>\n",
       "      <th>Processor_DPC_Rate</th>\n",
       "      <th>Processor_pct_ Idle_Time</th>\n",
       "      <th>Processor_pct_ Interrupt_Time</th>\n",
       "      <th>Processor_pct_ User_Time</th>\n",
       "      <th>Processor_pct_ Processor_Time</th>\n",
       "      <th>Processor_C1_ransitions_sec</th>\n",
       "      <th>Processor_pct_ DPC_Time</th>\n",
       "      <th>Processor_pct_ Privileged_Time</th>\n",
       "      <th>Processor_DPCs_Queued_sec</th>\n",
       "      <th>Processor_Interrupts_sec</th>\n",
       "      <th>...</th>\n",
       "      <th>LogicalDisk(_Total) Avg  Disk Write Queue Length</th>\n",
       "      <th>LogicalDisk(_Total) Avg  Disk Queue Length</th>\n",
       "      <th>LogicalDisk(_Total) pct_ Disk Read Time</th>\n",
       "      <th>LogicalDisk(_Total) Disk Write Bytes sec</th>\n",
       "      <th>LogicalDisk(_Total) Disk Transfers sec</th>\n",
       "      <th>LogicalDisk(_Total) Avg  Disk Bytes Transfer</th>\n",
       "      <th>LogicalDisk(_Total) pct_ Disk Write Time</th>\n",
       "      <th>LogicalDisk(_Total) Avg  Disk sec Transfer</th>\n",
       "      <th>label</th>\n",
       "      <th>type</th>\n",
       "    </tr>\n",
       "  </thead>\n",
       "  <tbody>\n",
       "    <tr>\n",
       "      <th>3</th>\n",
       "      <td>12</td>\n",
       "      <td>18.224375</td>\n",
       "      <td>1.097192</td>\n",
       "      <td>47.806219</td>\n",
       "      <td>79.545208</td>\n",
       "      <td>736.622011</td>\n",
       "      <td>0.313483</td>\n",
       "      <td>31.740194</td>\n",
       "      <td>894.340589</td>\n",
       "      <td>6617.558513</td>\n",
       "      <td>...</td>\n",
       "      <td>0.259062</td>\n",
       "      <td>0.768934</td>\n",
       "      <td>50.987167</td>\n",
       "      <td>1.591239e+07</td>\n",
       "      <td>699.499954</td>\n",
       "      <td>53141.66380</td>\n",
       "      <td>25.906233</td>\n",
       "      <td>0.001099</td>\n",
       "      <td>0</td>\n",
       "      <td>normal</td>\n",
       "    </tr>\n",
       "    <tr>\n",
       "      <th>4</th>\n",
       "      <td>12</td>\n",
       "      <td>14.861187</td>\n",
       "      <td>1.562431</td>\n",
       "      <td>41.873151</td>\n",
       "      <td>82.735137</td>\n",
       "      <td>896.108598</td>\n",
       "      <td>0.703094</td>\n",
       "      <td>40.857571</td>\n",
       "      <td>1381.842235</td>\n",
       "      <td>7302.095730</td>\n",
       "      <td>...</td>\n",
       "      <td>0.103836</td>\n",
       "      <td>1.081730</td>\n",
       "      <td>97.789353</td>\n",
       "      <td>2.360930e+07</td>\n",
       "      <td>1184.550425</td>\n",
       "      <td>40988.68444</td>\n",
       "      <td>10.383619</td>\n",
       "      <td>0.000913</td>\n",
       "      <td>0</td>\n",
       "      <td>normal</td>\n",
       "    </tr>\n",
       "    <tr>\n",
       "      <th>8</th>\n",
       "      <td>3</td>\n",
       "      <td>23.961375</td>\n",
       "      <td>0.624038</td>\n",
       "      <td>39.626426</td>\n",
       "      <td>72.854338</td>\n",
       "      <td>2141.205491</td>\n",
       "      <td>0.234014</td>\n",
       "      <td>33.230035</td>\n",
       "      <td>639.116640</td>\n",
       "      <td>5112.134350</td>\n",
       "      <td>...</td>\n",
       "      <td>0.098541</td>\n",
       "      <td>0.251544</td>\n",
       "      <td>15.300358</td>\n",
       "      <td>1.462362e+07</td>\n",
       "      <td>439.024507</td>\n",
       "      <td>65097.94132</td>\n",
       "      <td>9.854080</td>\n",
       "      <td>0.000573</td>\n",
       "      <td>0</td>\n",
       "      <td>normal</td>\n",
       "    </tr>\n",
       "    <tr>\n",
       "      <th>9</th>\n",
       "      <td>3</td>\n",
       "      <td>61.473132</td>\n",
       "      <td>0.704204</td>\n",
       "      <td>21.047862</td>\n",
       "      <td>36.308699</td>\n",
       "      <td>2936.251094</td>\n",
       "      <td>0.234735</td>\n",
       "      <td>15.257744</td>\n",
       "      <td>2955.981003</td>\n",
       "      <td>3748.983123</td>\n",
       "      <td>...</td>\n",
       "      <td>0.004243</td>\n",
       "      <td>0.740462</td>\n",
       "      <td>73.621908</td>\n",
       "      <td>3.435608e+03</td>\n",
       "      <td>2808.056763</td>\n",
       "      <td>5065.30851</td>\n",
       "      <td>0.424339</td>\n",
       "      <td>0.000264</td>\n",
       "      <td>0</td>\n",
       "      <td>normal</td>\n",
       "    </tr>\n",
       "    <tr>\n",
       "      <th>10</th>\n",
       "      <td>52</td>\n",
       "      <td>56.220035</td>\n",
       "      <td>0.780054</td>\n",
       "      <td>23.323609</td>\n",
       "      <td>37.127663</td>\n",
       "      <td>1427.130982</td>\n",
       "      <td>0.078005</td>\n",
       "      <td>13.806952</td>\n",
       "      <td>1280.054515</td>\n",
       "      <td>2352.824071</td>\n",
       "      <td>...</td>\n",
       "      <td>0.020561</td>\n",
       "      <td>0.648671</td>\n",
       "      <td>62.811001</td>\n",
       "      <td>6.107684e+06</td>\n",
       "      <td>1128.484878</td>\n",
       "      <td>11238.99345</td>\n",
       "      <td>2.056146</td>\n",
       "      <td>0.000575</td>\n",
       "      <td>0</td>\n",
       "      <td>normal</td>\n",
       "    </tr>\n",
       "  </tbody>\n",
       "</table>\n",
       "<p>5 rows × 102 columns</p>\n",
       "</div>"
      ],
      "text/plain": [
       "    Processor_DPC_Rate  Processor_pct_ Idle_Time  \\\n",
       "3                   12                 18.224375   \n",
       "4                   12                 14.861187   \n",
       "8                    3                 23.961375   \n",
       "9                    3                 61.473132   \n",
       "10                  52                 56.220035   \n",
       "\n",
       "    Processor_pct_ Interrupt_Time  Processor_pct_ User_Time  \\\n",
       "3                        1.097192                 47.806219   \n",
       "4                        1.562431                 41.873151   \n",
       "8                        0.624038                 39.626426   \n",
       "9                        0.704204                 21.047862   \n",
       "10                       0.780054                 23.323609   \n",
       "\n",
       "    Processor_pct_ Processor_Time  Processor_C1_ransitions_sec  \\\n",
       "3                       79.545208                   736.622011   \n",
       "4                       82.735137                   896.108598   \n",
       "8                       72.854338                  2141.205491   \n",
       "9                       36.308699                  2936.251094   \n",
       "10                      37.127663                  1427.130982   \n",
       "\n",
       "    Processor_pct_ DPC_Time  Processor_pct_ Privileged_Time  \\\n",
       "3                  0.313483                       31.740194   \n",
       "4                  0.703094                       40.857571   \n",
       "8                  0.234014                       33.230035   \n",
       "9                  0.234735                       15.257744   \n",
       "10                 0.078005                       13.806952   \n",
       "\n",
       "    Processor_DPCs_Queued_sec  Processor_Interrupts_sec  ...  \\\n",
       "3                  894.340589               6617.558513  ...   \n",
       "4                 1381.842235               7302.095730  ...   \n",
       "8                  639.116640               5112.134350  ...   \n",
       "9                 2955.981003               3748.983123  ...   \n",
       "10                1280.054515               2352.824071  ...   \n",
       "\n",
       "    LogicalDisk(_Total) Avg  Disk Write Queue Length  \\\n",
       "3                                           0.259062   \n",
       "4                                           0.103836   \n",
       "8                                           0.098541   \n",
       "9                                           0.004243   \n",
       "10                                          0.020561   \n",
       "\n",
       "    LogicalDisk(_Total) Avg  Disk Queue Length  \\\n",
       "3                                     0.768934   \n",
       "4                                     1.081730   \n",
       "8                                     0.251544   \n",
       "9                                     0.740462   \n",
       "10                                    0.648671   \n",
       "\n",
       "    LogicalDisk(_Total) pct_ Disk Read Time  \\\n",
       "3                                 50.987167   \n",
       "4                                 97.789353   \n",
       "8                                 15.300358   \n",
       "9                                 73.621908   \n",
       "10                                62.811001   \n",
       "\n",
       "    LogicalDisk(_Total) Disk Write Bytes sec  \\\n",
       "3                               1.591239e+07   \n",
       "4                               2.360930e+07   \n",
       "8                               1.462362e+07   \n",
       "9                               3.435608e+03   \n",
       "10                              6.107684e+06   \n",
       "\n",
       "    LogicalDisk(_Total) Disk Transfers sec  \\\n",
       "3                               699.499954   \n",
       "4                              1184.550425   \n",
       "8                               439.024507   \n",
       "9                              2808.056763   \n",
       "10                             1128.484878   \n",
       "\n",
       "    LogicalDisk(_Total) Avg  Disk Bytes Transfer  \\\n",
       "3                                    53141.66380   \n",
       "4                                    40988.68444   \n",
       "8                                    65097.94132   \n",
       "9                                     5065.30851   \n",
       "10                                   11238.99345   \n",
       "\n",
       "    LogicalDisk(_Total) pct_ Disk Write Time  \\\n",
       "3                                  25.906233   \n",
       "4                                  10.383619   \n",
       "8                                   9.854080   \n",
       "9                                   0.424339   \n",
       "10                                  2.056146   \n",
       "\n",
       "    LogicalDisk(_Total) Avg  Disk sec Transfer  label    type  \n",
       "3                                     0.001099      0  normal  \n",
       "4                                     0.000913      0  normal  \n",
       "8                                     0.000573      0  normal  \n",
       "9                                     0.000264      0  normal  \n",
       "10                                    0.000575      0  normal  \n",
       "\n",
       "[5 rows x 102 columns]"
      ]
     },
     "execution_count": 42,
     "metadata": {},
     "output_type": "execute_result"
    }
   ],
   "source": [
    "df.head()"
   ]
  },
  {
   "cell_type": "code",
   "execution_count": 43,
   "metadata": {},
   "outputs": [],
   "source": [
    "# Remove the multiple attack types column\n",
    "df = df.drop('type', axis=1)"
   ]
  },
  {
   "cell_type": "markdown",
   "metadata": {},
   "source": [
    "## Seperating independent and dependent variables:"
   ]
  },
  {
   "cell_type": "code",
   "execution_count": 44,
   "metadata": {},
   "outputs": [],
   "source": [
    "# Removing Y and Id\n",
    "X = df.iloc [: ,:-1].values    # independent variables\n",
    "# Keeping only Y\n",
    "y = df.iloc [: , -1].values    # dependent variables"
   ]
  },
  {
   "cell_type": "markdown",
   "metadata": {},
   "source": [
    "## Handling Inf values:\n"
   ]
  },
  {
   "cell_type": "code",
   "execution_count": 45,
   "metadata": {},
   "outputs": [],
   "source": [
    "import numpy as np\n",
    "\n",
    "# find min and max values for each column, ignoring nan, -inf, and inf\n",
    "mins = [np.nanmin(X[:, i][X[:, i] != -np.inf]) for i in range(X.shape[1])]\n",
    "maxs = [np.nanmax(X[:, i][X[:, i] != np.inf]) for i in range(X.shape[1])]\n",
    "\n",
    "# go through matrix one column at a time and replace  + and -infinity \n",
    "# with the max or min for that column\n",
    "for i in range(X.shape[1]):\n",
    "    X[:, i][X[:, i] == -np.inf] = mins[i]\n",
    "    X[:, i][X[:, i] == np.inf] = maxs[i]"
   ]
  },
  {
   "cell_type": "markdown",
   "metadata": {},
   "source": [
    "## Standardizing all numerical columns "
   ]
  },
  {
   "cell_type": "code",
   "execution_count": 46,
   "metadata": {},
   "outputs": [],
   "source": [
    "# feature Scaling\n",
    "sc = MinMaxScaler(feature_range = (0,1))\n",
    "X = sc.fit_transform(X)"
   ]
  },
  {
   "cell_type": "code",
   "execution_count": 47,
   "metadata": {},
   "outputs": [
    {
     "data": {
      "text/plain": [
       "(21858, 101)"
      ]
     },
     "execution_count": 47,
     "metadata": {},
     "output_type": "execute_result"
    }
   ],
   "source": [
    "df.shape"
   ]
  },
  {
   "cell_type": "markdown",
   "metadata": {},
   "source": [
    "# Train test Split"
   ]
  },
  {
   "cell_type": "code",
   "execution_count": 48,
   "metadata": {},
   "outputs": [],
   "source": [
    "from sklearn.model_selection import train_test_split\n",
    "from sklearn.metrics import classification_report\n",
    "\n",
    "X_train, X_test, y_train, y_test = train_test_split(X, y, stratify=y,test_size=0.2)"
   ]
  },
  {
   "cell_type": "markdown",
   "metadata": {},
   "source": [
    "# Supervised Model selection"
   ]
  },
  {
   "cell_type": "code",
   "execution_count": 67,
   "metadata": {},
   "outputs": [],
   "source": [
    "from sklearn import svm\n",
    "from sklearn.ensemble import RandomForestClassifier\n",
    "from sklearn.linear_model import LogisticRegression\n",
    "from sklearn.model_selection import GridSearchCV\n",
    "from sklearn.svm import SVC\n",
    "from sklearn.metrics import accuracy_score, precision_score, recall_score, f1_score\n",
    "from sklearn import metrics\n",
    "from sklearn.metrics import (confusion_matrix, precision_recall_curve, auc, roc_curve, recall_score, \n",
    "                             classification_report, f1_score, average_precision_score, precision_recall_fscore_support)"
   ]
  },
  {
   "cell_type": "code",
   "execution_count": 50,
   "metadata": {},
   "outputs": [],
   "source": [
    "model_params = {\n",
    "    'svm': {\n",
    "        'model': svm.SVC(gamma='auto'),\n",
    "        'params' : {\n",
    "            'C': [10,20,50],\n",
    "            'kernel': ['rbf','poly','sigmoid','linear']\n",
    "        }  \n",
    "    },\n",
    "    'random_forest': {\n",
    "        'model': RandomForestClassifier(),\n",
    "        'params' : {\n",
    "            'n_estimators': [50,100,200],\n",
    "            'max_features': ['auto', 'sqrt', 'log2'],\n",
    "            'max_depth' : [5,15,25],\n",
    "            'criterion' : ['gini', 'entropy']\n",
    "        }\n",
    "    }\n",
    "}"
   ]
  },
  {
   "cell_type": "code",
   "execution_count": 51,
   "metadata": {},
   "outputs": [
    {
     "name": "stdout",
     "output_type": "stream",
     "text": [
      "Execution time: 00:30:47.88\n"
     ]
    }
   ],
   "source": [
    "import time\n",
    "start = time.time()\n",
    "\n",
    "scores = []\n",
    "\n",
    "for model_name, mp in model_params.items():\n",
    "    clf =  GridSearchCV(mp['model'], mp['params'], cv=5, return_train_score=False)\n",
    "    clf.fit(X_train, y_train)\n",
    "    scores.append({\n",
    "        'model': model_name,\n",
    "        'best_score': clf.best_score_,\n",
    "        'best_params': clf.best_params_\n",
    "    })\n",
    "    \n",
    "model_output = pd.DataFrame(scores,columns=['model','best_score','best_params'])\n",
    "\n",
    "\n",
    "end = time.time()\n",
    "hours, rem = divmod(end-start, 3600)\n",
    "minutes, seconds = divmod(rem, 60)\n",
    "print(\"Execution time: \"+\"{:0>2}:{:0>2}:{:05.2f}\".format(int(hours),int(minutes),seconds))"
   ]
  },
  {
   "cell_type": "code",
   "execution_count": 52,
   "metadata": {},
   "outputs": [
    {
     "data": {
      "text/html": [
       "<div>\n",
       "<style scoped>\n",
       "    .dataframe tbody tr th:only-of-type {\n",
       "        vertical-align: middle;\n",
       "    }\n",
       "\n",
       "    .dataframe tbody tr th {\n",
       "        vertical-align: top;\n",
       "    }\n",
       "\n",
       "    .dataframe thead th {\n",
       "        text-align: right;\n",
       "    }\n",
       "</style>\n",
       "<table border=\"1\" class=\"dataframe\">\n",
       "  <thead>\n",
       "    <tr style=\"text-align: right;\">\n",
       "      <th></th>\n",
       "      <th>model</th>\n",
       "      <th>best_score</th>\n",
       "      <th>best_params</th>\n",
       "    </tr>\n",
       "  </thead>\n",
       "  <tbody>\n",
       "    <tr>\n",
       "      <th>0</th>\n",
       "      <td>svm</td>\n",
       "      <td>0.971063</td>\n",
       "      <td>{'C': 50, 'kernel': 'linear'}</td>\n",
       "    </tr>\n",
       "    <tr>\n",
       "      <th>1</th>\n",
       "      <td>random_forest</td>\n",
       "      <td>0.987933</td>\n",
       "      <td>{'criterion': 'entropy', 'max_depth': 25, 'max...</td>\n",
       "    </tr>\n",
       "  </tbody>\n",
       "</table>\n",
       "</div>"
      ],
      "text/plain": [
       "           model  best_score  \\\n",
       "0            svm    0.971063   \n",
       "1  random_forest    0.987933   \n",
       "\n",
       "                                         best_params  \n",
       "0                      {'C': 50, 'kernel': 'linear'}  \n",
       "1  {'criterion': 'entropy', 'max_depth': 25, 'max...  "
      ]
     },
     "execution_count": 52,
     "metadata": {},
     "output_type": "execute_result"
    }
   ],
   "source": [
    "model_output"
   ]
  },
  {
   "cell_type": "code",
   "execution_count": 53,
   "metadata": {},
   "outputs": [
    {
     "data": {
      "text/plain": [
       "{'C': 50, 'kernel': 'linear'}"
      ]
     },
     "execution_count": 53,
     "metadata": {},
     "output_type": "execute_result"
    }
   ],
   "source": [
    "model_output.best_params[0]"
   ]
  },
  {
   "cell_type": "code",
   "execution_count": 58,
   "metadata": {},
   "outputs": [],
   "source": [
    "svm= SVC(gamma='auto',C = 50,kernel = 'linear') \n",
    "svm.fit(X_train, y_train)\n",
    "# Measure model performance\n",
    "y_pred_svm = svm.predict(X_test)"
   ]
  },
  {
   "cell_type": "code",
   "execution_count": 61,
   "metadata": {},
   "outputs": [
    {
     "name": "stdout",
     "output_type": "stream",
     "text": [
      "Test Accuracy: 0.968\n",
      "Test Precision: 0.949\n",
      "Test Recall: 0.990\n",
      "Test F-1: 0.969\n"
     ]
    }
   ],
   "source": [
    "# Calculate the metrics\n",
    "print('Test Accuracy: %.3f' % accuracy_score(y_test, y_pred_svm))\n",
    "print('Test Precision: %.3f' % precision_score(y_test, y_pred_svm))\n",
    "print('Test Recall: %.3f' % recall_score(y_test, y_pred_svm))\n",
    "print('Test F-1: %.3f' % f1_score(y_test, y_pred_svm))"
   ]
  },
  {
   "cell_type": "code",
   "execution_count": 62,
   "metadata": {},
   "outputs": [
    {
     "data": {
      "text/plain": [
       "{'criterion': 'entropy',\n",
       " 'max_depth': 25,\n",
       " 'max_features': 'sqrt',\n",
       " 'n_estimators': 100}"
      ]
     },
     "execution_count": 62,
     "metadata": {},
     "output_type": "execute_result"
    }
   ],
   "source": [
    "model_output.best_params[1]"
   ]
  },
  {
   "cell_type": "code",
   "execution_count": 63,
   "metadata": {},
   "outputs": [],
   "source": [
    "forest=RandomForestClassifier( n_estimators= 100, max_depth=25, criterion='entropy',max_features = 'sqrt')\n",
    "forest.fit(X_train, y_train)\n",
    "# Measure model performance\n",
    "y_pred_rf = forest.predict(X_test)"
   ]
  },
  {
   "cell_type": "code",
   "execution_count": 64,
   "metadata": {},
   "outputs": [
    {
     "name": "stdout",
     "output_type": "stream",
     "text": [
      "Test Accuracy: 0.986\n",
      "Test Precision: 0.974\n",
      "Test Recall: 0.998\n",
      "Test F-1: 0.986\n"
     ]
    }
   ],
   "source": [
    "# Calculate the metrics\n",
    "print('Test Accuracy: %.3f' % accuracy_score(y_test, y_pred_rf))\n",
    "print('Test Precision: %.3f' % precision_score(y_test, y_pred_rf))\n",
    "print('Test Recall: %.3f' % recall_score(y_test, y_pred_rf))\n",
    "print('Test F-1: %.3f' % f1_score(y_test, y_pred_rf))"
   ]
  },
  {
   "cell_type": "markdown",
   "metadata": {},
   "source": [
    "Between the two supervised model random forest is the clear winner and the test accuracy is 98.6%."
   ]
  },
  {
   "cell_type": "code",
   "execution_count": 68,
   "metadata": {},
   "outputs": [],
   "source": [
    "# Random forest\n",
    "forest.fit(X_train, y_train)\n",
    "y_pred_prob_rf = forest.predict_proba(X_test)[:,1]\n",
    "fpr_rf, tpr_rf, thresholds_rf = roc_curve(y_test, y_pred_prob_rf)\n",
    "roc_auc_rf = auc(fpr_rf, tpr_rf)\n",
    "precision_rf, recall_rf, th_rf = precision_recall_curve(y_test, y_pred_prob_rf)"
   ]
  },
  {
   "cell_type": "code",
   "execution_count": 69,
   "metadata": {},
   "outputs": [],
   "source": [
    "# SVM \n",
    "modelSVMlinear=svm.SVC(gamma='auto',C = 50,kernel = 'linear', probability=True)\n",
    "modelSVMlinear.fit(X_train, y_train)\n",
    "y_pred_prob_SVMlinear = modelSVMlinear.predict_proba(X_test)[:,1]\n",
    "fpr_SVMlinear, tpr_SVMlinear, thresholds_SVMlinear = roc_curve(y_test, y_pred_prob_SVMlinear)\n",
    "roc_auc_SVMlinear = auc(fpr_SVMlinear, tpr_SVMlinear)\n",
    "precision_SVMlinear, recall_SVMlinear, th_SVMlinear = precision_recall_curve(y_test, y_pred_prob_SVMlinear)"
   ]
  },
  {
   "cell_type": "code",
   "execution_count": 70,
   "metadata": {},
   "outputs": [
    {
     "data": {
      "image/png": "[encoded data removed]",
      "text/plain": [
       "<Figure size 432x288 with 1 Axes>"
      ]
     },
     "metadata": {
      "needs_background": "light"
     },
     "output_type": "display_data"
    }
   ],
   "source": [
    "# Plot ROC curve\n",
    "plt.plot([0, 1], [0, 1], 'k--')\n",
    "plt.plot(fpr_SVMlinear, tpr_SVMlinear, label='SVM linear (area = %0.3f)' % roc_auc_SVMlinear)\n",
    "plt.plot(fpr_rf, tpr_rf, label='RF (area = %0.3f)' % roc_auc_rf)\n",
    "plt.xlabel('False Positive Rate')\n",
    "plt.ylabel('True Positive Rate')\n",
    "plt.title('ROC curves from the investigated models')\n",
    "plt.legend(loc='best')\n",
    "plt.show()"
   ]
  },
  {
   "cell_type": "markdown",
   "metadata": {},
   "source": [
    "# Unsupervised modelling:"
   ]
  },
  {
   "cell_type": "markdown",
   "metadata": {},
   "source": [
    "## SOM"
   ]
  },
  {
   "cell_type": "code",
   "execution_count": 82,
   "metadata": {},
   "outputs": [],
   "source": [
    "import numpy as np\n",
    "import matplotlib.pyplot as plt\n",
    "import pandas as pd\n",
    "# Minisom library and module is used for performing Self Organizing Maps\n",
    "from minisom import MiniSom\n",
    "from sklearn.base import BaseEstimator, TransformerMixin"
   ]
  },
  {
   "cell_type": "code",
   "execution_count": 85,
   "metadata": {},
   "outputs": [],
   "source": [
    "class MiniSomWrapper(BaseEstimator, TransformerMixin):\n",
    "    def __init__(self, som_shape=(1, 2), sigma=1.0, learning_rate=0.5, neighborhood_function='gaussian'):\n",
    "        self.som_shape = som_shape\n",
    "        self.sigma = sigma\n",
    "        self.learning_rate = learning_rate\n",
    "        self.neighborhood_function = neighborhood_function\n",
    "        self.som = None\n",
    "\n",
    "    def fit(self, X, y=None):\n",
    "        self.som = MiniSom(self.som_shape[0], self.som_shape[1], X.shape[1],\n",
    "                           sigma=self.sigma, learning_rate=self.learning_rate,\n",
    "                           neighborhood_function=self.neighborhood_function)\n",
    "        self.som.pca_weights_init(X)\n",
    "        self.som.train_random(X, 100, verbose=False)\n",
    "        return self\n",
    "\n",
    "    def transform(self, X):\n",
    "        return classify(self.som, X)\n",
    "\n",
    "    def predict(self, X):\n",
    "        return self.transform(X)"
   ]
  },
  {
   "cell_type": "code",
   "execution_count": 91,
   "metadata": {},
   "outputs": [
    {
     "name": "stdout",
     "output_type": "stream",
     "text": [
      "Execution time: 00:01:31.28\n"
     ]
    }
   ],
   "source": [
    "start = time.time()\n",
    "# Define the parameter grid\n",
    "param_grid = {\n",
    "    'sigma': [1,2, 4, 6],\n",
    "    'learning_rate': [.05,0.1, 0.5, 0.8],\n",
    "    'neighborhood_function': ['gaussian', 'triangle']\n",
    "}\n",
    "\n",
    "# Create an instance of the MiniSomWrapper model\n",
    "som = MiniSomWrapper(som_shape=(1, 2))\n",
    "\n",
    "# Create a grid search object\n",
    "grid_search = GridSearchCV(som, param_grid, scoring='accuracy', cv=10)\n",
    "\n",
    "# Fit the grid search to the training data\n",
    "grid_search.fit(X_train, y_train)\n",
    "\n",
    "end = time.time()\n",
    "hours, rem = divmod(end-start, 3600)\n",
    "minutes, seconds = divmod(rem, 60)\n",
    "print(\"Execution time: \"+\"{:0>2}:{:0>2}:{:05.2f}\".format(int(hours),int(minutes),seconds))"
   ]
  },
  {
   "cell_type": "code",
   "execution_count": 92,
   "metadata": {},
   "outputs": [
    {
     "name": "stdout",
     "output_type": "stream",
     "text": [
      "Best Parameters: {'learning_rate': 0.1, 'neighborhood_function': 'gaussian', 'sigma': 1}\n"
     ]
    }
   ],
   "source": [
    "# Print the best parameters and the corresponding classification report\n",
    "print(\"Best Parameters:\", grid_search.best_params_)"
   ]
  },
  {
   "cell_type": "code",
   "execution_count": 93,
   "metadata": {},
   "outputs": [
    {
     "name": "stdout",
     "output_type": "stream",
     "text": [
      "Test Accuracy: 0.826\n",
      "Test Precision: 0.742\n",
      "Test Recall: 1.000\n",
      "Test F-1: 0.852\n"
     ]
    }
   ],
   "source": [
    "# Calculate the metrics\n",
    "print('Test Accuracy: %.3f' % accuracy_score(y_test, classify(grid_search.best_estimator_.som, X_test)))\n",
    "print('Test Precision: %.3f' % precision_score(y_test, classify(grid_search.best_estimator_.som, X_test)))\n",
    "print('Test Recall: %.3f' % recall_score(y_test, classify(grid_search.best_estimator_.som, X_test)))\n",
    "print('Test F-1: %.3f' % f1_score(y_test, classify(grid_search.best_estimator_.som, X_test)))"
   ]
  },
  {
   "cell_type": "markdown",
   "metadata": {},
   "source": [
    "## K-means clustering "
   ]
  },
  {
   "cell_type": "code",
   "execution_count": 99,
   "metadata": {},
   "outputs": [],
   "source": [
    "from sklearn.cluster import KMeans\n",
    "from sklearn.metrics import accuracy_score, precision_score, recall_score, f1_score\n",
    "from sklearn.model_selection import GridSearchCV\n",
    "\n"
   ]
  },
  {
   "cell_type": "code",
   "execution_count": null,
   "metadata": {},
   "outputs": [],
   "source": [
    "start = time.time()\n",
    "\n",
    "# Define the parameter grid\n",
    "param_grid = {\n",
    "    'n_init': [50, 100, 200],\n",
    "    'init': ['k-means++', 'random'],\n",
    "    'algorithm': ['auto', 'full', 'elkan']\n",
    "}\n",
    "\n",
    "# Create the KMeans instance\n",
    "kmeans = KMeans(n_clusters = 2)\n",
    "\n",
    "# Create the GridSearchCV instance\n",
    "grid_search = GridSearchCV(estimator=kmeans, param_grid=param_grid, cv=10)\n",
    "\n",
    "# Fit the data to perform grid search\n",
    "grid_search.fit(X_train)\n",
    "\n",
    "# Get the best parameters and the best model\n",
    "best_params = grid_search.best_params_\n",
    "best_model = grid_search.best_estimator_\n",
    "\n",
    "# Fit the best model on the data\n",
    "best_model.fit(X_train)\n",
    "\n",
    "# Predict the cluster labels\n",
    "labels = best_model.predict(X_test)\n",
    "\n",
    "end = time.time()\n",
    "hours, rem = divmod(end-start, 3600)\n",
    "minutes, seconds = divmod(rem, 60)\n",
    "print(\"Execution time: \"+\"{:0>2}:{:0>2}:{:05.2f}\".format(int(hours),int(minutes),seconds))"
   ]
  },
  {
   "cell_type": "code",
   "execution_count": null,
   "metadata": {},
   "outputs": [],
   "source": [
    "# Print the best parameters and score\n",
    "print(\"Best Parameters: \", grid_search.best_params_)\n",
    "print(\"Best Score: \", grid_search.best_score_)"
   ]
  },
  {
   "cell_type": "code",
   "execution_count": null,
   "metadata": {},
   "outputs": [],
   "source": [
    "# Calculate the evaluation metrics\n",
    "accuracy = accuracy_score(y_test, labels)\n",
    "precision = precision_score(y_test, labels, average='macro')\n",
    "recall = recall_score(y_test, labels, average='macro')\n",
    "f_score = f1_score(y_test, labels, average='macro')\n",
    "\n",
    "# Print the evaluation metrics\n",
    "print(\"Accuracy: \", accuracy)\n",
    "print(\"Precision: \", precision)\n",
    "print(\"Recall: \", recall)\n",
    "print(\"F-score: \", f_score)"
   ]
  },
  {
   "cell_type": "code",
   "execution_count": null,
   "metadata": {},
   "outputs": [],
   "source": []
  },
  {
   "cell_type": "code",
   "execution_count": null,
   "metadata": {},
   "outputs": [],
   "source": []
  },
  {
   "cell_type": "code",
   "execution_count": null,
   "metadata": {},
   "outputs": [],
   "source": []
  },
  {
   "cell_type": "code",
   "execution_count": 362,
   "metadata": {},
   "outputs": [],
   "source": [
    "#Now let's open it with pandas\n",
    "import pandas as pd\n",
    "from pandas import Series,DataFrame\n",
    "from scipy import stats\n",
    "import matplotlib.pyplot as plt\n",
    "import seaborn as sns\n",
    "from sklearn.preprocessing import StandardScaler\n",
    "\n",
    "import numpy as np\n",
    "from sklearn.cluster import AgglomerativeClustering\n",
    "import scipy.cluster.hierarchy as shc\n",
    "from sklearn.cluster import KMeans\n",
    "from sklearn.cluster import DBSCAN\n",
    "from sklearn import metrics \n",
    "\n",
    "\n",
    "import warnings\n",
    "warnings.filterwarnings('ignore')"
   ]
  },
  {
   "cell_type": "code",
   "execution_count": 363,
   "metadata": {},
   "outputs": [],
   "source": [
    "def k_means_fit(covariates,centroid_method):\n",
    "    data = pd.DataFrame(covariates)\n",
    "    # from sklearn.cluster import KMeans \n",
    "    clusters = 2\n",
    "    number_of_iteration = 100\n",
    "    kmeans = KMeans(n_clusters = clusters,n_init= number_of_iteration,init = centroid_method,algorithm = \"full\") \n",
    "    kmeans.fit(data) \n",
    "    \n",
    "    y_labels_test = kmeans.predict(X_test)\n",
    "    tab = pd.crosstab(index=y_test, columns=y_labels_test)\n",
    "    print (metrics.classification_report(y_test,y_labels_test))"
   ]
  },
  {
   "cell_type": "code",
   "execution_count": 364,
   "metadata": {},
   "outputs": [
    {
     "name": "stdout",
     "output_type": "stream",
     "text": [
      "              precision    recall  f1-score   support\n",
      "\n",
      "           0       0.24      0.31      0.27      2186\n",
      "           1       0.00      0.00      0.00      2186\n",
      "\n",
      "    accuracy                           0.16      4372\n",
      "   macro avg       0.12      0.16      0.14      4372\n",
      "weighted avg       0.12      0.16      0.14      4372\n",
      "\n"
     ]
    }
   ],
   "source": [
    "k_means_fit(X_train,centroid_method = \"random\")"
   ]
  },
  {
   "cell_type": "markdown",
   "metadata": {},
   "source": [
    "# Hierchical clustering "
   ]
  },
  {
   "cell_type": "code",
   "execution_count": 365,
   "metadata": {},
   "outputs": [
    {
     "name": "stdout",
     "output_type": "stream",
     "text": [
      "              precision    recall  f1-score   support\n",
      "\n",
      "           0       0.86      0.70      0.77      2186\n",
      "           1       0.74      0.88      0.81      2186\n",
      "\n",
      "    accuracy                           0.79      4372\n",
      "   macro avg       0.80      0.79      0.79      4372\n",
      "weighted avg       0.80      0.79      0.79      4372\n",
      "\n"
     ]
    }
   ],
   "source": [
    "from sklearn.cluster import AgglomerativeClustering\n",
    "cluster = AgglomerativeClustering(n_clusters=2, affinity='euclidean', linkage='ward')  \n",
    "cluster.fit_predict(X_test)\n",
    "print (metrics.classification_report(y_test,cluster.labels_))"
   ]
  },
  {
   "cell_type": "markdown",
   "metadata": {},
   "source": [
    "# Result"
   ]
  },
  {
   "cell_type": "markdown",
   "metadata": {},
   "source": [
    "Among these three clustering methods K-means clustering giving us the best classification accuracy which is 84%."
   ]
  },
  {
   "cell_type": "code",
   "execution_count": 366,
   "metadata": {},
   "outputs": [
    {
     "data": {
      "text/plain": [
       "(17486,)"
      ]
     },
     "execution_count": 366,
     "metadata": {},
     "output_type": "execute_result"
    }
   ],
   "source": [
    "y_train.shape"
   ]
  },
  {
   "cell_type": "code",
   "execution_count": 367,
   "metadata": {},
   "outputs": [
    {
     "data": {
      "text/plain": [
       "(4372,)"
      ]
     },
     "execution_count": 367,
     "metadata": {},
     "output_type": "execute_result"
    }
   ],
   "source": [
    "y_test.shape"
   ]
  },
  {
   "cell_type": "code",
   "execution_count": null,
   "metadata": {},
   "outputs": [],
   "source": []
  }
 ],
 "metadata": {
  "kernelspec": {
   "display_name": "Python 3",
   "language": "python",
   "name": "python3"
  },
  "language_info": {
   "codemirror_mode": {
    "name": "ipython",
    "version": 3
   },
   "file_extension": ".py",
   "mimetype": "text/x-python",
   "name": "python",
   "nbconvert_exporter": "python",
   "pygments_lexer": "ipython3",
   "version": "3.7.6"
  }
 },
 "nbformat": 4,
 "nbformat_minor": 5
}
